{
 "cells": [
  {
   "cell_type": "markdown",
   "metadata": {},
   "source": [
    "# Twenty Twenty Wine Merchants\n",
    "Scraping completed May 29, 2020<br>\n",
    "https://2020wines.com/"
   ]
  },
  {
   "cell_type": "code",
   "execution_count": 1,
   "metadata": {},
   "outputs": [],
   "source": [
    "import os\n",
    "import requests\n",
    "import numpy as np\n",
    "from bs4 import BeautifulSoup\n",
    "from pprint import pprint\n",
    "import pandas as pd\n",
    "import pickle\n",
    "import time\n",
    "import json"
   ]
  },
  {
   "cell_type": "markdown",
   "metadata": {},
   "source": [
    "# Get Requests from 2020\n",
    "Each grouping in 2020wines has an option to list all. Used each grouping to split up the data for the for loops"
   ]
  },
  {
   "cell_type": "code",
   "execution_count": 9,
   "metadata": {},
   "outputs": [],
   "source": [
    "# url_american = 'https://2020wines.com/american-wines?limit=all'\n",
    "# url_france = 'https://2020wines.com/french-wines?limit=all'\n",
    "# url_italy = 'https://2020wines.com/italian-wines?limit=all'\n",
    "# url_argentina = 'https://2020wines.com/international-wines/argentina'\n",
    "# url_australia = 'https://2020wines.com/international-wines/australia'\n",
    "# url_chile = 'https://2020wines.com/international-wines/chile'\n",
    "# url_hungary = 'https://2020wines.com/international-wines/hungary'\n",
    "# url_maderia = 'https://2020wines.com/international-wines/madeira'\n",
    "# url_portugal = 'https://2020wines.com/international-wines/portugal'\n",
    "# url_port = 'https://2020wines.com/international-wines/portuguese-port?limit=all'\n",
    "# url_spain = 'https://2020wines.com/international-wines/spain'\n",
    "# url_ws = 'https://2020wines.com/wine-spectator?limit=all'\n",
    "# url_hr = 'https://2020wines.com/highly-rated?limit=all'\n",
    "\n",
    "res = requests.get(url)\n",
    "soup = BeautifulSoup(res.content, 'lxml')"
   ]
  },
  {
   "cell_type": "code",
   "execution_count": null,
   "metadata": {},
   "outputs": [],
   "source": []
  },
  {
   "cell_type": "code",
   "execution_count": null,
   "metadata": {
    "scrolled": true
   },
   "outputs": [],
   "source": [
    "each_listing = soup.find('div', {'class': 'category-products'})\n",
    "\n",
    "wines = []\n",
    "\n",
    "for wine_listing in each_listing.find_all('h2'):\n",
    "\n",
    "    wine = {}\n",
    "\n",
    "    wine['name'] = wine_listing.find('a').text\n",
    "    wine['url'] = wine_listing.find('a')['href']\n",
    "    \n",
    "    time.sleep(1)\n",
    "    wines.append(wine)  \n"
   ]
  },
  {
   "cell_type": "code",
   "execution_count": null,
   "metadata": {},
   "outputs": [],
   "source": [
    "len(wines)"
   ]
  },
  {
   "cell_type": "code",
   "execution_count": null,
   "metadata": {},
   "outputs": [],
   "source": [
    "all_info = []\n",
    "\n",
    "for wine in wines:\n",
    "#     print('scraping {}'.format(wine['name']))\n",
    "    \n",
    "    url = wine['url']\n",
    "    wine_res = requests.get(url)\n",
    "    wine_soup = BeautifulSoup(wine_res.content, 'lxml')\n",
    "    \n",
    "    for row in wine_soup.find_all('div', {'class': 'product-view'}):\n",
    "        specs = {}\n",
    "        \n",
    "        all_td = row.find_all('td')\n",
    "        \n",
    "        specs['name'] = wine['name']\n",
    "        \n",
    "        if all_td[0].text:\n",
    "            specs['vintage'] = all_td[0].text\n",
    "        else: None \n",
    "          \n",
    "        if all_td[1].text:\n",
    "            specs['producer'] = all_td[1].text\n",
    "        else: None \n",
    "            \n",
    "        if all_td[2].text:\n",
    "            specs['grape'] = all_td[2].text\n",
    "        else: None\n",
    "            \n",
    "        if all_td[3].text:\n",
    "            specs['designation'] = all_td[3].text\n",
    "        else: None\n",
    "            \n",
    "        if all_td[7].text:\n",
    "            specs['color'] = all_td[7].text\n",
    "        else: None\n",
    "            \n",
    "        if all_td[8].text:\n",
    "            specs['region'] = all_td[8].text\n",
    "        else: None\n",
    "            \n",
    "        if all_td[9].text:\n",
    "            specs['subregion'] = all_td[9].text\n",
    "        else: None\n",
    "        \n",
    "        if row.find('span', {'class': 'price'}):\n",
    "            specs['price'] = row.find('span', {'class': 'price'}).text.strip()\n",
    "        else: None\n",
    "        \n",
    "        if row.find('div', {'class': 'wine-review'}):\n",
    "            specs['review'] = row.find('div', {'class': 'wine-review'}).text.strip()\n",
    "        else: None\n",
    "        \n",
    "        specs['url'] = wine['url']\n",
    "            \n",
    "        time.sleep(1)\n",
    "        \n",
    "        all_info.append(specs)"
   ]
  },
  {
   "cell_type": "markdown",
   "metadata": {},
   "source": [
    "# Save each DataFrame \n",
    "Add country as an addtional column since we split the data up this way. May or may not use `country` column later.<br>\n",
    "Comment out after saving `csv` to avoid overriding the file."
   ]
  },
  {
   "cell_type": "code",
   "execution_count": null,
   "metadata": {},
   "outputs": [],
   "source": [
    "pd.set_option('display.max_columns', None)"
   ]
  },
  {
   "cell_type": "code",
   "execution_count": null,
   "metadata": {},
   "outputs": [],
   "source": [
    "# usa_df = pd.DataFrame(all_info)\n",
    "# usa_df['country'] = 'usa'\n",
    "# usa_df.to_csv('../data/2020_wines/usa_df.csv', index=False)\n",
    "usa_df.shape"
   ]
  },
  {
   "cell_type": "code",
   "execution_count": null,
   "metadata": {},
   "outputs": [],
   "source": [
    "# france_df = pd.DataFrame(all_info)\n",
    "# france_df['country'] = 'france'\n",
    "# france_df.to_csv('../data/2020_wines/france_df.csv', index=False)\n",
    "france_df.head()"
   ]
  },
  {
   "cell_type": "code",
   "execution_count": null,
   "metadata": {},
   "outputs": [],
   "source": [
    "# italy_df = pd.DataFrame(all_info)\n",
    "# italy_df['country'] = 'italy'\n",
    "# italy_df.to_csv('../data/2020_wines/italy_df.csv', index=False)\n",
    "italy_df.shape"
   ]
  },
  {
   "cell_type": "code",
   "execution_count": null,
   "metadata": {},
   "outputs": [],
   "source": [
    "# argentina_df = pd.DataFrame(all_info)\n",
    "# argentina_df['country'] = 'argentina'\n",
    "# argentina_df.to_csv('../data/2020_wines/argentina_df.csv', index=False)\n",
    "argentina_df.head()"
   ]
  },
  {
   "cell_type": "code",
   "execution_count": null,
   "metadata": {},
   "outputs": [],
   "source": [
    "# australia_df = pd.DataFrame(all_info)\n",
    "# australia_df['country'] = 'australia'\n",
    "# australia_df.to_csv('../data/2020_wines/australia_df.csv', index=False)\n",
    "australia_df.head()"
   ]
  },
  {
   "cell_type": "code",
   "execution_count": null,
   "metadata": {},
   "outputs": [],
   "source": [
    "# chile_df = pd.DataFrame(all_info)\n",
    "# chile_df['country'] = 'chile'\n",
    "# chile_df.to_csv('../data/2020_wines/chile_df.csv', index=False)\n",
    "chile_df.head()"
   ]
  },
  {
   "cell_type": "code",
   "execution_count": null,
   "metadata": {},
   "outputs": [],
   "source": [
    "# hungary_df = pd.DataFrame(all_info)\n",
    "# hungary_df['country'] = 'hungary'\n",
    "# hungary_df.to_csv('../data/2020_wines/hungary_df.csv', index=False)\n",
    "hungary_df.head()"
   ]
  },
  {
   "cell_type": "code",
   "execution_count": null,
   "metadata": {},
   "outputs": [],
   "source": [
    "# maderia_df = pd.DataFrame(all_info)\n",
    "# maderia_df['country'] = 'portugal'\n",
    "# maderia_df['review'] = ''\n",
    "# maderia_df['grape'] = maderia_df['designation']\n",
    "    # the designation is actually the grape, designation was all listed as maderia\n",
    "# maderia_df.to_csv('../data/2020_wines/maderia_df.csv', index=False)\n",
    "maderia_df.shape"
   ]
  },
  {
   "cell_type": "code",
   "execution_count": null,
   "metadata": {},
   "outputs": [],
   "source": [
    "# portugal_df = pd.DataFrame(all_info)\n",
    "# portugal_df['country'] = 'portugal'\n",
    "# portugal_df.to_csv('../data/2020_wines/portugal_df.csv', index=False)\n",
    "portugal_df.head()"
   ]
  },
  {
   "cell_type": "code",
   "execution_count": null,
   "metadata": {},
   "outputs": [],
   "source": [
    "# port_df = pd.DataFrame(all_info)\n",
    "# port_df['country'] = 'portugal'\n",
    "# port_df.to_csv('../data/2020_wines/port_df.csv', index=False)\n",
    "port_df.shape"
   ]
  },
  {
   "cell_type": "code",
   "execution_count": null,
   "metadata": {
    "scrolled": true
   },
   "outputs": [],
   "source": [
    "# spain_df = pd.DataFrame(all_info)\n",
    "# spain_df['country'] = 'spain'\n",
    "# spain_df.to_csv('../data/2020_wines/spain_df.csv', index=False)\n",
    "spain_df.shape"
   ]
  },
  {
   "cell_type": "markdown",
   "metadata": {},
   "source": [
    "This category contains wines from the Top 100 list from WineSpectator and various countries. Each country was added into the column and the DataFrame was saved with this additional information that was not scraped from https://2020wines.com/wine-spectator. There are some errors in the list as well. Grapes are not listed correctly from some of the categories. For example Chateauneuf-Du-Pape, Douro, and Maderia are both regions not grapes. This might not be important as the recommender will be using Doc2Vec and will be looking for word similarities. I will see if this becomes and issue later. "
   ]
  },
  {
   "cell_type": "code",
   "execution_count": null,
   "metadata": {},
   "outputs": [],
   "source": [
    "# ws_df = pd.DataFrame(all_info)\n",
    "# ws_df['country'] = ''\n",
    "# ws_df.to_csv('../data/2020_wines/ws_df.csv', index=False) \n",
    "ws_df.loc[0, ('country')] = 'france'\n",
    "ws_df.loc[1, ('country')] = 'usa'\n",
    "ws_df.loc[2:5, ('country')] = 'france'\n",
    "ws_df.loc[6:7, ('country')] = 'portugal'\n",
    "ws_df.loc[8:9, ('country')] = 'france'\n",
    "ws_df.loc[10, ('country')] = 'portugal'\n",
    "ws_df.loc[11, ('country')] = 'australia'\n",
    "ws_df.loc[12, ('country')] = 'france'\n",
    "ws_df.loc[13, ('country')] = 'hungary'\n",
    "ws_df.loc[14, ('country')] = 'france'\n",
    "ws_df.loc[15, ('country')] = 'italy'\n",
    "ws_df.loc[16:17, ('country')] = 'france'\n",
    "ws_df.loc[18, ('country')] = 'italy'\n",
    "ws_df.loc[19:21 , ('country')] = 'france'\n",
    "ws_df.loc[22:23, ('country')] = 'italy'\n",
    "ws_df.loc[24, ('country')] = 'france'\n",
    "ws_df.loc[25, ('country')] = 'spain'\n",
    "ws_df.loc[26, ('country')] = 'france'\n",
    "ws_df.loc[27, ('country')] = 'portugal'\n",
    "ws_df.loc[28:29, ('country')] = 'italy'\n",
    "ws_df.loc[30, ('country')] = 'usa'\n",
    "ws_df.loc[31, ('country')] = 'spain'\n",
    "ws_df.loc[32:33, ('country')] = 'france'\n",
    "ws_df.loc[34:35, ('country')] = 'italy'\n",
    "ws_df.loc[36, ('country')] = 'france'\n",
    "ws_df.loc[37, ('country')] = 'spain'\n",
    "ws_df.loc[38, ('country')] = 'argentina'\n",
    "ws_df.loc[39, ('country')] = 'chile'\n",
    "ws_df.loc[40, ('country')] = 'portugal'\n",
    "\n",
    "ws_df.shape"
   ]
  },
  {
   "cell_type": "markdown",
   "metadata": {},
   "source": [
    "This category has highly rated items from https://2020wines.com/highly-rated. The country column was added to each line and some lines were dropped. 2020wines also sells spirts so some of these items were highly rated spirts. "
   ]
  },
  {
   "cell_type": "code",
   "execution_count": null,
   "metadata": {
    "scrolled": true
   },
   "outputs": [],
   "source": [
    "hr_df = pd.DataFrame(all_info)\n",
    "hr_df['country'] = ''\n",
    "# hr_df.to_csv('../data/2020_wines/hr_df.csv', index=False)\n",
    "hr_df.loc[0, 'country'] = 'italy'\n",
    "hr_df.loc[1:2, 'country'] = 'france'\n",
    "hr_df.loc[3, 'country'] = 'italy'\n",
    "hr_df.drop(4, inplace=True) # this is cognac\n",
    "hr_df.loc[5, 'country'] = 'italy'\n",
    "hr_df.loc[6, 'country'] = 'france'\n",
    "hr_df.loc[7, 'country'] = 'usa'\n",
    "hr_df.loc[8, 'country'] = 'portugal'\n",
    "hr_df.loc[9:10, 'country'] = 'usa'\n",
    "hr_df.loc[11, 'country'] = 'italy'\n",
    "hr_df.loc[12:13, 'country'] = 'france'\n",
    "hr_df.loc[14, 'country'] = 'portugal'\n",
    "hr_df.loc[15:17, 'country'] = 'france'\n",
    "hr_df.loc[18:19, 'country'] = 'italy'\n",
    "hr_df.loc[20:21, 'country'] = 'france'\n",
    "hr_df.loc[22, 'country'] = 'italy'\n",
    "hr_df.loc[23, 'country'] = 'france'\n",
    "hr_df.loc[24, 'country'] = 'italy'\n",
    "hr_df.loc[25, 'country'] = 'france'\n",
    "hr_df.loc[26, 'country'] = 'usa'\n",
    "hr_df.loc[27, 'country'] = 'italy'\n",
    "hr_df.loc[28:29, 'country'] = 'france'\n",
    "hr_df.drop(30, inplace=True) # this is Blantons whiskey\n",
    "hr_df.loc[31:32, 'country'] = 'usa'\n",
    "hr_df.loc[33, 'country'] = 'france'\n",
    "hr_df.loc[34:35, 'country'] = 'usa'\n",
    "hr_df.loc[36, 'country'] = 'france'\n",
    "hr_df.drop(37, inplace=True) # this was cognac\n",
    "hr_df.loc[38, 'country'] = 'france'\n",
    "hr_df.loc[39:40, 'country'] = 'italy'\n",
    "hr_df.loc[41, 'country'] = 'france'\n",
    "hr_df.loc[42, 'country'] = 'portugal'\n",
    "hr_df.loc[43, 'country'] = 'italy'\n",
    "hr_df.loc[44, 'country'] = 'portugal'\n",
    "hr_df.loc[45:46, 'country'] = 'france'\n",
    "hr_df.loc[47, 'country'] = 'portugal'\n",
    "hr_df.loc[48, 'country'] = 'usa'\n",
    "hr_df.loc[49, 'country'] = 'italy'\n",
    "hr_df.loc[50, 'country'] = 'france'\n",
    "hr_df.loc[51, 'country'] = 'italy'\n",
    "hr_df.loc[52:53, 'country'] = 'france'\n",
    "hr_df.loc[54, 'country'] = 'spain'\n",
    "hr_df.loc[55, 'country'] = 'france'\n",
    "hr_df.drop(56, inplace=True) # this is cognac\n",
    "hr_df.loc[57:58, 'country'] = 'france'\n",
    "hr_df.loc[59:60, 'country'] = 'australia'\n",
    "hr_df.loc[61, 'country'] = 'usa'\n",
    "hr_df.loc[62, 'country'] = 'portugal'\n",
    "hr_df.loc[63:64, 'country'] = 'france'\n",
    "hr_df.loc[65:66, 'country'] = 'portugal'\n",
    "hr_df.loc[67, 'country'] = 'france'\n",
    "hr_df.loc[68, 'country'] = 'portugal'\n",
    "hr_df.loc[69, 'country'] = 'france'\n",
    "hr_df.loc[70, 'country'] = 'portugal'\n",
    "hr_df.loc[71, 'country'] = 'hungary'\n",
    "hr_df.loc[72, 'country'] = 'italy'\n",
    "hr_df.loc[73:78, 'country'] = 'france'\n",
    "hr_df.loc[79:80, 'country'] = 'italy'\n",
    "\n",
    "hr_df.isnull().sum()"
   ]
  },
  {
   "cell_type": "markdown",
   "metadata": {},
   "source": [
    "## Combine all the DataFrames"
   ]
  },
  {
   "cell_type": "code",
   "execution_count": null,
   "metadata": {},
   "outputs": [],
   "source": [
    "list_all = [argentina_df, australia_df, chile_df, france_df, hr_df,\n",
    "           hungary_df, italy_df, maderia_df, port_df, portugal_df, spain_df, \n",
    "           usa_df, ws_df]"
   ]
  },
  {
   "cell_type": "code",
   "execution_count": null,
   "metadata": {},
   "outputs": [],
   "source": [
    "all_2020_df = pd.concat(list_all)"
   ]
  },
  {
   "cell_type": "code",
   "execution_count": null,
   "metadata": {},
   "outputs": [],
   "source": [
    "# all_2020_df.to_csv('../data/2020_wines/all_2020_df.csv', index=False)"
   ]
  },
  {
   "cell_type": "code",
   "execution_count": null,
   "metadata": {},
   "outputs": [],
   "source": []
  }
 ],
 "metadata": {
  "kernelspec": {
   "display_name": "Python 3",
   "language": "python",
   "name": "python3"
  },
  "language_info": {
   "codemirror_mode": {
    "name": "ipython",
    "version": 3
   },
   "file_extension": ".py",
   "mimetype": "text/x-python",
   "name": "python",
   "nbconvert_exporter": "python",
   "pygments_lexer": "ipython3",
   "version": "3.7.6"
  }
 },
 "nbformat": 4,
 "nbformat_minor": 4
}
