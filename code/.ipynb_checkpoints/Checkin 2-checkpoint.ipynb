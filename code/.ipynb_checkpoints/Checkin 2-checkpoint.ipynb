{
 "cells": [
  {
   "cell_type": "markdown",
   "metadata": {},
   "source": [
    "## Capstone Check-in 2"
   ]
  },
  {
   "cell_type": "markdown",
   "metadata": {},
   "source": [
    "#### Problem Statement:\n",
    "Taking inputs for what a person is looking for in terms of wine and outputting recommendations and where to buy"
   ]
  },
  {
   "cell_type": "code",
   "execution_count": 2,
   "metadata": {},
   "outputs": [],
   "source": [
    "import pandas as pd"
   ]
  },
  {
   "cell_type": "code",
   "execution_count": 3,
   "metadata": {},
   "outputs": [],
   "source": [
    "#https://www.kaggle.com/zynicide/wine-reviews\n",
    "# data from WineEnthusiast week of June 15, 2017\n",
    "# maybe use other data set is more recent and more robus"
   ]
  },
  {
   "cell_type": "code",
   "execution_count": 4,
   "metadata": {},
   "outputs": [],
   "source": [
    "wine = pd.read_csv('../data/wine-reviews/winemag-data_first150k.csv')\n",
    "wine.drop(columns = 'Unnamed: 0', inplace=True)\n",
    "# (150930, 10)"
   ]
  },
  {
   "cell_type": "code",
   "execution_count": 5,
   "metadata": {},
   "outputs": [],
   "source": [
    "# https://github.com/activatedgeek/winemag-dataset\n",
    "# pulled from WineEnthusiast Feb 17, 2019"
   ]
  },
  {
   "cell_type": "code",
   "execution_count": 6,
   "metadata": {},
   "outputs": [],
   "source": [
    "df_8 = pd.read_csv('../data/winemag/winemag-1-800.csv')\n",
    "df_16 = pd.read_csv('../data/winemag/winemag-801-1600.csv')\n",
    "df_24 = pd.read_csv('../data/winemag/winemag-1601-2400.csv')\n",
    "df_32 = pd.read_csv('../data/winemag/winemag-2401-3200.csv')\n",
    "df_40 = pd.read_csv('../data/winemag/winemag-3201-4000.csv')\n",
    "df_48 = pd.read_csv('../data/winemag/winemag-4001-4800.csv')\n",
    "df_56 = pd.read_csv('../data/winemag/winemag-4801-5600.csv')\n",
    "df_64 = pd.read_csv('../data/winemag/winemag-5601-6400.csv')\n",
    "df_72 = pd.read_csv('../data/winemag/winemag-6401-7200.csv')\n",
    "df_80 = pd.read_csv('../data/winemag/winemag-7201-8000.csv')\n",
    "df_88 = pd.read_csv('../data/winemag/winemag-8001-8800.csv')\n",
    "df_96 = pd.read_csv('../data/winemag/winemag-8801-9600.csv')\n",
    "df_104 = pd.read_csv('../data/winemag/winemag-9601-10400.csv')\n",
    "df_112 = pd.read_csv('../data/winemag/winemag-10401-11200.csv')\n",
    "df_120 = pd.read_csv('../data/winemag/winemag-11201-12000.csv')\n",
    "df_128 = pd.read_csv('../data/winemag/winemag-12001-12800.csv')"
   ]
  },
  {
   "cell_type": "code",
   "execution_count": 7,
   "metadata": {},
   "outputs": [],
   "source": [
    "winemag = [df_8, df_16, df_24, df_32, \n",
    "           df_40, df_48, df_56, df_64, \n",
    "           df_72, df_80, df_88, df_96, \n",
    "           df_104, df_112, df_120, df_128]"
   ]
  },
  {
   "cell_type": "code",
   "execution_count": 9,
   "metadata": {},
   "outputs": [],
   "source": [
    "winemag_df = pd.concat(winemag)"
   ]
  },
  {
   "cell_type": "code",
   "execution_count": 31,
   "metadata": {},
   "outputs": [],
   "source": [
    "winemag_df.to_csv('../data/winemag_concat.csv', index=False)"
   ]
  },
  {
   "cell_type": "code",
   "execution_count": 10,
   "metadata": {},
   "outputs": [
    {
     "data": {
      "text/plain": [
       "(248358, 15)"
      ]
     },
     "execution_count": 10,
     "metadata": {},
     "output_type": "execute_result"
    }
   ],
   "source": [
    "winemag_df.shape"
   ]
  },
  {
   "cell_type": "code",
   "execution_count": 22,
   "metadata": {},
   "outputs": [
    {
     "data": {
      "text/html": [
       "<div>\n",
       "<style scoped>\n",
       "    .dataframe tbody tr th:only-of-type {\n",
       "        vertical-align: middle;\n",
       "    }\n",
       "\n",
       "    .dataframe tbody tr th {\n",
       "        vertical-align: top;\n",
       "    }\n",
       "\n",
       "    .dataframe thead th {\n",
       "        text-align: right;\n",
       "    }\n",
       "</style>\n",
       "<table border=\"1\" class=\"dataframe\">\n",
       "  <thead>\n",
       "    <tr style=\"text-align: right;\">\n",
       "      <th></th>\n",
       "      <th>alcohol</th>\n",
       "      <th>category</th>\n",
       "      <th>country</th>\n",
       "      <th>description</th>\n",
       "      <th>designation</th>\n",
       "      <th>price</th>\n",
       "      <th>rating</th>\n",
       "      <th>region</th>\n",
       "      <th>subregion</th>\n",
       "      <th>subsubregion</th>\n",
       "      <th>title</th>\n",
       "      <th>url</th>\n",
       "      <th>varietal</th>\n",
       "      <th>vintage</th>\n",
       "      <th>winery</th>\n",
       "    </tr>\n",
       "  </thead>\n",
       "  <tbody>\n",
       "    <tr>\n",
       "      <th>0</th>\n",
       "      <td>13.0</td>\n",
       "      <td>White</td>\n",
       "      <td>Austria</td>\n",
       "      <td>Heady, aromatic highlights of candied lemon pe...</td>\n",
       "      <td>Ried Kellerberg</td>\n",
       "      <td>NaN</td>\n",
       "      <td>96</td>\n",
       "      <td>Wachau</td>\n",
       "      <td>NaN</td>\n",
       "      <td>NaN</td>\n",
       "      <td>Pichler-Krutzler 2017 Ried Kellerberg Riesling...</td>\n",
       "      <td>https://www.winemag.com/buying-guide/pichler-k...</td>\n",
       "      <td>Riesling</td>\n",
       "      <td>2017.0</td>\n",
       "      <td>Pichler-Krutzler</td>\n",
       "    </tr>\n",
       "    <tr>\n",
       "      <th>1</th>\n",
       "      <td>13.2</td>\n",
       "      <td>Red</td>\n",
       "      <td>US</td>\n",
       "      <td>This is among winemaker Cathy Corison's finest...</td>\n",
       "      <td>Kronos Vineyard</td>\n",
       "      <td>185.0</td>\n",
       "      <td>95</td>\n",
       "      <td>California</td>\n",
       "      <td>Napa</td>\n",
       "      <td>St. Helena</td>\n",
       "      <td>Corison 2015 Kronos Vineyard Cabernet Sauvigno...</td>\n",
       "      <td>https://www.winemag.com/buying-guide/corison-2...</td>\n",
       "      <td>Cabernet Sauvignon</td>\n",
       "      <td>2015.0</td>\n",
       "      <td>Corison</td>\n",
       "    </tr>\n",
       "    <tr>\n",
       "      <th>2</th>\n",
       "      <td>15.0</td>\n",
       "      <td>Red</td>\n",
       "      <td>Italy</td>\n",
       "      <td>Enticing scents of spiced plum, pipe tobacco, ...</td>\n",
       "      <td>Vigneto Monte Sant'Urbano</td>\n",
       "      <td>80.0</td>\n",
       "      <td>94</td>\n",
       "      <td>Veneto</td>\n",
       "      <td>Amarone della Valpolicella Classico</td>\n",
       "      <td>NaN</td>\n",
       "      <td>Speri 2013 Vigneto Monte Sant'Urbano  (Amarone...</td>\n",
       "      <td>https://www.winemag.com/buying-guide/speri-201...</td>\n",
       "      <td>Red Blend</td>\n",
       "      <td>2013.0</td>\n",
       "      <td>Speri</td>\n",
       "    </tr>\n",
       "    <tr>\n",
       "      <th>3</th>\n",
       "      <td>14.1</td>\n",
       "      <td>Red</td>\n",
       "      <td>US</td>\n",
       "      <td>Bright, crunchy red fruit effuses ripeness in ...</td>\n",
       "      <td>Foss Vineyard</td>\n",
       "      <td>62.0</td>\n",
       "      <td>94</td>\n",
       "      <td>California</td>\n",
       "      <td>Sonoma</td>\n",
       "      <td>Russian River Valley</td>\n",
       "      <td>Williams Selyem 2016 Foss Vineyard Pinot Noir ...</td>\n",
       "      <td>https://www.winemag.com/buying-guide/williams-...</td>\n",
       "      <td>Pinot Noir</td>\n",
       "      <td>2016.0</td>\n",
       "      <td>Williams Selyem</td>\n",
       "    </tr>\n",
       "    <tr>\n",
       "      <th>4</th>\n",
       "      <td>14.1</td>\n",
       "      <td>White</td>\n",
       "      <td>US</td>\n",
       "      <td>This white has an expert level of intensity an...</td>\n",
       "      <td>Dutton Ranch Walker Hill Vineyard</td>\n",
       "      <td>50.0</td>\n",
       "      <td>94</td>\n",
       "      <td>California</td>\n",
       "      <td>Sonoma</td>\n",
       "      <td>Green Valley</td>\n",
       "      <td>Dutton-Goldfield 2016 Dutton Ranch Walker Hill...</td>\n",
       "      <td>https://www.winemag.com/buying-guide/dutton-go...</td>\n",
       "      <td>Chardonnay</td>\n",
       "      <td>2016.0</td>\n",
       "      <td>Dutton-Goldfield</td>\n",
       "    </tr>\n",
       "  </tbody>\n",
       "</table>\n",
       "</div>"
      ],
      "text/plain": [
       "   alcohol category  country  \\\n",
       "0     13.0    White  Austria   \n",
       "1     13.2      Red       US   \n",
       "2     15.0      Red    Italy   \n",
       "3     14.1      Red       US   \n",
       "4     14.1    White       US   \n",
       "\n",
       "                                         description  \\\n",
       "0  Heady, aromatic highlights of candied lemon pe...   \n",
       "1  This is among winemaker Cathy Corison's finest...   \n",
       "2  Enticing scents of spiced plum, pipe tobacco, ...   \n",
       "3  Bright, crunchy red fruit effuses ripeness in ...   \n",
       "4  This white has an expert level of intensity an...   \n",
       "\n",
       "                         designation  price  rating      region  \\\n",
       "0                    Ried Kellerberg    NaN      96      Wachau   \n",
       "1                    Kronos Vineyard  185.0      95  California   \n",
       "2          Vigneto Monte Sant'Urbano   80.0      94      Veneto   \n",
       "3                      Foss Vineyard   62.0      94  California   \n",
       "4  Dutton Ranch Walker Hill Vineyard   50.0      94  California   \n",
       "\n",
       "                             subregion          subsubregion  \\\n",
       "0                                  NaN                   NaN   \n",
       "1                                 Napa            St. Helena   \n",
       "2  Amarone della Valpolicella Classico                   NaN   \n",
       "3                               Sonoma  Russian River Valley   \n",
       "4                               Sonoma          Green Valley   \n",
       "\n",
       "                                               title  \\\n",
       "0  Pichler-Krutzler 2017 Ried Kellerberg Riesling...   \n",
       "1  Corison 2015 Kronos Vineyard Cabernet Sauvigno...   \n",
       "2  Speri 2013 Vigneto Monte Sant'Urbano  (Amarone...   \n",
       "3  Williams Selyem 2016 Foss Vineyard Pinot Noir ...   \n",
       "4  Dutton-Goldfield 2016 Dutton Ranch Walker Hill...   \n",
       "\n",
       "                                                 url            varietal  \\\n",
       "0  https://www.winemag.com/buying-guide/pichler-k...            Riesling   \n",
       "1  https://www.winemag.com/buying-guide/corison-2...  Cabernet Sauvignon   \n",
       "2  https://www.winemag.com/buying-guide/speri-201...           Red Blend   \n",
       "3  https://www.winemag.com/buying-guide/williams-...          Pinot Noir   \n",
       "4  https://www.winemag.com/buying-guide/dutton-go...          Chardonnay   \n",
       "\n",
       "   vintage            winery  \n",
       "0   2017.0  Pichler-Krutzler  \n",
       "1   2015.0           Corison  \n",
       "2   2013.0             Speri  \n",
       "3   2016.0   Williams Selyem  \n",
       "4   2016.0  Dutton-Goldfield  "
      ]
     },
     "execution_count": 22,
     "metadata": {},
     "output_type": "execute_result"
    }
   ],
   "source": [
    "winemag_df.head()"
   ]
  },
  {
   "cell_type": "markdown",
   "metadata": {},
   "source": [
    "## Next steps "
   ]
  },
  {
   "cell_type": "markdown",
   "metadata": {},
   "source": [
    "The next steps will be to make recommender based on this data. This has both techninical specs for region, varietal, vintage and winery, etc.... Subjective notes on ratings and descriptions. I will need to convert all words to numbers. I could use Tfidf, CountVec, or explore the Word2Vec/Doc2Vec and LDA models as we did in the Client Project. I will explore these using a smaller subet set of the dataframe for time and then run on the larger data when I have a method that I like. <br>\n",
    "After this, I would like to create a Flask app to take in parameters of what someone is looking for and find wines for them. Taking it one step further, perhaps linking those to Astor or other popular wineshops for purchase and maybe DC shops/Bars. <br>\n",
    "The restaurants I was working at is doing a 'pick for you' wine box. They have the customer submit a poem, styles they like, or any text based theme and the somms are curating wines. It could be fun to see if my recommender can do the same thing and given the text, see if my \n"
   ]
  },
  {
   "cell_type": "code",
   "execution_count": null,
   "metadata": {},
   "outputs": [],
   "source": []
  },
  {
   "cell_type": "code",
   "execution_count": null,
   "metadata": {},
   "outputs": [],
   "source": []
  },
  {
   "cell_type": "code",
   "execution_count": null,
   "metadata": {},
   "outputs": [],
   "source": []
  },
  {
   "cell_type": "code",
   "execution_count": null,
   "metadata": {},
   "outputs": [],
   "source": []
  },
  {
   "cell_type": "code",
   "execution_count": null,
   "metadata": {},
   "outputs": [],
   "source": []
  }
 ],
 "metadata": {
  "kernelspec": {
   "display_name": "Python 3",
   "language": "python",
   "name": "python3"
  },
  "language_info": {
   "codemirror_mode": {
    "name": "ipython",
    "version": 3
   },
   "file_extension": ".py",
   "mimetype": "text/x-python",
   "name": "python",
   "nbconvert_exporter": "python",
   "pygments_lexer": "ipython3",
   "version": "3.7.6"
  }
 },
 "nbformat": 4,
 "nbformat_minor": 4
}
