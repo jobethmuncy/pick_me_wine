{
 "cells": [
  {
   "cell_type": "markdown",
   "metadata": {},
   "source": [
    "# Astor pages\n",
    "Scraping completed on May 27, 2020<br>\n",
    "Here each page of https://www.astorwines.com/ will be scraped for detailed information about each wine. The url for each wine has been scraped and in the `astor_producer.ipynb` file, pickled, and saved. "
   ]
  },
  {
   "cell_type": "code",
   "execution_count": 4,
   "metadata": {},
   "outputs": [],
   "source": [
    "import os\n",
    "import requests\n",
    "import numpy as np\n",
    "from bs4 import BeautifulSoup\n",
    "from pprint import pprint\n",
    "import pandas as pd\n",
    "import pickle\n",
    "import time\n",
    "import json"
   ]
  },
  {
   "cell_type": "markdown",
   "metadata": {},
   "source": [
    "Open each group of saved urls, run them through the function, and concat them into one DataFrame. "
   ]
  },
  {
   "cell_type": "code",
   "execution_count": 8,
   "metadata": {},
   "outputs": [],
   "source": [
    "with open('../data/astor_txt/1801-1900.txt', 'rb') as fp:\n",
    "    b = pickle.load(fp)"
   ]
  },
  {
   "cell_type": "code",
   "execution_count": 555,
   "metadata": {},
   "outputs": [],
   "source": [
    "def get_wines(url):\n",
    "    wines = []\n",
    "\n",
    "    for wine in url: \n",
    "        res = requests.get(wine)\n",
    "        soup = BeautifulSoup(res.content, 'lxml')\n",
    "        time.sleep(5)\n",
    "\n",
    "        for info in soup.find_all('div', {'class': 'item-profile-title'}):\n",
    "    #         print(info)\n",
    "            spec = {}\n",
    "\n",
    "            spec['name'] = soup.find('h1', {'class': 'page-title'}).text\n",
    "\n",
    "            if soup.find('a', {'id': 'ctl00_ctl00_middleContent_pageContent_lnkbProducer'}):\n",
    "                spec['producer'] = soup.find('a', {'id': 'ctl00_ctl00_middleContent_pageContent_lnkbProducer'}).text\n",
    "            else: None\n",
    "\n",
    "            if soup.find('a', {'id': 'ctl00_ctl00_middleContent_pageContent_lnkbVintage'}):\n",
    "                spec['vintage'] = soup.find('a', {'id': 'ctl00_ctl00_middleContent_pageContent_lnkbVintage'}).text\n",
    "            else: None\n",
    "\n",
    "            if soup.find('span', {'class': 'item-size-number pull-right text-muted'}):\n",
    "                spec['bottle_size'] = soup.find('span', {'class': 'item-size-number pull-right text-muted'}).text\n",
    "            else: None\n",
    "\n",
    "            if soup.find('a', {'id': 'ctl00_ctl00_middleContent_pageContent_lnkbColor'}):\n",
    "                spec['color'] = soup.find('a', {'id': 'ctl00_ctl00_middleContent_pageContent_lnkbColor'}).text\n",
    "            else: None\n",
    "\n",
    "            if soup.find('span', {'class': 'price-value price-bottle'}):\n",
    "                spec['price'] = soup.find('span', {'class': 'price-value price-bottle'}).text\n",
    "            else: None\n",
    "\n",
    "            if soup.find('a', {'id': 'ctl00_ctl00_middleContent_pageContent_lnkbCountry'}):\n",
    "                spec['country'] = soup.find('a', {'id': 'ctl00_ctl00_middleContent_pageContent_lnkbCountry'}).text\n",
    "            else: None\n",
    "\n",
    "            if soup.find('a', {'id': 'ctl00_ctl00_middleContent_pageContent_lnkbRegion'}):\n",
    "                spec['region'] = soup.find('a', {'id': 'ctl00_ctl00_middleContent_pageContent_lnkbRegion'}).text\n",
    "            else: None \n",
    "\n",
    "            if soup.find('a', {'id': 'ctl00_ctl00_middleContent_pageContent_lnkbSubRegion'}):\n",
    "                spec['sub_region'] = soup.find('a', {'id': 'ctl00_ctl00_middleContent_pageContent_lnkbSubRegion'}).text\n",
    "            else: None\n",
    "\n",
    "            if soup.find('a', {'id': 'ctl00_ctl00_middleContent_pageContent_lnkbGrape1'}):\n",
    "                spec['grape_1'] = soup.find('a', {'id': 'ctl00_ctl00_middleContent_pageContent_lnkbGrape1'}).text\n",
    "            else: None\n",
    "\n",
    "            if soup.find('a', {'id': 'ctl00_ctl00_middleContent_pageContent_lnkbGrape2'}):\n",
    "                spec['grape_2'] = soup.find('a', {'id': 'ctl00_ctl00_middleContent_pageContent_lnkbGrape2'}).text\n",
    "            else: None\n",
    "\n",
    "            if soup.find('a', {'id': 'ctl00_ctl00_middleContent_pageContent_lnkbGrape3'}):\n",
    "                spec['grape_3'] = soup.find('a', {'id': 'ctl00_ctl00_middleContent_pageContent_lnkbGrape3'}).text\n",
    "            else: None\n",
    "\n",
    "            if soup.find('a', {'id': 'ctl00_ctl00_middleContent_pageContent_lnkbGrape4'}):\n",
    "                spec['grape_4'] = soup.find('a', {'id': 'ctl00_ctl00_middleContent_pageContent_lnkbGrape4'}).text\n",
    "            else: None\n",
    "\n",
    "            if soup.find('a', {'id': 'ctl00_ctl00_middleContent_pageContent_lnkbGrape5'}):\n",
    "                spec['grape_5'] = soup.find('a', {'id': 'ctl00_ctl00_middleContent_pageContent_lnkbGrape5'}).text\n",
    "            else: None\n",
    "\n",
    "            if soup.find('span', {'id': 'ctl00_ctl00_middleContent_pageContent_lblDescr'}):\n",
    "                spec['tasting_notes'] = soup.find('span', {'id': 'ctl00_ctl00_middleContent_pageContent_lblDescr'}).text\n",
    "            else: None\n",
    "\n",
    "            if soup.find('div', {'class': 'item-profile-staff-pick'}):\n",
    "                spec['staff_tasting'] = soup.find('div', {'class': 'item-profile-staff-pick'}).text\n",
    "            else: None\n",
    "\n",
    "            spec['url'] = wine\n",
    "\n",
    "            wines.append(spec)\n",
    "            \n",
    "    return pd.DataFrame(wines)\n",
    "    "
   ]
  },
  {
   "cell_type": "code",
   "execution_count": null,
   "metadata": {
    "scrolled": true
   },
   "outputs": [],
   "source": [
    "df19_end = get_wines(b_run)"
   ]
  },
  {
   "cell_type": "markdown",
   "metadata": {},
   "source": [
    "# Concat DataFrames\n",
    "There is not rate limit on this site but even with the timer the function was not able to run too many wines at a time. Smaller segments work and occassionally a higher timer setting. I saved each section to the DataFrames as they ran. "
   ]
  },
  {
   "cell_type": "code",
   "execution_count": 137,
   "metadata": {},
   "outputs": [],
   "source": [
    "df_first = pd.concat([df_50, df_100], ignore_index=True, sort =False)"
   ]
  },
  {
   "cell_type": "code",
   "execution_count": null,
   "metadata": {},
   "outputs": [],
   "source": [
    "df2_list = [df_150, df_26_50, df_51_75, df_75_125, df_126_end]\n",
    "df_second = pd.concat(df2_list, ignore_index=True, sort=False) "
   ]
  },
  {
   "cell_type": "code",
   "execution_count": 30,
   "metadata": {
    "scrolled": true
   },
   "outputs": [],
   "source": [
    "df3_list = [df3_25, df3_50, df3_100, df3_end]\n",
    "df_third = pd.concat(df3_list, ignore_index=True, sort=False)"
   ]
  },
  {
   "cell_type": "code",
   "execution_count": 30,
   "metadata": {},
   "outputs": [],
   "source": [
    "df4_list = [df4_50, df4_100, df4_end]\n",
    "df_fourth = pd.concat(df4_list, ignore_index=True, sort=False)"
   ]
  },
  {
   "cell_type": "code",
   "execution_count": 9,
   "metadata": {
    "scrolled": true
   },
   "outputs": [
    {
     "ename": "NameError",
     "evalue": "name 'df5_50' is not defined",
     "output_type": "error",
     "traceback": [
      "\u001b[0;31m---------------------------------------------------------------------------\u001b[0m",
      "\u001b[0;31mNameError\u001b[0m                                 Traceback (most recent call last)",
      "\u001b[0;32m<ipython-input-9-ac8639abcd0e>\u001b[0m in \u001b[0;36m<module>\u001b[0;34m\u001b[0m\n\u001b[0;32m----> 1\u001b[0;31m \u001b[0mdf5_list\u001b[0m \u001b[0;34m=\u001b[0m \u001b[0;34m[\u001b[0m\u001b[0mdf5_50\u001b[0m\u001b[0;34m,\u001b[0m \u001b[0mdf5_75\u001b[0m\u001b[0;34m,\u001b[0m \u001b[0mdf5_100\u001b[0m\u001b[0;34m,\u001b[0m \u001b[0mdf5_end\u001b[0m\u001b[0;34m]\u001b[0m\u001b[0;34m\u001b[0m\u001b[0;34m\u001b[0m\u001b[0m\n\u001b[0m\u001b[1;32m      2\u001b[0m \u001b[0mdf_fifth\u001b[0m \u001b[0;34m=\u001b[0m \u001b[0mpd\u001b[0m\u001b[0;34m.\u001b[0m\u001b[0mconcat\u001b[0m\u001b[0;34m(\u001b[0m\u001b[0mdf5_list\u001b[0m\u001b[0;34m,\u001b[0m \u001b[0mignore_index\u001b[0m\u001b[0;34m=\u001b[0m\u001b[0;32mTrue\u001b[0m\u001b[0;34m,\u001b[0m \u001b[0msort\u001b[0m\u001b[0;34m=\u001b[0m\u001b[0;32mFalse\u001b[0m\u001b[0;34m)\u001b[0m\u001b[0;34m\u001b[0m\u001b[0;34m\u001b[0m\u001b[0m\n",
      "\u001b[0;31mNameError\u001b[0m: name 'df5_50' is not defined"
     ]
    }
   ],
   "source": [
    "df5_list = [df5_50, df5_75, df5_100, df5_end]\n",
    "df_fifth = pd.concat(df5_list, ignore_index=True, sort=False)"
   ]
  },
  {
   "cell_type": "code",
   "execution_count": 103,
   "metadata": {},
   "outputs": [
    {
     "data": {
      "text/plain": [
       "(176, 16)"
      ]
     },
     "execution_count": 103,
     "metadata": {},
     "output_type": "execute_result"
    }
   ],
   "source": [
    "df6_list = [df6_50, df6_100, df6_150, df6_end]\n",
    "df_sixth = pd.concat(df6_list, ignore_index=True, sort=False) "
   ]
  },
  {
   "cell_type": "code",
   "execution_count": 129,
   "metadata": {
    "scrolled": true
   },
   "outputs": [
    {
     "data": {
      "text/plain": [
       "(157, 16)"
      ]
     },
     "execution_count": 129,
     "metadata": {},
     "output_type": "execute_result"
    }
   ],
   "source": [
    "df7_list = [df7_50, df7_100, df7_end]\n",
    "df_seventh = pd.concat(df7_list, ignore_index=True, sort=False) "
   ]
  },
  {
   "cell_type": "code",
   "execution_count": 157,
   "metadata": {},
   "outputs": [
    {
     "data": {
      "text/plain": [
       "(161, 16)"
      ]
     },
     "execution_count": 157,
     "metadata": {},
     "output_type": "execute_result"
    }
   ],
   "source": [
    "df8_list = [df8_50, df8_100, df8_end]\n",
    "df_eight = pd.concat(df8_list, ignore_index=True, sort=False)"
   ]
  },
  {
   "cell_type": "code",
   "execution_count": 182,
   "metadata": {
    "scrolled": true
   },
   "outputs": [
    {
     "data": {
      "text/plain": [
       "(219, 16)"
      ]
     },
     "execution_count": 182,
     "metadata": {},
     "output_type": "execute_result"
    }
   ],
   "source": [
    "df9_list = [df9_50, df9_100, df9_150, df9_end]\n",
    "df_nine = pd.concat(df9_list, ignore_index=True, sort=False) "
   ]
  },
  {
   "cell_type": "code",
   "execution_count": 2,
   "metadata": {},
   "outputs": [
    {
     "ename": "NameError",
     "evalue": "name 'df10_50' is not defined",
     "output_type": "error",
     "traceback": [
      "\u001b[0;31m---------------------------------------------------------------------------\u001b[0m",
      "\u001b[0;31mNameError\u001b[0m                                 Traceback (most recent call last)",
      "\u001b[0;32m<ipython-input-2-38242a4c10cc>\u001b[0m in \u001b[0;36m<module>\u001b[0;34m\u001b[0m\n\u001b[0;32m----> 1\u001b[0;31m \u001b[0mdf10_list\u001b[0m \u001b[0;34m=\u001b[0m \u001b[0;34m[\u001b[0m\u001b[0mdf10_50\u001b[0m\u001b[0;34m,\u001b[0m \u001b[0mdf10_100\u001b[0m\u001b[0;34m,\u001b[0m \u001b[0mdf10_175\u001b[0m\u001b[0;34m,\u001b[0m \u001b[0mdf10_end\u001b[0m\u001b[0;34m]\u001b[0m\u001b[0;34m\u001b[0m\u001b[0;34m\u001b[0m\u001b[0m\n\u001b[0m\u001b[1;32m      2\u001b[0m \u001b[0mdf_ten\u001b[0m \u001b[0;34m=\u001b[0m \u001b[0mpd\u001b[0m\u001b[0;34m.\u001b[0m\u001b[0mconcat\u001b[0m\u001b[0;34m(\u001b[0m\u001b[0mdf10_list\u001b[0m\u001b[0;34m,\u001b[0m \u001b[0mignore_index\u001b[0m\u001b[0;34m=\u001b[0m\u001b[0;32mTrue\u001b[0m\u001b[0;34m,\u001b[0m \u001b[0msort\u001b[0m\u001b[0;34m=\u001b[0m\u001b[0;32mFalse\u001b[0m\u001b[0;34m)\u001b[0m \u001b[0;31m# Y 187\u001b[0m\u001b[0;34m\u001b[0m\u001b[0;34m\u001b[0m\u001b[0m\n\u001b[1;32m      3\u001b[0m \u001b[0mdf_ten\u001b[0m\u001b[0;34m.\u001b[0m\u001b[0mshape\u001b[0m\u001b[0;34m\u001b[0m\u001b[0;34m\u001b[0m\u001b[0m\n",
      "\u001b[0;31mNameError\u001b[0m: name 'df10_50' is not defined"
     ]
    }
   ],
   "source": [
    "df10_list = [df10_50, df10_100, df10_175, df10_end]\n",
    "df_ten = pd.concat(df10_list, ignore_index=True, sort=False) "
   ]
  },
  {
   "cell_type": "code",
   "execution_count": 246,
   "metadata": {},
   "outputs": [
    {
     "data": {
      "text/plain": [
       "(144, 16)"
      ]
     },
     "execution_count": 246,
     "metadata": {},
     "output_type": "execute_result"
    }
   ],
   "source": [
    "df11_list = [df11_50, df11_100, df11_end]\n",
    "df_eleven = pd.concat(df11_list, ignore_index=True, sort=False) "
   ]
  },
  {
   "cell_type": "code",
   "execution_count": 270,
   "metadata": {},
   "outputs": [
    {
     "data": {
      "text/plain": [
       "(168, 16)"
      ]
     },
     "execution_count": 270,
     "metadata": {},
     "output_type": "execute_result"
    }
   ],
   "source": [
    "df12_list = [df12_50, df12_100, df12_end]\n",
    "df_twelve = pd.concat(df12_list, ignore_index=True, sort=False) "
   ]
  },
  {
   "cell_type": "code",
   "execution_count": 328,
   "metadata": {},
   "outputs": [
    {
     "data": {
      "text/plain": [
       "(185, 16)"
      ]
     },
     "execution_count": 328,
     "metadata": {},
     "output_type": "execute_result"
    }
   ],
   "source": [
    "df13_list = [df13_25, df13_50, df13_75, df13_100, df13_125, df13_150, df13_end]\n",
    "df_thirteen = pd.concat(df13_list, ignore_index=True, sort=False)"
   ]
  },
  {
   "cell_type": "code",
   "execution_count": 377,
   "metadata": {},
   "outputs": [
    {
     "data": {
      "text/plain": [
       "(170, 16)"
      ]
     },
     "execution_count": 377,
     "metadata": {},
     "output_type": "execute_result"
    }
   ],
   "source": [
    "df14_list = [df14_50, df14_75, df14_100, df14_130, df14_end]\n",
    "df_fourteen = pd.concat(df14_list, ignore_index=True, sort=False) "
   ]
  },
  {
   "cell_type": "code",
   "execution_count": 420,
   "metadata": {},
   "outputs": [
    {
     "data": {
      "text/plain": [
       "(191, 16)"
      ]
     },
     "execution_count": 420,
     "metadata": {},
     "output_type": "execute_result"
    }
   ],
   "source": [
    "df15_list = [df15_25, df15_60, df15_100, df15_130, df15_160, df15_end ]\n",
    "df_fifteen = pd.concat(df15_list, ignore_index=True, sort=False) "
   ]
  },
  {
   "cell_type": "code",
   "execution_count": 462,
   "metadata": {},
   "outputs": [
    {
     "data": {
      "text/plain": [
       "(203, 16)"
      ]
     },
     "execution_count": 462,
     "metadata": {},
     "output_type": "execute_result"
    }
   ],
   "source": [
    "df16_list = [df16_30, df16_60, df16_100, df16_140, df16_170, df16_185, df16_end]\n",
    "df_sixteen = pd.concat(df16_list, ignore_index=True, sort=False)"
   ]
  },
  {
   "cell_type": "code",
   "execution_count": 493,
   "metadata": {},
   "outputs": [
    {
     "data": {
      "text/plain": [
       "(150, 16)"
      ]
     },
     "execution_count": 493,
     "metadata": {},
     "output_type": "execute_result"
    }
   ],
   "source": [
    "df17_list = [df17_40, df17_80, df17_120, df17_end]\n",
    "df_seventeen = pd.concat(df17_list, ignore_index=True, sort=False) "
   ]
  },
  {
   "cell_type": "code",
   "execution_count": 536,
   "metadata": {
    "scrolled": true
   },
   "outputs": [
    {
     "data": {
      "text/plain": [
       "(177, 15)"
      ]
     },
     "execution_count": 536,
     "metadata": {},
     "output_type": "execute_result"
    }
   ],
   "source": [
    "df18_list = [df18_40, df18_70, df18_100, df18_135, df18_end]\n",
    "df_eighteen = pd.concat(df18_list, ignore_index=True, sort=False) "
   ]
  },
  {
   "cell_type": "code",
   "execution_count": 557,
   "metadata": {},
   "outputs": [
    {
     "data": {
      "text/plain": [
       "(125, 16)"
      ]
     },
     "execution_count": 557,
     "metadata": {},
     "output_type": "execute_result"
    }
   ],
   "source": [
    "df19_list = [df19_40, df19_80, df19_100, df19_125]\n",
    "df_nineteen = pd.concat(df19_list, ignore_index=True, sort=False) "
   ]
  },
  {
   "cell_type": "markdown",
   "metadata": {},
   "source": [
    "# Save each group to data folder \n",
    "I comment these out when I am not using them to make sure I do not overwrite them accidentally. <br>\n",
    "In the data folder, these have been renamed to `df_#.csv` and moved into a the folder `astor_data`."
   ]
  },
  {
   "cell_type": "code",
   "execution_count": 81,
   "metadata": {},
   "outputs": [],
   "source": [
    "# df0_100.to_csv('../data/df0_100.csv')"
   ]
  },
  {
   "cell_type": "code",
   "execution_count": 139,
   "metadata": {},
   "outputs": [],
   "source": [
    "# df_second.to_csv('../data/df_second.csv')"
   ]
  },
  {
   "cell_type": "code",
   "execution_count": 31,
   "metadata": {},
   "outputs": [],
   "source": [
    "# df_third.to_csv('../data/df_third.csv')"
   ]
  },
  {
   "cell_type": "code",
   "execution_count": 31,
   "metadata": {},
   "outputs": [],
   "source": [
    "# df_fourth.to_csv('../data/df_fourth.csv') "
   ]
  },
  {
   "cell_type": "code",
   "execution_count": 70,
   "metadata": {},
   "outputs": [],
   "source": [
    "# df_fifth.to_csv('../data/df_fifth.csv')"
   ]
  },
  {
   "cell_type": "code",
   "execution_count": 98,
   "metadata": {},
   "outputs": [],
   "source": [
    "# df_sixth.to_csv('../data/df_sixth.csv')"
   ]
  },
  {
   "cell_type": "code",
   "execution_count": 125,
   "metadata": {},
   "outputs": [],
   "source": [
    "# df_seventh.to_csv('../data/df_seventh.csv')"
   ]
  },
  {
   "cell_type": "code",
   "execution_count": 149,
   "metadata": {},
   "outputs": [],
   "source": [
    "# df_eight.to_csv('../data/df_eight.csv')"
   ]
  },
  {
   "cell_type": "code",
   "execution_count": 177,
   "metadata": {},
   "outputs": [],
   "source": [
    "# df_nine.to_csv('../data/df_nine.csv')"
   ]
  },
  {
   "cell_type": "code",
   "execution_count": 217,
   "metadata": {},
   "outputs": [],
   "source": [
    "# df_ten.to_csv('../data/df_ten.csv')"
   ]
  },
  {
   "cell_type": "code",
   "execution_count": 242,
   "metadata": {},
   "outputs": [],
   "source": [
    "# df_eleven.to_csv('../data/df_eleven.csv')"
   ]
  },
  {
   "cell_type": "code",
   "execution_count": 265,
   "metadata": {},
   "outputs": [],
   "source": [
    "# df_twelve.to_csv('../data/df_twelve.csv')"
   ]
  },
  {
   "cell_type": "code",
   "execution_count": 320,
   "metadata": {},
   "outputs": [],
   "source": [
    "# df_thirteen.to_csv('../data/df_thirteen.csv')"
   ]
  },
  {
   "cell_type": "code",
   "execution_count": 363,
   "metadata": {},
   "outputs": [],
   "source": [
    "# df_fourteen.to_csv('../data/df_fourteen.csv')"
   ]
  },
  {
   "cell_type": "code",
   "execution_count": 411,
   "metadata": {},
   "outputs": [],
   "source": [
    "# df_fifteen.to_csv('../data/df_fifteen.csv')"
   ]
  },
  {
   "cell_type": "code",
   "execution_count": 463,
   "metadata": {},
   "outputs": [],
   "source": [
    "# df_sixteen.to_csv('../data/df_sixteen.csv')"
   ]
  },
  {
   "cell_type": "code",
   "execution_count": 489,
   "metadata": {},
   "outputs": [],
   "source": [
    "# df_seventeen.to_csv('../data/df_seventeen.csv')"
   ]
  },
  {
   "cell_type": "code",
   "execution_count": 528,
   "metadata": {},
   "outputs": [],
   "source": [
    "# df_eighteen.to_csv('../data/df_eighteen.csv')"
   ]
  },
  {
   "cell_type": "code",
   "execution_count": 558,
   "metadata": {},
   "outputs": [],
   "source": [
    "# df_nineteen.to_csv('../data/df_nineteen.csv')"
   ]
  },
  {
   "cell_type": "markdown",
   "metadata": {},
   "source": [
    "# Combine all DataFrames into one for Astor"
   ]
  },
  {
   "cell_type": "code",
   "execution_count": 17,
   "metadata": {},
   "outputs": [],
   "source": [
    "df_1 = pd.read_csv('../data/astor_data/df_1.csv')\n",
    "df_2 = pd.read_csv('../data/astor_data/df_2.csv')\n",
    "df_3 = pd.read_csv('../data/astor_data/df_3.csv')\n",
    "df_4 = pd.read_csv('../data/astor_data/df_4.csv')\n",
    "df_5 = pd.read_csv('../data/astor_data/df_5.csv')\n",
    "df_6 = pd.read_csv('../data/astor_data/df_6.csv')\n",
    "df_7 = pd.read_csv('../data/astor_data/df_7.csv')\n",
    "df_8 = pd.read_csv('../data/astor_data/df_8.csv')\n",
    "df_9 = pd.read_csv('../data/astor_data/df_9.csv')\n",
    "df_10 = pd.read_csv('../data/astor_data/df_10.csv')\n",
    "df_11 = pd.read_csv('../data/astor_data/df_11.csv')\n",
    "df_12 = pd.read_csv('../data/astor_data/df_12.csv')\n",
    "df_13 = pd.read_csv('../data/astor_data/df_13.csv')\n",
    "df_14 = pd.read_csv('../data/astor_data/df_14.csv')\n",
    "df_15 = pd.read_csv('../data/astor_data/df_15.csv')\n",
    "df_16 = pd.read_csv('../data/astor_data/df_16.csv')\n",
    "df_17 = pd.read_csv('../data/astor_data/df_17.csv')\n",
    "df_18 = pd.read_csv('../data/astor_data/df_18.csv')\n",
    "df_19 = pd.read_csv('../data/astor_data/df_19.csv')"
   ]
  },
  {
   "cell_type": "markdown",
   "metadata": {},
   "source": [
    "###  Look into null values now before combining into one larger DataFrame\n",
    "`bottle_size`, `price`, `grapes`, `region`, `subregion`, `staff_tasting`, `tasting_notes` can be looked at in the larger DataFrame. Looking for values that can be accounted for here.<br><br>\n",
    "Changing null values in vintage to 0 if they make sense:<br>\n",
    "`df_1['vintage']`  ciders, 1 fino sherry, box of wine<br>\n",
    "`df_2['vintage']` sherry, maderia, prosecco, cider<br>\n",
    "`df_3['vintage']` sherry, maderia, jug of wine<br>\n",
    "`df_6['vintage']` marasala, maderia, jug of wine, 187ml of wine (NV)<br>\n",
    "`df_7['vintage]` sherry, one out of stock Loire red (NV listed)<br>\n",
    "`df_8['vintage]` port<br>\n",
    "`df_9['vintage]` sherry, mead<br>\n",
    "`df_10['vintage]` sherry<br>\n",
    "`df_11['vintage]` sherry, port<br>\n",
    "`df_12['vintage]` port<br>\n",
    "`df_13['vintage]` sherry, Manischewitz<br>\n",
    "`df_14['vintage]` port, marsala<br>\n",
    "`df_15['vintage]` sherry<br>\n",
    "`df_16['vintage]` sherry, port<br>\n",
    "`df_17['vintage]` port, cider, ginger wine<br>\n",
    "`df_18['vintage]` sherry, maderia, port<br>\n",
    "`df_19['vintage]` box of wine<br>"
   ]
  },
  {
   "cell_type": "code",
   "execution_count": 191,
   "metadata": {},
   "outputs": [],
   "source": [
    "df_1['vintage'].fillna(0, inplace=True)\n",
    "df_2['vintage'].fillna(0, inplace=True)\n",
    "df_3['vintage'].fillna(0, inplace=True)\n",
    "df_6['vintage'].fillna(0, inplace=True)\n",
    "df_7['vintage'].fillna(0, inplace=True)\n",
    "df_8['vintage'].fillna(0, inplace=True)\n",
    "df_9['vintage'].fillna(0, inplace=True)\n",
    "df_10['vintage'].fillna(0, inplace=True)\n",
    "df_11['vintage'].fillna(0, inplace=True)\n",
    "df_12['vintage'].fillna(0, inplace=True)\n",
    "df_13['vintage'].fillna(0, inplace=True)\n",
    "df_14['vintage'].fillna(0, inplace=True)\n",
    "df_15['vintage'].fillna(0, inplace=True)\n",
    "df_16['vintage'].fillna(0, inplace=True)\n",
    "df_17['vintage'].fillna(0, inplace=True)\n",
    "df_18['vintage'].fillna(0, inplace=True)\n",
    "df_19['vintage'].fillna(0, inplace=True)"
   ]
  },
  {
   "cell_type": "code",
   "execution_count": 122,
   "metadata": {
    "scrolled": true
   },
   "outputs": [],
   "source": [
    "# between the url collection and scraping the pages: this one was no longer instock\n",
    "df_3.drop(df_3.index[92], inplace=True)\n",
    "df_13.drop(df_13.index[103], inplace=True)"
   ]
  },
  {
   "cell_type": "code",
   "execution_count": 102,
   "metadata": {},
   "outputs": [],
   "source": [
    "# this is ginger beer\n",
    "df_10.drop(df_10.index[95], inplace=True)"
   ]
  },
  {
   "cell_type": "code",
   "execution_count": 76,
   "metadata": {
    "collapsed": true
   },
   "outputs": [
    {
     "name": "stderr",
     "output_type": "stream",
     "text": [
      "/Users/jobethschroeter/opt/anaconda3/envs/dsi/lib/python3.7/site-packages/ipykernel_launcher.py:2: SettingWithCopyWarning: \n",
      "A value is trying to be set on a copy of a slice from a DataFrame.\n",
      "Try using .loc[row_indexer,col_indexer] = value instead\n",
      "\n",
      "See the caveats in the documentation: https://pandas.pydata.org/pandas-docs/stable/user_guide/indexing.html#returning-a-view-versus-a-copy\n",
      "  \n"
     ]
    }
   ],
   "source": [
    "# Chateau Musar is in Bekka Valley, Lebanon\n",
    "df_5.loc[68:70]['region'] = 'bekka valley'"
   ]
  },
  {
   "cell_type": "code",
   "execution_count": 94,
   "metadata": {
    "collapsed": true
   },
   "outputs": [
    {
     "name": "stderr",
     "output_type": "stream",
     "text": [
      "/Users/jobethschroeter/opt/anaconda3/envs/dsi/lib/python3.7/site-packages/ipykernel_launcher.py:2: SettingWithCopyWarning: \n",
      "A value is trying to be set on a copy of a slice from a DataFrame\n",
      "\n",
      "See the caveats in the documentation: https://pandas.pydata.org/pandas-docs/stable/user_guide/indexing.html#returning-a-view-versus-a-copy\n",
      "  \n"
     ]
    }
   ],
   "source": [
    "# Glinavos is in Ioannina, Greece\n",
    "df_8.loc[16]['region'] = 'ioannina'"
   ]
  },
  {
   "cell_type": "code",
   "execution_count": 149,
   "metadata": {},
   "outputs": [],
   "source": [
    "# these pieces were missing but are on the site now\n",
    "df_13.loc[102]['url'] = 'https://www.astorwines.com/SearchResultsSingle.aspx?p=1&search=42005&searchtype=Contains'\n",
    "df_13.loc[102]['region'] = 'rioja'"
   ]
  },
  {
   "cell_type": "code",
   "execution_count": 156,
   "metadata": {
    "scrolled": true
   },
   "outputs": [],
   "source": [
    "# had a hunch this was the grape\n",
    "#https://bodegasmonje.com/shop/en/products/wines/hollera.html\n",
    "df_14['grape_1'].fillna('listan negro', inplace=True)"
   ]
  },
  {
   "cell_type": "code",
   "execution_count": 196,
   "metadata": {
    "scrolled": true
   },
   "outputs": [
    {
     "data": {
      "text/plain": [
       "Unnamed: 0         0\n",
       "name               0\n",
       "producer           0\n",
       "vintage            0\n",
       "bottle_size        1\n",
       "color              0\n",
       "price             53\n",
       "country            0\n",
       "region             4\n",
       "grape_1            0\n",
       "tasting_notes      1\n",
       "url                0\n",
       "grape_2          116\n",
       "grape_3          144\n",
       "sub_region        70\n",
       "staff_tasting    103\n",
       "grape_5          160\n",
       "dtype: int64"
      ]
     },
     "execution_count": 196,
     "metadata": {},
     "output_type": "execute_result"
    }
   ],
   "source": [
    "df_19.isnull().sum()"
   ]
  },
  {
   "cell_type": "code",
   "execution_count": 197,
   "metadata": {
    "scrolled": true
   },
   "outputs": [
    {
     "data": {
      "text/html": [
       "<div>\n",
       "<style scoped>\n",
       "    .dataframe tbody tr th:only-of-type {\n",
       "        vertical-align: middle;\n",
       "    }\n",
       "\n",
       "    .dataframe tbody tr th {\n",
       "        vertical-align: top;\n",
       "    }\n",
       "\n",
       "    .dataframe thead th {\n",
       "        text-align: right;\n",
       "    }\n",
       "</style>\n",
       "<table border=\"1\" class=\"dataframe\">\n",
       "  <thead>\n",
       "    <tr style=\"text-align: right;\">\n",
       "      <th></th>\n",
       "      <th>Unnamed: 0</th>\n",
       "      <th>name</th>\n",
       "      <th>producer</th>\n",
       "      <th>vintage</th>\n",
       "      <th>bottle_size</th>\n",
       "      <th>color</th>\n",
       "      <th>price</th>\n",
       "      <th>country</th>\n",
       "      <th>region</th>\n",
       "      <th>grape_1</th>\n",
       "      <th>tasting_notes</th>\n",
       "      <th>url</th>\n",
       "      <th>grape_2</th>\n",
       "      <th>grape_3</th>\n",
       "      <th>sub_region</th>\n",
       "      <th>staff_tasting</th>\n",
       "      <th>grape_5</th>\n",
       "    </tr>\n",
       "  </thead>\n",
       "  <tbody>\n",
       "    <tr>\n",
       "      <th>13</th>\n",
       "      <td>13</td>\n",
       "      <td>Veuve Clicquot, Rosé - NV</td>\n",
       "      <td>Veuve Clicquot</td>\n",
       "      <td>NV</td>\n",
       "      <td>750mL</td>\n",
       "      <td>Rosé</td>\n",
       "      <td>$59.97</td>\n",
       "      <td>France</td>\n",
       "      <td>Champagne</td>\n",
       "      <td>Pinot Noir</td>\n",
       "      <td>NaN</td>\n",
       "      <td>https://www.astorwines.com/SearchResultsSingle...</td>\n",
       "      <td>Pinot Meunier</td>\n",
       "      <td>NaN</td>\n",
       "      <td>NaN</td>\n",
       "      <td>NaN</td>\n",
       "      <td>NaN</td>\n",
       "    </tr>\n",
       "  </tbody>\n",
       "</table>\n",
       "</div>"
      ],
      "text/plain": [
       "    Unnamed: 0                       name        producer vintage bottle_size  \\\n",
       "13          13  Veuve Clicquot, Rosé - NV  Veuve Clicquot      NV       750mL   \n",
       "\n",
       "   color   price country     region     grape_1 tasting_notes  \\\n",
       "13  Rosé  $59.97  France  Champagne  Pinot Noir           NaN   \n",
       "\n",
       "                                                  url        grape_2 grape_3  \\\n",
       "13  https://www.astorwines.com/SearchResultsSingle...  Pinot Meunier     NaN   \n",
       "\n",
       "   sub_region staff_tasting grape_5  \n",
       "13        NaN           NaN     NaN  "
      ]
     },
     "execution_count": 197,
     "metadata": {},
     "output_type": "execute_result"
    }
   ],
   "source": [
    "df_19[df_19['tasting_notes'].isnull()]"
   ]
  },
  {
   "cell_type": "code",
   "execution_count": 198,
   "metadata": {},
   "outputs": [],
   "source": [
    "list_astor = [df_1, df_2, df_3, df_4, df_5, df_6, df_7, df_8, df_9,\n",
    "             df_10, df_11, df_12, df_13, df_14, df_15, df_16, df_17,\n",
    "             df_18, df_19]"
   ]
  },
  {
   "cell_type": "code",
   "execution_count": 204,
   "metadata": {},
   "outputs": [],
   "source": [
    "all_astor_df = pd.concat(list_astor, ignore_index=True)"
   ]
  },
  {
   "cell_type": "code",
   "execution_count": 205,
   "metadata": {},
   "outputs": [],
   "source": [
    "# all_astor_df.to_csv('../data/astor_data/all_astor_df.csv')"
   ]
  },
  {
   "cell_type": "code",
   "execution_count": 208,
   "metadata": {},
   "outputs": [
    {
     "data": {
      "text/plain": [
       "(3202, 17)"
      ]
     },
     "execution_count": 208,
     "metadata": {},
     "output_type": "execute_result"
    }
   ],
   "source": [
    "all_astor_df.shape"
   ]
  },
  {
   "cell_type": "code",
   "execution_count": null,
   "metadata": {},
   "outputs": [],
   "source": []
  }
 ],
 "metadata": {
  "kernelspec": {
   "display_name": "Python 3",
   "language": "python",
   "name": "python3"
  },
  "language_info": {
   "codemirror_mode": {
    "name": "ipython",
    "version": 3
   },
   "file_extension": ".py",
   "mimetype": "text/x-python",
   "name": "python",
   "nbconvert_exporter": "python",
   "pygments_lexer": "ipython3",
   "version": "3.7.6"
  }
 },
 "nbformat": 4,
 "nbformat_minor": 4
}
