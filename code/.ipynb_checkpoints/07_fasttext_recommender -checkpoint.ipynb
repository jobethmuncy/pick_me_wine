{
 "cells": [
  {
   "cell_type": "markdown",
   "metadata": {},
   "source": [
    "# Work on Recommender with DataFrames split by Color\n",
    "- build FastText model for each color\n",
    "- tfidf recommender works well but need a way to pull in text based words to find a specific wine\n",
    "- use tfidf recommnder to find more wines like this of any color"
   ]
  },
  {
   "cell_type": "code",
   "execution_count": 1,
   "metadata": {},
   "outputs": [],
   "source": [
    "import pandas as pd\n",
    "import numpy as np\n",
    "import regex as re\n",
    "import nltk\n",
    "import seaborn as sns\n",
    "import matplotlib.pyplot as plt\n",
    "\n",
    "import collections\n",
    "from collections import Counter\n",
    "\n",
    "import pickle\n",
    "\n",
    "from nltk.stem import WordNetLemmatizer\n",
    "from nltk.tokenize import RegexpTokenizer, word_tokenize\n",
    "from nltk.corpus import stopwords\n",
    "from nltk.stem.porter import PorterStemmer\n",
    "from bs4 import BeautifulSoup\n",
    "from gensim.models.word2vec import Word2Vec\n",
    "from gensim.models.doc2vec import Doc2Vec, TaggedDocument\n",
    "from gensim.models import Phrases\n",
    "from scipy import sparse\n",
    "from sklearn.metrics.pairwise import pairwise_distances\n",
    "from sklearn.feature_extraction.text import CountVectorizer, TfidfVectorizer\n",
    "from scipy import sparse\n",
    "from sklearn.metrics.pairwise import pairwise_distances, cosine_similarity\n",
    "# https://fasttext.cc/docs/en/supervised-tutorial.html\n",
    "import fasttext\n",
    "import gensim\n",
    "#  pip install fasttext\n",
    "from gensim.models import FastText"
   ]
  },
  {
   "cell_type": "code",
   "execution_count": 2,
   "metadata": {},
   "outputs": [
    {
     "data": {
      "text/plain": [
       "(12888, 15)"
      ]
     },
     "execution_count": 2,
     "metadata": {},
     "output_type": "execute_result"
    }
   ],
   "source": [
    "df = pd.read_csv('../data/test_wines.csv')\n",
    "df.shape"
   ]
  },
  {
   "cell_type": "code",
   "execution_count": 3,
   "metadata": {},
   "outputs": [
    {
     "data": {
      "text/html": [
       "<div>\n",
       "<style scoped>\n",
       "    .dataframe tbody tr th:only-of-type {\n",
       "        vertical-align: middle;\n",
       "    }\n",
       "\n",
       "    .dataframe tbody tr th {\n",
       "        vertical-align: top;\n",
       "    }\n",
       "\n",
       "    .dataframe thead th {\n",
       "        text-align: right;\n",
       "    }\n",
       "</style>\n",
       "<table border=\"1\" class=\"dataframe\">\n",
       "  <thead>\n",
       "    <tr style=\"text-align: right;\">\n",
       "      <th></th>\n",
       "      <th>name</th>\n",
       "      <th>producer</th>\n",
       "      <th>vintage</th>\n",
       "      <th>bottle_size</th>\n",
       "      <th>color</th>\n",
       "      <th>price</th>\n",
       "      <th>country</th>\n",
       "      <th>region</th>\n",
       "      <th>url</th>\n",
       "      <th>description</th>\n",
       "      <th>grape</th>\n",
       "      <th>subregion</th>\n",
       "      <th>description_clean</th>\n",
       "      <th>country_clean</th>\n",
       "      <th>text</th>\n",
       "    </tr>\n",
       "  </thead>\n",
       "  <tbody>\n",
       "    <tr>\n",
       "      <th>0</th>\n",
       "      <td>Skin Contact Silvaner \"Kleine Heimat,\" 2Naturk...</td>\n",
       "      <td>2Naturkinder</td>\n",
       "      <td>2017</td>\n",
       "      <td>750</td>\n",
       "      <td>white</td>\n",
       "      <td>24</td>\n",
       "      <td>Germany</td>\n",
       "      <td>franken</td>\n",
       "      <td>https://www.astorwines.com/SearchResultsSingle...</td>\n",
       "      <td>Made from 100% Silvaner, this white wine ferme...</td>\n",
       "      <td>silvaner</td>\n",
       "      <td>0</td>\n",
       "      <td>made silvaner white wine ferments skins days g...</td>\n",
       "      <td>germany</td>\n",
       "      <td>franken white Germany made silvaner white wine...</td>\n",
       "    </tr>\n",
       "    <tr>\n",
       "      <th>1</th>\n",
       "      <td>Fledermaus Rot, 2Naturkinder</td>\n",
       "      <td>2Naturkinder</td>\n",
       "      <td>2018</td>\n",
       "      <td>750</td>\n",
       "      <td>red</td>\n",
       "      <td>0</td>\n",
       "      <td>Germany</td>\n",
       "      <td>franken</td>\n",
       "      <td>https://www.astorwines.com/SearchResultsSingle...</td>\n",
       "      <td>Made from Schwartz Riesling (aka Pinot Meunier...</td>\n",
       "      <td>pinot meunier</td>\n",
       "      <td>0</td>\n",
       "      <td>made schwartz riesling pinot meunier grapes ha...</td>\n",
       "      <td>germany</td>\n",
       "      <td>franken red Germany made schwartz riesling pin...</td>\n",
       "    </tr>\n",
       "    <tr>\n",
       "      <th>2</th>\n",
       "      <td>Sekt Weiss, 50o N NV</td>\n",
       "      <td>50oN</td>\n",
       "      <td>NV</td>\n",
       "      <td>750</td>\n",
       "      <td>white</td>\n",
       "      <td>14</td>\n",
       "      <td>Germany</td>\n",
       "      <td>rheingau</td>\n",
       "      <td>https://www.astorwines.com/SearchResultsSingle...</td>\n",
       "      <td>Sometimes you just want to drink a wine becaus...</td>\n",
       "      <td>müller-thurgau pinot blanc sylvaner</td>\n",
       "      <td>0</td>\n",
       "      <td>sometimes want drink wine tastes good one wine...</td>\n",
       "      <td>germany</td>\n",
       "      <td>rheingau white Germany sometimes want drink wi...</td>\n",
       "    </tr>\n",
       "    <tr>\n",
       "      <th>3</th>\n",
       "      <td>Fuga, Mencía, Ribeira Sacra</td>\n",
       "      <td>A Fuga</td>\n",
       "      <td>2017</td>\n",
       "      <td>750</td>\n",
       "      <td>red</td>\n",
       "      <td>0</td>\n",
       "      <td>Spain</td>\n",
       "      <td>ribeira sacra</td>\n",
       "      <td>https://www.astorwines.com/SearchResultsSingle...</td>\n",
       "      <td>FUGA MENCIAJust barely opaque, and dark garnet...</td>\n",
       "      <td>mencía</td>\n",
       "      <td>0</td>\n",
       "      <td>fuga menciajust barely opaque dark garnet colo...</td>\n",
       "      <td>spain</td>\n",
       "      <td>ribeira sacra red Spain fuga menciajust barely...</td>\n",
       "    </tr>\n",
       "    <tr>\n",
       "      <th>4</th>\n",
       "      <td>Cirò Rosso Classico Superiore, A Vita</td>\n",
       "      <td>A Vita</td>\n",
       "      <td>2016</td>\n",
       "      <td>750</td>\n",
       "      <td>red</td>\n",
       "      <td>21</td>\n",
       "      <td>Italy</td>\n",
       "      <td>calabria</td>\n",
       "      <td>https://www.astorwines.com/SearchResultsSingle...</td>\n",
       "      <td>Here is a wine with a distinct, alluring chara...</td>\n",
       "      <td>gaglioppo</td>\n",
       "      <td>cirò</td>\n",
       "      <td>wine distinct alluring character dates back an...</td>\n",
       "      <td>italy</td>\n",
       "      <td>calabriacirò red Italy wine distinct alluring ...</td>\n",
       "    </tr>\n",
       "  </tbody>\n",
       "</table>\n",
       "</div>"
      ],
      "text/plain": [
       "                                                name      producer vintage  \\\n",
       "0  Skin Contact Silvaner \"Kleine Heimat,\" 2Naturk...  2Naturkinder    2017   \n",
       "1                       Fledermaus Rot, 2Naturkinder  2Naturkinder    2018   \n",
       "2                               Sekt Weiss, 50o N NV          50oN      NV   \n",
       "3                        Fuga, Mencía, Ribeira Sacra        A Fuga    2017   \n",
       "4              Cirò Rosso Classico Superiore, A Vita        A Vita    2016   \n",
       "\n",
       "  bottle_size  color  price  country         region  \\\n",
       "0         750  white     24  Germany        franken   \n",
       "1         750    red      0  Germany        franken   \n",
       "2         750  white     14  Germany       rheingau   \n",
       "3         750    red      0    Spain  ribeira sacra   \n",
       "4         750    red     21    Italy       calabria   \n",
       "\n",
       "                                                 url  \\\n",
       "0  https://www.astorwines.com/SearchResultsSingle...   \n",
       "1  https://www.astorwines.com/SearchResultsSingle...   \n",
       "2  https://www.astorwines.com/SearchResultsSingle...   \n",
       "3  https://www.astorwines.com/SearchResultsSingle...   \n",
       "4  https://www.astorwines.com/SearchResultsSingle...   \n",
       "\n",
       "                                         description  \\\n",
       "0  Made from 100% Silvaner, this white wine ferme...   \n",
       "1  Made from Schwartz Riesling (aka Pinot Meunier...   \n",
       "2  Sometimes you just want to drink a wine becaus...   \n",
       "3  FUGA MENCIAJust barely opaque, and dark garnet...   \n",
       "4  Here is a wine with a distinct, alluring chara...   \n",
       "\n",
       "                                 grape subregion  \\\n",
       "0                             silvaner         0   \n",
       "1                        pinot meunier         0   \n",
       "2  müller-thurgau pinot blanc sylvaner         0   \n",
       "3                               mencía         0   \n",
       "4                            gaglioppo      cirò   \n",
       "\n",
       "                                   description_clean country_clean  \\\n",
       "0  made silvaner white wine ferments skins days g...       germany   \n",
       "1  made schwartz riesling pinot meunier grapes ha...       germany   \n",
       "2  sometimes want drink wine tastes good one wine...       germany   \n",
       "3  fuga menciajust barely opaque dark garnet colo...         spain   \n",
       "4  wine distinct alluring character dates back an...         italy   \n",
       "\n",
       "                                                text  \n",
       "0  franken white Germany made silvaner white wine...  \n",
       "1  franken red Germany made schwartz riesling pin...  \n",
       "2  rheingau white Germany sometimes want drink wi...  \n",
       "3  ribeira sacra red Spain fuga menciajust barely...  \n",
       "4  calabriacirò red Italy wine distinct alluring ...  "
      ]
     },
     "execution_count": 3,
     "metadata": {},
     "output_type": "execute_result"
    }
   ],
   "source": [
    "df.head()"
   ]
  },
  {
   "cell_type": "code",
   "execution_count": 4,
   "metadata": {},
   "outputs": [],
   "source": [
    "# these should be NV\n",
    "df['vintage'].fillna('NV', inplace=True)"
   ]
  },
  {
   "cell_type": "code",
   "execution_count": 5,
   "metadata": {
    "scrolled": true
   },
   "outputs": [],
   "source": [
    "# drop duplicates\n",
    "duplicate = df[df['url'].duplicated() & df['name'].duplicated() & df['producer'].duplicated()].index\n",
    "df.drop(duplicate, inplace=True)"
   ]
  },
  {
   "cell_type": "markdown",
   "metadata": {},
   "source": [
    "Deal the duplicate names. Some of the wines have the same name but bottle size or vintage is different. Clean up vintage columns"
   ]
  },
  {
   "cell_type": "code",
   "execution_count": 6,
   "metadata": {},
   "outputs": [],
   "source": [
    "pd.set_option('display.max_rows', None)\n",
    "# pd.reset_option('max_rows')"
   ]
  },
  {
   "cell_type": "code",
   "execution_count": 7,
   "metadata": {
    "scrolled": false
   },
   "outputs": [
    {
     "name": "stderr",
     "output_type": "stream",
     "text": [
      "/Users/jobethschroeter/opt/anaconda3/envs/dsi/lib/python3.7/site-packages/pandas/core/indexing.py:671: SettingWithCopyWarning: \n",
      "A value is trying to be set on a copy of a slice from a DataFrame\n",
      "\n",
      "See the caveats in the documentation: https://pandas.pydata.org/pandas-docs/stable/user_guide/indexing.html#returning-a-view-versus-a-copy\n",
      "  self._setitem_with_indexer(indexer, value)\n"
     ]
    }
   ],
   "source": [
    "# need to strip the white space bewteen name and NV, will add NV back after space removed\n",
    "nv_in_name = df[df['name'].str.contains('NV')].index\n",
    "df['name'].loc[nv_in_name] = [row.rstrip('NV') for row in df['name'].loc[nv_in_name].astype(str)]\n",
    "df['name'].loc[nv_in_name] = [row.strip() for row in df['name'].loc[nv_in_name].astype(str)]\n",
    "df['name'].loc[nv_in_name] = df['name'].loc[nv_in_name] + ' ' + 'NV'"
   ]
  },
  {
   "cell_type": "code",
   "execution_count": 8,
   "metadata": {},
   "outputs": [],
   "source": [
    "misslabeled_2016 = df[df['vintage'] == '20161'].index"
   ]
  },
  {
   "cell_type": "code",
   "execution_count": 9,
   "metadata": {
    "scrolled": true
   },
   "outputs": [],
   "source": [
    "df.loc[12131, 'vintage'] = 'NV'\n",
    "df.loc[4479, 'vintage'] = 'NV'\n",
    "df.loc[misslabeled_2016, 'vintage'] = '2016'\n",
    "df.loc[3649, 'vintage'] = '2018'"
   ]
  },
  {
   "cell_type": "code",
   "execution_count": 10,
   "metadata": {},
   "outputs": [],
   "source": [
    "dup_names = df[df['name'].duplicated()].index"
   ]
  },
  {
   "cell_type": "code",
   "execution_count": 11,
   "metadata": {},
   "outputs": [],
   "source": [
    "# # only run once\n",
    "df['name'].loc[dup_names]=df['name'].loc[dup_names].astype(str) + ' ' + df['vintage'].loc[dup_names].astype(str)"
   ]
  },
  {
   "cell_type": "code",
   "execution_count": 12,
   "metadata": {},
   "outputs": [],
   "source": [
    "dup_names2 = df[df['name'].duplicated()].index"
   ]
  },
  {
   "cell_type": "code",
   "execution_count": 13,
   "metadata": {
    "scrolled": true
   },
   "outputs": [],
   "source": [
    "# only run once\n",
    "df['name'].loc[dup_names2] = df['name'].loc[dup_names2].astype(str) + '*'"
   ]
  },
  {
   "cell_type": "code",
   "execution_count": 14,
   "metadata": {},
   "outputs": [],
   "source": [
    "dup_names3 = df[df['name'].duplicated()].index"
   ]
  },
  {
   "cell_type": "code",
   "execution_count": 15,
   "metadata": {
    "scrolled": true
   },
   "outputs": [],
   "source": [
    "# # only run once\n",
    "df['name'].loc[dup_names3] = df['name'].loc[dup_names3].astype(str) + ' ' + df['bottle_size'].loc[dup_names3].astype(str)"
   ]
  },
  {
   "cell_type": "code",
   "execution_count": 16,
   "metadata": {},
   "outputs": [],
   "source": [
    "# drop ciders\n",
    "cider_rows = df[df['grape'] == 'apple'].index\n",
    "df.drop(cider_rows, inplace=True)"
   ]
  },
  {
   "cell_type": "code",
   "execution_count": 17,
   "metadata": {},
   "outputs": [],
   "source": [
    "nullcolor = df[df['color'].isnull()].index\n",
    "df.loc[nullcolor, 'color'] = 'other'"
   ]
  },
  {
   "cell_type": "code",
   "execution_count": 18,
   "metadata": {},
   "outputs": [],
   "source": [
    "df['text_no_color'] = df['region'] + ' ' + df['subregion'] + ' ' + df['country'] + ' ' + df['grape'] + ' ' + df['description_clean']\n",
    "df['text_no_color'] = [re.sub('[0123456789\\.]','', row) for row in df['text_no_color']]"
   ]
  },
  {
   "cell_type": "code",
   "execution_count": 19,
   "metadata": {},
   "outputs": [],
   "source": [
    "# strip all white space from name\n",
    "df['name'] = [str(row).strip() for row in df['name']]"
   ]
  },
  {
   "cell_type": "code",
   "execution_count": 20,
   "metadata": {},
   "outputs": [
    {
     "data": {
      "text/html": [
       "<div>\n",
       "<style scoped>\n",
       "    .dataframe tbody tr th:only-of-type {\n",
       "        vertical-align: middle;\n",
       "    }\n",
       "\n",
       "    .dataframe tbody tr th {\n",
       "        vertical-align: top;\n",
       "    }\n",
       "\n",
       "    .dataframe thead th {\n",
       "        text-align: right;\n",
       "    }\n",
       "</style>\n",
       "<table border=\"1\" class=\"dataframe\">\n",
       "  <thead>\n",
       "    <tr style=\"text-align: right;\">\n",
       "      <th></th>\n",
       "      <th>name</th>\n",
       "      <th>producer</th>\n",
       "      <th>vintage</th>\n",
       "      <th>bottle_size</th>\n",
       "      <th>color</th>\n",
       "      <th>price</th>\n",
       "      <th>country</th>\n",
       "      <th>region</th>\n",
       "      <th>url</th>\n",
       "      <th>description</th>\n",
       "      <th>grape</th>\n",
       "      <th>subregion</th>\n",
       "      <th>description_clean</th>\n",
       "      <th>country_clean</th>\n",
       "      <th>text</th>\n",
       "      <th>text_no_color</th>\n",
       "    </tr>\n",
       "  </thead>\n",
       "  <tbody>\n",
       "  </tbody>\n",
       "</table>\n",
       "</div>"
      ],
      "text/plain": [
       "Empty DataFrame\n",
       "Columns: [name, producer, vintage, bottle_size, color, price, country, region, url, description, grape, subregion, description_clean, country_clean, text, text_no_color]\n",
       "Index: []"
      ]
     },
     "execution_count": 20,
     "metadata": {},
     "output_type": "execute_result"
    }
   ],
   "source": [
    "df[df['vintage'].isnull()]"
   ]
  },
  {
   "cell_type": "code",
   "execution_count": 21,
   "metadata": {},
   "outputs": [],
   "source": [
    "# pd.set_option('display.max_rows', None)\n",
    "pd.reset_option('max_rows')"
   ]
  },
  {
   "cell_type": "markdown",
   "metadata": {},
   "source": [
    "### Reassign Colors\n",
    "These need to be cleaned up to fit into their appropriate category"
   ]
  },
  {
   "cell_type": "code",
   "execution_count": 22,
   "metadata": {},
   "outputs": [],
   "source": [
    "hidden_spark = df[df['name'].str.contains('brut', flags=re.IGNORECASE)].index\n",
    "df.loc[hidden_spark, 'color'] = 'sparkling'"
   ]
  },
  {
   "cell_type": "code",
   "execution_count": 23,
   "metadata": {},
   "outputs": [],
   "source": [
    "brut = df[df['description'].str.contains('brut', flags=re.IGNORECASE)].index\n",
    "df.loc[brut, 'color'] = 'sparkling'"
   ]
  },
  {
   "cell_type": "code",
   "execution_count": 24,
   "metadata": {},
   "outputs": [],
   "source": [
    "sekt = df[df['description'].str.contains('sekt', flags=re.IGNORECASE)].index\n",
    "df.loc[sekt, 'color'] = 'sparkling'"
   ]
  },
  {
   "cell_type": "code",
   "execution_count": 25,
   "metadata": {},
   "outputs": [],
   "source": [
    "sparkling = df[df['description'].str.contains('sparkling', flags=re.IGNORECASE)].index\n",
    "df.loc[sparkling, 'color'] = 'sparkling'"
   ]
  },
  {
   "cell_type": "code",
   "execution_count": 26,
   "metadata": {},
   "outputs": [],
   "source": [
    "sauternes = df[df['name'].str.contains('sauternes', flags=re.IGNORECASE)].index\n",
    "df.loc[sauternes, 'color'] = 'other'"
   ]
  },
  {
   "cell_type": "code",
   "execution_count": 27,
   "metadata": {},
   "outputs": [],
   "source": [
    "vermouth = df[df['name'].str.contains('vermouth', flags=re.IGNORECASE)].index\n",
    "df.loc[vermouth, 'color'] = 'other'"
   ]
  },
  {
   "cell_type": "code",
   "execution_count": 28,
   "metadata": {},
   "outputs": [],
   "source": [
    "ros_rose = df[df['color'] == 'ros'].index\n",
    "df.loc[ros_rose, 'color'] = 'rose'"
   ]
  },
  {
   "cell_type": "code",
   "execution_count": 29,
   "metadata": {},
   "outputs": [],
   "source": [
    "sweet = df[df['color'] == 'sweet'].index\n",
    "df.loc[sweet, 'color'] = 'other'"
   ]
  },
  {
   "cell_type": "code",
   "execution_count": 30,
   "metadata": {
    "scrolled": true
   },
   "outputs": [
    {
     "data": {
      "text/plain": [
       "name                 0\n",
       "producer             0\n",
       "vintage              0\n",
       "bottle_size          0\n",
       "color                0\n",
       "price                0\n",
       "country              0\n",
       "region               0\n",
       "url                  0\n",
       "description          0\n",
       "grape                0\n",
       "subregion            0\n",
       "description_clean    0\n",
       "country_clean        0\n",
       "text                 0\n",
       "text_no_color        0\n",
       "dtype: int64"
      ]
     },
     "execution_count": 30,
     "metadata": {},
     "output_type": "execute_result"
    }
   ],
   "source": [
    "df.isnull().sum()"
   ]
  },
  {
   "cell_type": "markdown",
   "metadata": {},
   "source": [
    "# Split up Data by Color"
   ]
  },
  {
   "cell_type": "markdown",
   "metadata": {},
   "source": [
    "Split up tokens for Vec models "
   ]
  },
  {
   "cell_type": "code",
   "execution_count": 31,
   "metadata": {},
   "outputs": [],
   "source": [
    "df['description_clean_tokens'] = [str(row).split() for row in df['description_clean']]\n",
    "df['text_clean_tokens'] = [str(row).split() for row in df['text']]\n",
    "df['text_no_color_tokens'] = [str(row).split() for row in df['text_no_color']]"
   ]
  },
  {
   "cell_type": "code",
   "execution_count": 32,
   "metadata": {},
   "outputs": [
    {
     "data": {
      "text/html": [
       "<div>\n",
       "<style scoped>\n",
       "    .dataframe tbody tr th:only-of-type {\n",
       "        vertical-align: middle;\n",
       "    }\n",
       "\n",
       "    .dataframe tbody tr th {\n",
       "        vertical-align: top;\n",
       "    }\n",
       "\n",
       "    .dataframe thead th {\n",
       "        text-align: right;\n",
       "    }\n",
       "</style>\n",
       "<table border=\"1\" class=\"dataframe\">\n",
       "  <thead>\n",
       "    <tr style=\"text-align: right;\">\n",
       "      <th></th>\n",
       "      <th>name</th>\n",
       "      <th>producer</th>\n",
       "      <th>vintage</th>\n",
       "      <th>bottle_size</th>\n",
       "      <th>color</th>\n",
       "      <th>price</th>\n",
       "      <th>country</th>\n",
       "      <th>region</th>\n",
       "      <th>url</th>\n",
       "      <th>description</th>\n",
       "      <th>grape</th>\n",
       "      <th>subregion</th>\n",
       "      <th>description_clean</th>\n",
       "      <th>country_clean</th>\n",
       "      <th>text</th>\n",
       "      <th>text_no_color</th>\n",
       "      <th>description_clean_tokens</th>\n",
       "      <th>text_clean_tokens</th>\n",
       "      <th>text_no_color_tokens</th>\n",
       "    </tr>\n",
       "  </thead>\n",
       "  <tbody>\n",
       "    <tr>\n",
       "      <th>0</th>\n",
       "      <td>Skin Contact Silvaner \"Kleine Heimat,\" 2Naturk...</td>\n",
       "      <td>2Naturkinder</td>\n",
       "      <td>2017</td>\n",
       "      <td>750</td>\n",
       "      <td>white</td>\n",
       "      <td>24</td>\n",
       "      <td>Germany</td>\n",
       "      <td>franken</td>\n",
       "      <td>https://www.astorwines.com/SearchResultsSingle...</td>\n",
       "      <td>Made from 100% Silvaner, this white wine ferme...</td>\n",
       "      <td>silvaner</td>\n",
       "      <td>0</td>\n",
       "      <td>made silvaner white wine ferments skins days g...</td>\n",
       "      <td>germany</td>\n",
       "      <td>franken white Germany made silvaner white wine...</td>\n",
       "      <td>franken  Germany silvaner made silvaner white ...</td>\n",
       "      <td>[made, silvaner, white, wine, ferments, skins,...</td>\n",
       "      <td>[franken, white, Germany, made, silvaner, whit...</td>\n",
       "      <td>[franken, Germany, silvaner, made, silvaner, w...</td>\n",
       "    </tr>\n",
       "  </tbody>\n",
       "</table>\n",
       "</div>"
      ],
      "text/plain": [
       "                                                name      producer vintage  \\\n",
       "0  Skin Contact Silvaner \"Kleine Heimat,\" 2Naturk...  2Naturkinder    2017   \n",
       "\n",
       "  bottle_size  color  price  country   region  \\\n",
       "0         750  white     24  Germany  franken   \n",
       "\n",
       "                                                 url  \\\n",
       "0  https://www.astorwines.com/SearchResultsSingle...   \n",
       "\n",
       "                                         description     grape subregion  \\\n",
       "0  Made from 100% Silvaner, this white wine ferme...  silvaner         0   \n",
       "\n",
       "                                   description_clean country_clean  \\\n",
       "0  made silvaner white wine ferments skins days g...       germany   \n",
       "\n",
       "                                                text  \\\n",
       "0  franken white Germany made silvaner white wine...   \n",
       "\n",
       "                                       text_no_color  \\\n",
       "0  franken  Germany silvaner made silvaner white ...   \n",
       "\n",
       "                            description_clean_tokens  \\\n",
       "0  [made, silvaner, white, wine, ferments, skins,...   \n",
       "\n",
       "                                   text_clean_tokens  \\\n",
       "0  [franken, white, Germany, made, silvaner, whit...   \n",
       "\n",
       "                                text_no_color_tokens  \n",
       "0  [franken, Germany, silvaner, made, silvaner, w...  "
      ]
     },
     "execution_count": 32,
     "metadata": {},
     "output_type": "execute_result"
    }
   ],
   "source": [
    "df.head(1)"
   ]
  },
  {
   "cell_type": "code",
   "execution_count": 33,
   "metadata": {
    "scrolled": false
   },
   "outputs": [
    {
     "data": {
      "text/plain": [
       "red          7515\n",
       "white        2930\n",
       "sparkling     903\n",
       "other         223\n",
       "rose          196\n",
       "Name: color, dtype: int64"
      ]
     },
     "execution_count": 33,
     "metadata": {},
     "output_type": "execute_result"
    }
   ],
   "source": [
    "df['color'].value_counts()"
   ]
  },
  {
   "cell_type": "code",
   "execution_count": 34,
   "metadata": {},
   "outputs": [],
   "source": [
    "order = ['name', 'producer', 'vintage', 'color', 'grape', 'price', 'country', 'region', \n",
    "                'subregion', 'description', 'description_clean', 'description_clean_tokens', \n",
    "                 'text', 'text_clean_tokens', 'text_no_color_tokens', 'bottle_size',  'url']\n",
    "\n",
    "df = df.reindex(columns=order)"
   ]
  },
  {
   "cell_type": "code",
   "execution_count": 35,
   "metadata": {},
   "outputs": [],
   "source": [
    "# drop columns not using\n",
    "df = df.drop(columns=(['subregion', 'text_no_color_tokens']))"
   ]
  },
  {
   "cell_type": "code",
   "execution_count": 36,
   "metadata": {},
   "outputs": [
    {
     "data": {
      "text/plain": [
       "(11767, 15)"
      ]
     },
     "execution_count": 36,
     "metadata": {},
     "output_type": "execute_result"
    }
   ],
   "source": [
    "df.shape"
   ]
  },
  {
   "cell_type": "code",
   "execution_count": 37,
   "metadata": {},
   "outputs": [],
   "source": [
    "df_red = df[df['color'] == 'red']\n",
    "df_white = df[df['color'] == 'white']\n",
    "df_rose = df[df['color'] == 'rose']\n",
    "df_sparkling = df[df['color'] == 'sparkling']\n",
    "df_other = df[df['color'] == 'other']"
   ]
  },
  {
   "cell_type": "code",
   "execution_count": 38,
   "metadata": {
    "scrolled": true
   },
   "outputs": [
    {
     "name": "stderr",
     "output_type": "stream",
     "text": [
      "/Users/jobethschroeter/opt/anaconda3/envs/dsi/lib/python3.7/site-packages/ipykernel_launcher.py:1: SettingWithCopyWarning: \n",
      "A value is trying to be set on a copy of a slice from a DataFrame.\n",
      "Try using .loc[row_indexer,col_indexer] = value instead\n",
      "\n",
      "See the caveats in the documentation: https://pandas.pydata.org/pandas-docs/stable/user_guide/indexing.html#returning-a-view-versus-a-copy\n",
      "  \"\"\"Entry point for launching an IPython kernel.\n",
      "/Users/jobethschroeter/opt/anaconda3/envs/dsi/lib/python3.7/site-packages/ipykernel_launcher.py:2: SettingWithCopyWarning: \n",
      "A value is trying to be set on a copy of a slice from a DataFrame.\n",
      "Try using .loc[row_indexer,col_indexer] = value instead\n",
      "\n",
      "See the caveats in the documentation: https://pandas.pydata.org/pandas-docs/stable/user_guide/indexing.html#returning-a-view-versus-a-copy\n",
      "  \n",
      "/Users/jobethschroeter/opt/anaconda3/envs/dsi/lib/python3.7/site-packages/ipykernel_launcher.py:3: SettingWithCopyWarning: \n",
      "A value is trying to be set on a copy of a slice from a DataFrame.\n",
      "Try using .loc[row_indexer,col_indexer] = value instead\n",
      "\n",
      "See the caveats in the documentation: https://pandas.pydata.org/pandas-docs/stable/user_guide/indexing.html#returning-a-view-versus-a-copy\n",
      "  This is separate from the ipykernel package so we can avoid doing imports until\n",
      "/Users/jobethschroeter/opt/anaconda3/envs/dsi/lib/python3.7/site-packages/ipykernel_launcher.py:4: SettingWithCopyWarning: \n",
      "A value is trying to be set on a copy of a slice from a DataFrame.\n",
      "Try using .loc[row_indexer,col_indexer] = value instead\n",
      "\n",
      "See the caveats in the documentation: https://pandas.pydata.org/pandas-docs/stable/user_guide/indexing.html#returning-a-view-versus-a-copy\n",
      "  after removing the cwd from sys.path.\n",
      "/Users/jobethschroeter/opt/anaconda3/envs/dsi/lib/python3.7/site-packages/ipykernel_launcher.py:5: SettingWithCopyWarning: \n",
      "A value is trying to be set on a copy of a slice from a DataFrame.\n",
      "Try using .loc[row_indexer,col_indexer] = value instead\n",
      "\n",
      "See the caveats in the documentation: https://pandas.pydata.org/pandas-docs/stable/user_guide/indexing.html#returning-a-view-versus-a-copy\n",
      "  \"\"\"\n"
     ]
    }
   ],
   "source": [
    "df_red['index'] = df_red.index\n",
    "df_white['index'] = df_white.index\n",
    "df_rose['index'] = df_rose.index\n",
    "df_sparkling['index'] = df_sparkling.index\n",
    "df_other['index'] = df_other.index"
   ]
  },
  {
   "cell_type": "code",
   "execution_count": 39,
   "metadata": {
    "scrolled": true
   },
   "outputs": [
    {
     "name": "stdout",
     "output_type": "stream",
     "text": [
      "all: (11767, 15)\n",
      "red: (7515, 16)\n",
      "white: (2930, 16)\n",
      "rose: (196, 16)\n",
      "sparkling: (903, 16)\n",
      "other: (223, 16)\n"
     ]
    }
   ],
   "source": [
    "print('all:', df.shape)\n",
    "print('red:', df_red.shape)\n",
    "print('white:', df_white.shape)\n",
    "print('rose:', df_rose.shape)\n",
    "print('sparkling:', df_sparkling.shape)\n",
    "print('other:', df_other.shape)"
   ]
  },
  {
   "cell_type": "markdown",
   "metadata": {},
   "source": [
    "# Save DF for use in Flask\n",
    "After cleaning and dropping-reindex"
   ]
  },
  {
   "cell_type": "code",
   "execution_count": 40,
   "metadata": {},
   "outputs": [],
   "source": [
    "# df.to_csv('../app/for_flask.csv', index=False)\n",
    "# df_red.to_csv('../app/red_flask.csv', index=False)\n",
    "# df_white.to_csv('../app/white_flask.csv', index=False)\n",
    "# df_rose.to_csv('../app/rose_flask.csv', index=False)\n",
    "# df_sparkling.to_csv('../app/sparkling_flask.csv', index=False)\n",
    "# df_other.to_csv('../app/other_flask.csv', index=False)"
   ]
  },
  {
   "cell_type": "markdown",
   "metadata": {},
   "source": [
    "# Fast Text Models\n",
    "Save these for use in Flask"
   ]
  },
  {
   "cell_type": "code",
   "execution_count": 66,
   "metadata": {},
   "outputs": [],
   "source": [
    "fast_text_all = FastText(df['text_clean_tokens'], size=100, window=5, min_count=5, workers=4, sg=1)\n",
    "fast_text_red = FastText(df_red['text_clean_tokens'], size=100, window=5, min_count=5, workers=4, sg=1)\n",
    "fast_text_white = FastText(df_white['text_clean_tokens'], size=100, window=5, min_count=5, workers=4, sg=1)\n",
    "fast_text_rose = FastText(df_rose['text_clean_tokens'], size=100, window=5, min_count=5, workers=4, sg=1)\n",
    "fast_text_sparkling = FastText(df_sparkling['text_clean_tokens'], size=100, window=5, min_count=5, workers=4, sg=1)\n",
    "fast_text_other = FastText(df_other['text_clean_tokens'], size=100, window=5, min_count=5, workers=4, sg=1)"
   ]
  },
  {
   "cell_type": "markdown",
   "metadata": {},
   "source": [
    "## Pickle all Models "
   ]
  },
  {
   "cell_type": "code",
   "execution_count": 67,
   "metadata": {},
   "outputs": [],
   "source": [
    "# pickle.dump(fast_text_all, open('model.all', 'wb'))\n",
    "# pickle.dump(fast_text_red, open('model.red', 'wb'))\n",
    "# pickle.dump(fast_text_white, open('model.white', 'wb'))\n",
    "# pickle.dump(fast_text_rose, open('model.rose', 'wb'))\n",
    "# pickle.dump(fast_text_sparkling, open('model.sparkling', 'wb'))\n",
    "# pickle.dump(fast_text_other, open('model.other', 'wb'))"
   ]
  },
  {
   "cell_type": "markdown",
   "metadata": {},
   "source": [
    "Load the models"
   ]
  },
  {
   "cell_type": "code",
   "execution_count": 68,
   "metadata": {},
   "outputs": [],
   "source": [
    "fast_text_all = pickle.load(open('model.all', 'rb'))\n",
    "fast_text_red = pickle.load(open('model.red', 'rb'))\n",
    "fast_text_white = pickle.load(open('model.white', 'rb'))\n",
    "fast_text_rose = pickle.load(open('model.rose', 'rb'))\n",
    "fast_text_sparkling = pickle.load(open('model.sparkling', 'rb'))\n",
    "fast_text_other = pickle.load(open('model.other', 'rb'))"
   ]
  },
  {
   "cell_type": "markdown",
   "metadata": {},
   "source": [
    "Test different models on same words"
   ]
  },
  {
   "cell_type": "code",
   "execution_count": 69,
   "metadata": {
    "scrolled": true
   },
   "outputs": [
    {
     "data": {
      "text/plain": [
       "[('friuli-venezia', 0.9493786096572876),\n",
       " ('abruzzi', 0.946995735168457),\n",
       " ('umbriamontefalco', 0.943882167339325)]"
      ]
     },
     "execution_count": 69,
     "metadata": {},
     "output_type": "execute_result"
    }
   ],
   "source": [
    "fast_text_red.wv.most_similar(['frank cornellison', 'sicily'], topn=3)"
   ]
  },
  {
   "cell_type": "code",
   "execution_count": 70,
   "metadata": {},
   "outputs": [
    {
     "data": {
      "text/plain": [
       "[('umbriamontefalco', 0.948532223701477),\n",
       " ('igt', 0.9394370317459106),\n",
       " ('giuliacarso', 0.9379663467407227)]"
      ]
     },
     "execution_count": 70,
     "metadata": {},
     "output_type": "execute_result"
    }
   ],
   "source": [
    "fast_text_all.wv.most_similar(['frank cornellison', 'sicily'], topn=3)"
   ]
  },
  {
   "cell_type": "code",
   "execution_count": 71,
   "metadata": {
    "scrolled": false
   },
   "outputs": [
    {
     "data": {
      "text/plain": [
       "[('giuliacollio', 0.9835367202758789),\n",
       " ('robert', 0.977310836315155),\n",
       " ('hubert', 0.9770914316177368)]"
      ]
     },
     "execution_count": 71,
     "metadata": {},
     "output_type": "execute_result"
    }
   ],
   "source": [
    "fast_text_white.wv.most_similar(['frank cornellison', 'sicily'], topn=3)"
   ]
  },
  {
   "cell_type": "code",
   "execution_count": 72,
   "metadata": {},
   "outputs": [
    {
     "data": {
      "text/plain": [
       "[('billecart', 0.9984743595123291),\n",
       " ('ml', 0.9980751276016235),\n",
       " ('horiot', 0.9979497194290161)]"
      ]
     },
     "execution_count": 72,
     "metadata": {},
     "output_type": "execute_result"
    }
   ],
   "source": [
    "fast_text_sparkling.wv.most_similar(['frank cornellison', 'sicily'], topn=3)"
   ]
  },
  {
   "cell_type": "code",
   "execution_count": 73,
   "metadata": {
    "scrolled": true
   },
   "outputs": [
    {
     "data": {
      "text/plain": [
       "[('botrytis', 0.9999287128448486),\n",
       " ('vibrant', 0.9999226927757263),\n",
       " ('version', 0.9999194145202637)]"
      ]
     },
     "execution_count": 73,
     "metadata": {},
     "output_type": "execute_result"
    }
   ],
   "source": [
    "fast_text_other.wv.most_similar(['frank cornellison', 'sicily'], topn=3)"
   ]
  },
  {
   "cell_type": "markdown",
   "metadata": {},
   "source": [
    "# TFIDF Recommender \n",
    "Trained on all vocab"
   ]
  },
  {
   "cell_type": "code",
   "execution_count": 74,
   "metadata": {},
   "outputs": [
    {
     "name": "stdout",
     "output_type": "stream",
     "text": [
      "text: (11767, 386751)\n"
     ]
    }
   ],
   "source": [
    "tf = TfidfVectorizer(analyzer='word', \n",
    "                     ngram_range=(1, 2), \n",
    "                     stop_words='english')\n",
    "\n",
    "tf_matrix = tf.fit_transform(df['text'])\n",
    "print('text:', tf_matrix.shape)"
   ]
  },
  {
   "cell_type": "code",
   "execution_count": 75,
   "metadata": {},
   "outputs": [],
   "source": [
    "cosine_sim = cosine_similarity(tf_matrix, tf_matrix)\n",
    "recommender = pairwise_distances(cosine_sim, metric='cosine')\n",
    "rec_df = pd.DataFrame(recommender, index=df['url'], columns=df['name'])"
   ]
  },
  {
   "cell_type": "code",
   "execution_count": 76,
   "metadata": {},
   "outputs": [],
   "source": [
    "# rec_df.to_csv('../data/recommender_flask.csv', index=False)"
   ]
  },
  {
   "cell_type": "markdown",
   "metadata": {},
   "source": [
    "## Use FastText to extract wines containing Text\n",
    "Use a lemmatizer to get a better variety of top words in top word selections"
   ]
  },
  {
   "cell_type": "code",
   "execution_count": 77,
   "metadata": {},
   "outputs": [],
   "source": [
    "low = df[df['price'] < 25]\n",
    "mid = df[(df['price'] >= 25) & (df['price'] <= 75)]\n",
    "high = df[(df['price'] > 75) & (df['price'] <= 150)]\n",
    "collector = df[df['price'] > 150]"
   ]
  },
  {
   "cell_type": "code",
   "execution_count": 78,
   "metadata": {},
   "outputs": [],
   "source": [
    "pd.set_option('display.max_rows', None)\n",
    "# pd.reset_option('max_rows')"
   ]
  },
  {
   "cell_type": "code",
   "execution_count": 79,
   "metadata": {},
   "outputs": [],
   "source": [
    "lemmatizer = WordNetLemmatizer()"
   ]
  },
  {
   "cell_type": "code",
   "execution_count": 80,
   "metadata": {
    "scrolled": false
   },
   "outputs": [
    {
     "name": "stdout",
     "output_type": "stream",
     "text": [
      "unique: {'daughter', 'walter', 'order'}\n",
      "top_words: ['order', 'daughter', 'walter']\n"
     ]
    }
   ],
   "source": [
    "fast_input = fast_text_white.wv.most_similar(['user'], topn=3)\n",
    "user_input = [i[0] for i in fast_input]\n",
    "check = [lemmatizer.lemmatize(w) for w in user_input]\n",
    "unique = set(check)\n",
    "print('unique:', unique)\n",
    "print('top_words:', user_input)"
   ]
  },
  {
   "cell_type": "markdown",
   "metadata": {},
   "source": [
    "# Recommender HERE"
   ]
  },
  {
   "cell_type": "code",
   "execution_count": 81,
   "metadata": {},
   "outputs": [
    {
     "data": {
      "text/plain": [
       "{'quenching', 'rising', 'serving', 'smacking'}"
      ]
     },
     "execution_count": 81,
     "metadata": {},
     "output_type": "execute_result"
    }
   ],
   "source": [
    "fast_input = fast_text_white.wv.most_similar(['sweet rielsing'], topn=4)\n",
    "user_input = [i[0] for i in fast_input]\n",
    "check_for_similar = [lemmatizer.lemmatize(w) for w in user_input]\n",
    "unique = set(check_for_similar)\n",
    "unique"
   ]
  },
  {
   "cell_type": "code",
   "execution_count": 83,
   "metadata": {
    "scrolled": true
   },
   "outputs": [],
   "source": [
    "for i in get_wines(unique):\n",
    "                    \n",
    "    show_info = {}\n",
    "    show_info['name'] = get_wines(unique)['name']\n",
    "    show_info['price'] = get_wines(unique)['price']\n",
    "    show_info['country'] = get_wines(unique)['country']\n",
    "    show_info['desciption'] = get_wines(unique)['description']\n",
    "    show_info['link'] = get_wines(unique)['url'] "
   ]
  },
  {
   "cell_type": "code",
   "execution_count": 87,
   "metadata": {},
   "outputs": [],
   "source": [
    "fast_input = fast_text_red.wv.most_similar(['user_input'], topn=4)\n",
    "user_input = [i[0] for i in fast_input]\n",
    "check_for_similar = [lemmatizer.lemmatize(w) for w in user_input]\n",
    "unique = set(check_for_similar)\n",
    "\n",
    "def get_wines(unique): \n",
    "    for word in unique: \n",
    "        contains_word = df_red[df_red['description_clean'].str.contains(word)]['index']\n",
    "\n",
    "        wines_with = []\n",
    "        for wine in contains_word:\n",
    "            wines_with.append(wine)\n",
    "            location = df.loc[wines_with]\n",
    "            \n",
    "    return location"
   ]
  },
  {
   "cell_type": "code",
   "execution_count": null,
   "metadata": {},
   "outputs": [],
   "source": []
  }
 ],
 "metadata": {
  "kernelspec": {
   "display_name": "Python 3",
   "language": "python",
   "name": "python3"
  },
  "language_info": {
   "codemirror_mode": {
    "name": "ipython",
    "version": 3
   },
   "file_extension": ".py",
   "mimetype": "text/x-python",
   "name": "python",
   "nbconvert_exporter": "python",
   "pygments_lexer": "ipython3",
   "version": "3.7.6"
  }
 },
 "nbformat": 4,
 "nbformat_minor": 4
}
