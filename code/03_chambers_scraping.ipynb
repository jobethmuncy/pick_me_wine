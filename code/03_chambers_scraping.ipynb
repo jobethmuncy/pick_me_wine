{
 "cells": [
  {
   "cell_type": "markdown",
   "metadata": {},
   "source": [
    "# Chamber Street Wine Data Collection \n",
    "Scraping completed on May 28, 2020<br>\n",
    "https://www.chambersstwines.com/"
   ]
  },
  {
   "cell_type": "code",
   "execution_count": 1,
   "metadata": {},
   "outputs": [],
   "source": [
    "import os\n",
    "import requests\n",
    "import numpy as np\n",
    "from bs4 import BeautifulSoup\n",
    "from pprint import pprint\n",
    "import pandas as pd\n",
    "import pickle\n",
    "import time\n",
    "import json"
   ]
  },
  {
   "cell_type": "markdown",
   "metadata": {},
   "source": [
    "## Run each Country \n",
    "https://www.chambersstwines.com/ has a rate limit of 2 but even with the limit, it is unable to run all the wines as on continuous list. <br>\n",
    "This also enables me to easily add an additional column of `country` to each grouping before combining them together. <br>\n",
    "Chambers Street does not have as much techincal detail as Astor Wines but the descriptions can still provide a good amount of information for a Word2Vec/Doc2Vec implementation of a recommender."
   ]
  },
  {
   "cell_type": "code",
   "execution_count": 69,
   "metadata": {},
   "outputs": [],
   "source": [
    "url_AUS = 'https://www.chambersstwines.com/Products/?timestamp=1590681689530&category=2&keyword=Australia%20&organic=false&biodynamic=false&lowsulfur=false&newArrivals=false&sortBy=Region&page=0'\n",
    "url_AUSTRIA = 'https://www.chambersstwines.com/Products/?timestamp=1590683530451&category=14&keyword=Austria%20&organic=false&biodynamic=false&lowsulfur=false&newArrivals=false&sortBy=Region&page=0'\n",
    "url_FRANCE = 'https://www.chambersstwines.com/Products/?timestamp=1590683671852&category=49&keyword=France%20&organic=false&biodynamic=false&lowsulfur=false&newArrivals=false&sortBy=Region&page=0'\n",
    "url_GERMANY = 'https://www.chambersstwines.com/Products/?timestamp=1590683739703&category=36&keyword=Germany%20&organic=false&biodynamic=false&lowsulfur=false&newArrivals=false&sortBy=Region&page=0'\n",
    "url_ITALY = 'https://www.chambersstwines.com/Products/?timestamp=1590683767075&category=53&keyword=Italy%20&organic=false&biodynamic=false&lowsulfur=false&newArrivals=false&sortBy=Region&page=0'\n",
    "url_KOSHER = 'https://www.chambersstwines.com/Products/?timestamp=1590683788538&category=19&keyword=Kosher%20&organic=false&biodynamic=false&lowsulfur=false&newArrivals=false&sortBy=Region&page=0'\n",
    "url_MISC = 'https://www.chambersstwines.com/Products/?timestamp=1590683816835&category=46&keyword=Misc.%20Europe%20&organic=false&biodynamic=false&lowsulfur=false&newArrivals=false&sortBy=Region&page=0'\n",
    "url_NZ = 'https://www.chambersstwines.com/Products/?timestamp=1590683833911&category=22&keyword=New%20Zealand%20&organic=false&biodynamic=false&lowsulfur=false&newArrivals=false&sortBy=Region&page=0'\n",
    "url_PORT = 'https://www.chambersstwines.com/Products/?timestamp=1590686874940&category=55&keyword=Portugal%20&organic=false&biodynamic=false&lowsulfur=false&newArrivals=false&sortBy=Region&page=0'\n",
    "url_SPAIN = 'https://www.chambersstwines.com/Products/?timestamp=1590683870073&category=56&keyword=Spain%20&organic=false&biodynamic=false&lowsulfur=false&newArrivals=false&sortBy=Region&page=0'\n",
    "url_SAFRICA = 'https://www.chambersstwines.com/Products/?timestamp=1590683886548&category=27&keyword=South%20Africa%20&organic=false&biodynamic=false&lowsulfur=false&newArrivals=false&sortBy=Region&page=0'\n",
    "url_SAMER = 'https://www.chambersstwines.com/Products/?timestamp=1590683905614&category=28&keyword=South%20America%20&organic=false&biodynamic=false&lowsulfur=false&newArrivals=false&sortBy=Region&page=0'\n",
    "url_USA = 'https://www.chambersstwines.com/Products/?timestamp=1590683917731&category=57&keyword=United%20States%20&organic=false&biodynamic=false&lowsulfur=false&newArrivals=false&sortBy=Region&page=0'\n",
    "\n"
   ]
  },
  {
   "cell_type": "code",
   "execution_count": 86,
   "metadata": {},
   "outputs": [
    {
     "data": {
      "text/plain": [
       "<Response [200]>"
      ]
     },
     "execution_count": 86,
     "metadata": {},
     "output_type": "execute_result"
    }
   ],
   "source": [
    "res = requests.get(url_USA)\n",
    "soup = BeautifulSoup(res.content, 'lxml')\n",
    "res"
   ]
  },
  {
   "cell_type": "code",
   "execution_count": 87,
   "metadata": {},
   "outputs": [],
   "source": [
    "each_listing = soup.find('div', {'id': 'Burner'})\n",
    "wines = []\n",
    "\n",
    "# for wine_listing in each_listing.find_all('div', {'data-id': '77810'}):\n",
    "for wine_listing in each_listing.find_all('div', {'class': 'product-listitem'}):\n",
    "#     print(wine_listing)\n",
    "    wine = {}\n",
    "    \n",
    "    if wine_listing.find('a', {'class': 'product-title-listitem'}).text:\n",
    "        wine['name'] = wine_listing.find('a', {'class': 'product-title-listitem'}).text\n",
    "    else: None\n",
    "        \n",
    "    if wine_listing.find_all('li')[1].text:\n",
    "        wine['color'] = wine_listing.find_all('li')[1].text\n",
    "    else: None\n",
    "        \n",
    "    if wine_listing.find('li', {'class': 'last'}).text:\n",
    "        wine['price'] = wine_listing.find('li', {'class': 'last'}).text\n",
    "    else: None\n",
    "        \n",
    "    if wine_listing.find('span', {'class': 'product-description-listitem'}).text:\n",
    "        wine['description'] = wine_listing.find('span', {'class': 'product-description-listitem'}).text\n",
    "    else: None\n",
    "        \n",
    "    wine['url'] = f'https://www.chambersstwines.com'+wine_listing.find('a')['href']\n",
    "    \n",
    "    time.sleep(2)\n",
    "    \n",
    "    wines.append(wine)\n",
    "  "
   ]
  },
  {
   "cell_type": "markdown",
   "metadata": {},
   "source": [
    "## Save each Country DataFrame\n",
    "Added `country` as a column to each DataFrame while they are seperate. For Kosher and Misc. Europe, those were added in after researching where each wine was from.<br>\n",
    "There were 5 null values for the category `color` when all the data was combined. Those were found, researched and replaced with the correct values. "
   ]
  },
  {
   "cell_type": "code",
   "execution_count": 215,
   "metadata": {},
   "outputs": [
    {
     "data": {
      "text/plain": [
       "name           0\n",
       "color          0\n",
       "price          0\n",
       "description    0\n",
       "url            0\n",
       "country        0\n",
       "dtype: int64"
      ]
     },
     "execution_count": 215,
     "metadata": {},
     "output_type": "execute_result"
    }
   ],
   "source": [
    "# AUS_df = pd.DataFrame(wines)\n",
    "# AUS_df['country'] = 'australia'\n",
    "# AUS_df.to_csv('../data/chambers_street/AUS_df.csv')\n",
    "AUS_df.isnull().sum()"
   ]
  },
  {
   "cell_type": "code",
   "execution_count": 219,
   "metadata": {},
   "outputs": [
    {
     "data": {
      "text/plain": [
       "name           0\n",
       "color          0\n",
       "price          0\n",
       "description    5\n",
       "url            0\n",
       "country        0\n",
       "dtype: int64"
      ]
     },
     "execution_count": 219,
     "metadata": {},
     "output_type": "execute_result"
    }
   ],
   "source": [
    "# AUSTRIA_df = pd.DataFrame(wines)\n",
    "# AUSTRIA_df['country'] = 'austria'\n",
    "# AUSTRIA_df.to_csv('../data/chambers_street/AUSTRIA_df.csv')\n",
    "AUSTRIA_df.isnull().sum()"
   ]
  },
  {
   "cell_type": "code",
   "execution_count": 255,
   "metadata": {},
   "outputs": [
    {
     "data": {
      "text/plain": [
       "name             0\n",
       "color            0\n",
       "price            0\n",
       "description    101\n",
       "url              0\n",
       "country          0\n",
       "dtype: int64"
      ]
     },
     "execution_count": 255,
     "metadata": {},
     "output_type": "execute_result"
    }
   ],
   "source": [
    "# FRANCE_df = pd.DataFrame(wines)\n",
    "# FRANCE_df['country'] = 'france'\n",
    "# FRANCE_df.to_csv('../data/chambers_street/FRANCE_df.csv')\n",
    "# FRANCE_df.loc[142]['color'] = 'white'\n",
    "# FRANCE_df.loc[268]['color'] = 'white sparkling'\n",
    "FRANCE_df.isnull().sum()"
   ]
  },
  {
   "cell_type": "code",
   "execution_count": 221,
   "metadata": {},
   "outputs": [
    {
     "data": {
      "text/plain": [
       "name           0\n",
       "color          0\n",
       "price          0\n",
       "description    3\n",
       "url            0\n",
       "country        0\n",
       "dtype: int64"
      ]
     },
     "execution_count": 221,
     "metadata": {},
     "output_type": "execute_result"
    }
   ],
   "source": [
    "# GERMANY_df = pd.DataFrame(wines)\n",
    "# GERMANY_df['country'] = 'germany'\n",
    "# GERMANY_df.to_csv('../data/chambers_street/GERMANY_df.csv')\n",
    "GERMANY_df.isnull().sum()"
   ]
  },
  {
   "cell_type": "code",
   "execution_count": 222,
   "metadata": {},
   "outputs": [
    {
     "data": {
      "text/plain": [
       "name            0\n",
       "color           0\n",
       "price           0\n",
       "description    46\n",
       "url             0\n",
       "country         0\n",
       "dtype: int64"
      ]
     },
     "execution_count": 222,
     "metadata": {},
     "output_type": "execute_result"
    }
   ],
   "source": [
    "# ITALY_df = pd.DataFrame(wines)\n",
    "# ITALY_df['country'] = 'italy'\n",
    "# ITALY_df.to_csv('../data/chambers_street/ITALY_df.csv')\n",
    "# ITALY_df['country'] = 'italy'\n",
    "ITALY_df.isnull().sum()"
   ]
  },
  {
   "cell_type": "code",
   "execution_count": 223,
   "metadata": {},
   "outputs": [
    {
     "data": {
      "text/plain": [
       "name           0\n",
       "color          0\n",
       "price          0\n",
       "description    0\n",
       "url            0\n",
       "country        0\n",
       "dtype: int64"
      ]
     },
     "execution_count": 223,
     "metadata": {},
     "output_type": "execute_result"
    }
   ],
   "source": [
    "# KOSHER_df = pd.DataFrame(wines)\n",
    "# KOSHER_df.loc[0]['country'] = 'spain'\n",
    "# KOSHER_df.loc[1:3]['country'] = 'isreal'\n",
    "# KOSHER_df.to_csv('../data/chambers_street/KOSHER_df.csv')\n",
    "KOSHER_df.isnull().sum()"
   ]
  },
  {
   "cell_type": "code",
   "execution_count": 224,
   "metadata": {},
   "outputs": [
    {
     "data": {
      "text/plain": [
       "name           0\n",
       "color          0\n",
       "price          0\n",
       "description    5\n",
       "url            0\n",
       "country        0\n",
       "dtype: int64"
      ]
     },
     "execution_count": 224,
     "metadata": {},
     "output_type": "execute_result"
    }
   ],
   "source": [
    "# MISC_df = pd.DataFrame(wines)\n",
    "# MISC_df.to_csv('../data/chambers_street/MISC_df.csv')\n",
    "# MISC_df.loc[0:1]['country'] = 'georgia'\n",
    "# MISC_df.loc[7]['country'] = 'georgia'\n",
    "# MISC_df.loc[9]['country'] = 'georgia'\n",
    "# MISC_df.loc[2:4]['country'] = 'switzerland'\n",
    "# MISC_df.loc[8]['country'] = 'slovenia'\n",
    "MISC_df.isnull().sum()"
   ]
  },
  {
   "cell_type": "code",
   "execution_count": 177,
   "metadata": {},
   "outputs": [
    {
     "data": {
      "text/html": [
       "<div>\n",
       "<style scoped>\n",
       "    .dataframe tbody tr th:only-of-type {\n",
       "        vertical-align: middle;\n",
       "    }\n",
       "\n",
       "    .dataframe tbody tr th {\n",
       "        vertical-align: top;\n",
       "    }\n",
       "\n",
       "    .dataframe thead th {\n",
       "        text-align: right;\n",
       "    }\n",
       "</style>\n",
       "<table border=\"1\" class=\"dataframe\">\n",
       "  <thead>\n",
       "    <tr style=\"text-align: right;\">\n",
       "      <th></th>\n",
       "      <th>name</th>\n",
       "      <th>color</th>\n",
       "      <th>price</th>\n",
       "      <th>description</th>\n",
       "      <th>url</th>\n",
       "      <th>country</th>\n",
       "    </tr>\n",
       "  </thead>\n",
       "  <tbody>\n",
       "    <tr>\n",
       "      <th>0</th>\n",
       "      <td>Arona 2019 Marlborough Sauvignon Blanc</td>\n",
       "      <td>white</td>\n",
       "      <td>$13.99</td>\n",
       "      <td>Classically zippy and refreshing Sauvignon Bla...</td>\n",
       "      <td>https://www.chambersstwines.com/Products/77644...</td>\n",
       "      <td>new zealand</td>\n",
       "    </tr>\n",
       "  </tbody>\n",
       "</table>\n",
       "</div>"
      ],
      "text/plain": [
       "                                     name  color   price  \\\n",
       "0  Arona 2019 Marlborough Sauvignon Blanc  white  $13.99   \n",
       "\n",
       "                                         description  \\\n",
       "0  Classically zippy and refreshing Sauvignon Bla...   \n",
       "\n",
       "                                                 url      country  \n",
       "0  https://www.chambersstwines.com/Products/77644...  new zealand  "
      ]
     },
     "execution_count": 177,
     "metadata": {},
     "output_type": "execute_result"
    }
   ],
   "source": [
    "# NZ_df = pd.DataFrame(wines)\n",
    "# NZ_df.to_csv('../data/chambers_street/NZ_df.csv')\n",
    "# NZ_df['country'] = 'new zealand'\n",
    "NZ_df.head()"
   ]
  },
  {
   "cell_type": "code",
   "execution_count": 233,
   "metadata": {},
   "outputs": [
    {
     "data": {
      "text/plain": [
       "name           0\n",
       "color          0\n",
       "price          0\n",
       "description    6\n",
       "url            0\n",
       "country        0\n",
       "dtype: int64"
      ]
     },
     "execution_count": 233,
     "metadata": {},
     "output_type": "execute_result"
    }
   ],
   "source": [
    "# PORT_df = pd.DataFrame(wines)\n",
    "# PORT_df.to_csv('../data/chambers_street/PORT_df.csv')\n",
    "# PORT_df['country'] = 'portugal'\n",
    "# PORT_df.loc[6]['color'] = 'red fortified sweet' \n",
    "PORT_df.isnull().sum()"
   ]
  },
  {
   "cell_type": "code",
   "execution_count": 234,
   "metadata": {},
   "outputs": [
    {
     "data": {
      "text/plain": [
       "name           0\n",
       "color          0\n",
       "price          0\n",
       "url            0\n",
       "description    4\n",
       "country        0\n",
       "dtype: int64"
      ]
     },
     "execution_count": 234,
     "metadata": {},
     "output_type": "execute_result"
    }
   ],
   "source": [
    "# SPAIN_df = pd.DataFrame(wines)\n",
    "# SPAIN_df.to_csv('../data/chambers_street/SPAIN_df.csv')\n",
    "# SPAIN_df['country'] = 'spain'\n",
    "SPAIN_df.isnull().sum()"
   ]
  },
  {
   "cell_type": "code",
   "execution_count": 235,
   "metadata": {},
   "outputs": [
    {
     "data": {
      "text/plain": [
       "name           0\n",
       "color          0\n",
       "price          0\n",
       "description    0\n",
       "url            0\n",
       "country        0\n",
       "dtype: int64"
      ]
     },
     "execution_count": 235,
     "metadata": {},
     "output_type": "execute_result"
    }
   ],
   "source": [
    "# SAFRICA_df = pd.DataFrame(wines)\n",
    "# SAFRICA_df.to_csv('../data/chambers_street/SAFRICA_df.csv')\n",
    "# SAFRICA_df['country'] = 'south africa'\n",
    "SAFRICA_df.isnull().sum()"
   ]
  },
  {
   "cell_type": "code",
   "execution_count": 236,
   "metadata": {},
   "outputs": [
    {
     "data": {
      "text/plain": [
       "name           0\n",
       "color          0\n",
       "price          0\n",
       "description    0\n",
       "url            0\n",
       "country        0\n",
       "dtype: int64"
      ]
     },
     "execution_count": 236,
     "metadata": {},
     "output_type": "execute_result"
    }
   ],
   "source": [
    "# SAMER_df = pd.DataFrame(wines)\n",
    "# SAMER_df.to_csv('../data/chambers_street/SAMER_df.csv')\n",
    "# SAMER_df['country'] = 'chile'\n",
    "# SAMER_df.loc[0]['country'] = 'argentina'\n",
    "# SAMER_df.loc[3:4]['country'] = 'argentina'\n",
    "# SAMER_df.loc[6]['country'] = 'argentina'\n",
    "# SAMER_df.loc[8]['country'] = 'argentina'\n",
    "SAMER_df.isnull().sum()"
   ]
  },
  {
   "cell_type": "code",
   "execution_count": 246,
   "metadata": {},
   "outputs": [
    {
     "data": {
      "text/plain": [
       "name           0\n",
       "color          0\n",
       "price          0\n",
       "description    3\n",
       "url            0\n",
       "country        0\n",
       "dtype: int64"
      ]
     },
     "execution_count": 246,
     "metadata": {},
     "output_type": "execute_result"
    }
   ],
   "source": [
    "# USA_df = pd.DataFrame(wines)\n",
    "# USA_df.to_csv('../data/chambers_street/USA_df.csv')\n",
    "# USA_df['country'] = 'usa'\n",
    "# USA_df.loc[15]['color'] = 'red'\n",
    "# USA_df.loc[59]['color'] = 'white'\n",
    "USA_df.isnull().sum()"
   ]
  },
  {
   "cell_type": "markdown",
   "metadata": {},
   "source": [
    "# Combine all DataFrames into one for Chambers Street"
   ]
  },
  {
   "cell_type": "code",
   "execution_count": 256,
   "metadata": {},
   "outputs": [],
   "source": [
    "chambers_list = [AUS_df, AUSTRIA_df, FRANCE_df, GERMANY_df, ITALY_df, KOSHER_df, \n",
    "                 MISC_df, NZ_df, PORT_df, SAFRICA_df, SAMER_df, SPAIN_df, USA_df]"
   ]
  },
  {
   "cell_type": "code",
   "execution_count": 257,
   "metadata": {},
   "outputs": [],
   "source": [
    "all_chambers_df = pd.concat(chambers_list)"
   ]
  },
  {
   "cell_type": "code",
   "execution_count": 11,
   "metadata": {},
   "outputs": [],
   "source": [
    "# all_chambers_df.to_csv('../data/chambers_street/all_chambers_df.csv', index=False)"
   ]
  },
  {
   "cell_type": "code",
   "execution_count": 10,
   "metadata": {},
   "outputs": [
    {
     "data": {
      "text/plain": [
       "(944, 7)"
      ]
     },
     "execution_count": 10,
     "metadata": {},
     "output_type": "execute_result"
    }
   ],
   "source": [
    "all_chambers_df.shape"
   ]
  },
  {
   "cell_type": "code",
   "execution_count": null,
   "metadata": {},
   "outputs": [],
   "source": []
  }
 ],
 "metadata": {
  "kernelspec": {
   "display_name": "Python 3",
   "language": "python",
   "name": "python3"
  },
  "language_info": {
   "codemirror_mode": {
    "name": "ipython",
    "version": 3
   },
   "file_extension": ".py",
   "mimetype": "text/x-python",
   "name": "python",
   "nbconvert_exporter": "python",
   "pygments_lexer": "ipython3",
   "version": "3.7.6"
  }
 },
 "nbformat": 4,
 "nbformat_minor": 4
}
