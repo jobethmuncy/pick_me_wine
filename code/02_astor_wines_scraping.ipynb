{
 "cells": [
  {
   "cell_type": "markdown",
   "metadata": {},
   "source": [
    "# Astor pages\n",
    "Scraping completed on June 1, 2020<br>\n",
    "Here each page of https://www.astorwines.com/ will be scraped for detailed information about each wine. The url for each wine has been scraped and in the `astor_producer.ipynb` file, pickled, and saved. "
   ]
  },
  {
   "cell_type": "code",
   "execution_count": 1,
   "metadata": {},
   "outputs": [],
   "source": [
    "import os\n",
    "import requests\n",
    "import numpy as np\n",
    "from bs4 import BeautifulSoup\n",
    "from pprint import pprint\n",
    "import pandas as pd\n",
    "import pickle\n",
    "import time\n",
    "import json"
   ]
  },
  {
   "cell_type": "markdown",
   "metadata": {},
   "source": [
    "Open each group of saved urls, run them through the function, and concat them into one DataFrame. "
   ]
  },
  {
   "cell_type": "code",
   "execution_count": null,
   "metadata": {},
   "outputs": [],
   "source": [
    "with open('../data/astor_txt/0-100.txt', 'rb') as fp:\n",
    "    b = pickle.load(fp)"
   ]
  },
  {
   "cell_type": "code",
   "execution_count": 77,
   "metadata": {},
   "outputs": [],
   "source": [
    "def get_wines(url):\n",
    "    wines = []\n",
    "\n",
    "    for wine in url: \n",
    "        res = requests.get(wine)\n",
    "        soup = BeautifulSoup(res.content, 'lxml')\n",
    "        time.sleep(10)\n",
    "\n",
    "        for info in soup.find_all('div', {'class': 'item-profile-title'}):\n",
    "    #         print(info)\n",
    "            spec = {}\n",
    "\n",
    "            spec['name'] = soup.find('h1', {'class': 'page-title'}).text\n",
    "\n",
    "            if soup.find('a', {'id': 'ctl00_ctl00_middleContent_pageContent_lnkbProducer'}):\n",
    "                spec['producer'] = soup.find('a', {'id': 'ctl00_ctl00_middleContent_pageContent_lnkbProducer'}).text\n",
    "            else: None\n",
    "\n",
    "            if soup.find('a', {'id': 'ctl00_ctl00_middleContent_pageContent_lnkbVintage'}):\n",
    "                spec['vintage'] = soup.find('a', {'id': 'ctl00_ctl00_middleContent_pageContent_lnkbVintage'}).text\n",
    "            else: None\n",
    "\n",
    "            if soup.find('span', {'class': 'item-size-number pull-right text-muted'}):\n",
    "                spec['bottle_size'] = soup.find('span', {'class': 'item-size-number pull-right text-muted'}).text\n",
    "            else: None\n",
    "\n",
    "            if soup.find('a', {'id': 'ctl00_ctl00_middleContent_pageContent_lnkbColor'}):\n",
    "                spec['color'] = soup.find('a', {'id': 'ctl00_ctl00_middleContent_pageContent_lnkbColor'}).text\n",
    "            else: None\n",
    "\n",
    "            if soup.find('span', {'class': 'price-value price-bottle'}):\n",
    "                spec['price'] = soup.find('span', {'class': 'price-value price-bottle'}).text\n",
    "            elif soup.find('span', {'class': 'price-value price-bottle price-sale'}):\n",
    "                spec['price'] = soup.find('span', {'class': 'price-value price-bottle price-sale'}).text\n",
    "            else: None\n",
    "\n",
    "            if soup.find('a', {'id': 'ctl00_ctl00_middleContent_pageContent_lnkbCountry'}):\n",
    "                spec['country'] = soup.find('a', {'id': 'ctl00_ctl00_middleContent_pageContent_lnkbCountry'}).text\n",
    "            else: None\n",
    "\n",
    "            if soup.find('a', {'id': 'ctl00_ctl00_middleContent_pageContent_lnkbRegion'}):\n",
    "                spec['region'] = soup.find('a', {'id': 'ctl00_ctl00_middleContent_pageContent_lnkbRegion'}).text\n",
    "            else: None \n",
    "\n",
    "            if soup.find('a', {'id': 'ctl00_ctl00_middleContent_pageContent_lnkbSubRegion'}):\n",
    "                spec['sub_region'] = soup.find('a', {'id': 'ctl00_ctl00_middleContent_pageContent_lnkbSubRegion'}).text\n",
    "            else: None\n",
    "\n",
    "            if soup.find('a', {'id': 'ctl00_ctl00_middleContent_pageContent_lnkbGrape1'}):\n",
    "                spec['grape_1'] = soup.find('a', {'id': 'ctl00_ctl00_middleContent_pageContent_lnkbGrape1'}).text\n",
    "            else: None\n",
    "\n",
    "            if soup.find('a', {'id': 'ctl00_ctl00_middleContent_pageContent_lnkbGrape2'}):\n",
    "                spec['grape_2'] = soup.find('a', {'id': 'ctl00_ctl00_middleContent_pageContent_lnkbGrape2'}).text\n",
    "            else: None\n",
    "\n",
    "            if soup.find('a', {'id': 'ctl00_ctl00_middleContent_pageContent_lnkbGrape3'}):\n",
    "                spec['grape_3'] = soup.find('a', {'id': 'ctl00_ctl00_middleContent_pageContent_lnkbGrape3'}).text\n",
    "            else: None\n",
    "\n",
    "            if soup.find('a', {'id': 'ctl00_ctl00_middleContent_pageContent_lnkbGrape4'}):\n",
    "                spec['grape_4'] = soup.find('a', {'id': 'ctl00_ctl00_middleContent_pageContent_lnkbGrape4'}).text\n",
    "            else: None\n",
    "\n",
    "            if soup.find('a', {'id': 'ctl00_ctl00_middleContent_pageContent_lnkbGrape5'}):\n",
    "                spec['grape_5'] = soup.find('a', {'id': 'ctl00_ctl00_middleContent_pageContent_lnkbGrape5'}).text\n",
    "            else: None\n",
    "\n",
    "            if soup.find('span', {'id': 'ctl00_ctl00_middleContent_pageContent_lblDescr'}):\n",
    "                spec['tasting_notes'] = soup.find('span', {'id': 'ctl00_ctl00_middleContent_pageContent_lblDescr'}).text\n",
    "            else: None\n",
    "\n",
    "            if soup.find('div', {'class': 'item-profile-staff-pick'}):\n",
    "                spec['staff_tasting'] = soup.find('div', {'class': 'item-profile-staff-pick'}).text\n",
    "            else: None\n",
    "\n",
    "            spec['url'] = wine\n",
    "\n",
    "            wines.append(spec)\n",
    "            \n",
    "    return pd.DataFrame(wines)\n",
    "    "
   ]
  },
  {
   "cell_type": "markdown",
   "metadata": {},
   "source": [
    "# Concat DataFrames\n",
    "There is not rate limit on this site but even with the timer the function was not able to run too many wines at a time. Smaller segments work and occassionally a higher timer setting. I saved each section to the DataFrames as they ran. "
   ]
  },
  {
   "cell_type": "code",
   "execution_count": null,
   "metadata": {},
   "outputs": [],
   "source": [
    "df_1 = pd.concat([df1_15, df1_30, df1_50, df1_75, df1_90, df1_100, df1_110, df1_130, df1_145, df1_end])\n",
    "df_1.shape"
   ]
  },
  {
   "cell_type": "code",
   "execution_count": null,
   "metadata": {},
   "outputs": [],
   "source": [
    "df_2 = pd.concat([df2_20, df2_40, df2_60, df2_80, df2_100, df2_115, df2_125, df2_140, df2_155, df2_170, df2_end])\n",
    "df_2.shape"
   ]
  },
  {
   "cell_type": "code",
   "execution_count": null,
   "metadata": {
    "scrolled": true
   },
   "outputs": [],
   "source": [
    "df_3 = pd.concat([df_10, df_40, df_50, df_60, df_75, df_90, df_105, df_115, df_130, df_end])\n",
    "df_3.shape"
   ]
  },
  {
   "cell_type": "code",
   "execution_count": null,
   "metadata": {},
   "outputs": [],
   "source": [
    "df_4 = pd.concat([df4_20, df4_40, df4_60, df4_80, df4_100, df4_120, df4_end])\n",
    "df_4.shape"
   ]
  },
  {
   "cell_type": "code",
   "execution_count": null,
   "metadata": {
    "scrolled": true
   },
   "outputs": [],
   "source": [
    "df_5 = pd.concat([df5_20, df5_40, df5_60, df5_80, df5_110, df5_end])\n",
    "df_5.shape"
   ]
  },
  {
   "cell_type": "code",
   "execution_count": null,
   "metadata": {},
   "outputs": [],
   "source": [
    "df_6 = pd.concat([df6_40, df6_80, df6_100, df6_125, df6_150, df6_end])\n",
    "df_6.shape"
   ]
  },
  {
   "cell_type": "code",
   "execution_count": null,
   "metadata": {
    "scrolled": true
   },
   "outputs": [],
   "source": [
    "df_7 = pd.concat([df7_20, df7_50, df7_80, df7_100, df7_125, df7_end])\n",
    "df_7.shape"
   ]
  },
  {
   "cell_type": "code",
   "execution_count": null,
   "metadata": {},
   "outputs": [],
   "source": [
    "df_8 = pd.concat([df8_30, df8_50, df8_75, df8_100, df8_130, df8_end])\n",
    "df_8.shape"
   ]
  },
  {
   "cell_type": "code",
   "execution_count": null,
   "metadata": {
    "scrolled": true
   },
   "outputs": [],
   "source": [
    "df_9 = pd.concat([df9_40, df9_80, df9_120, df9_160, df9_200, df9_end])\n",
    "df_9.shape"
   ]
  },
  {
   "cell_type": "code",
   "execution_count": null,
   "metadata": {},
   "outputs": [],
   "source": [
    "df_10 = pd.concat([df10_25, df10_50, df10_80, df10_100, df10_120, df10_140, df10_165, df10_end])\n",
    "df_10.shape"
   ]
  },
  {
   "cell_type": "code",
   "execution_count": null,
   "metadata": {},
   "outputs": [],
   "source": [
    "df_11 = pd.concat([df11_40, df11_80, df11_120, df11_end])\n",
    "df_11.shape"
   ]
  },
  {
   "cell_type": "code",
   "execution_count": null,
   "metadata": {},
   "outputs": [],
   "source": [
    "df_12 = pd.concat([df12_50, df12_100, df12_end])\n",
    "df_12.shape"
   ]
  },
  {
   "cell_type": "code",
   "execution_count": null,
   "metadata": {},
   "outputs": [],
   "source": [
    "df_13 = pd.concat([df13_30, df13_60, df13_90, df13_120, df13_150, df13_end])\n",
    "df_13.shape"
   ]
  },
  {
   "cell_type": "code",
   "execution_count": null,
   "metadata": {},
   "outputs": [],
   "source": [
    "df_14 = pd.concat([df14_end, df14_80, df14_110, df14_140, df14_170])\n",
    "df_14.shape"
   ]
  },
  {
   "cell_type": "code",
   "execution_count": null,
   "metadata": {},
   "outputs": [],
   "source": [
    "df_15 = pd.concat([df15_40, df15_70, df15_100, df15_130, df15_160, df15_end])\n",
    "df_15.shape"
   ]
  },
  {
   "cell_type": "code",
   "execution_count": null,
   "metadata": {},
   "outputs": [],
   "source": [
    "df_16.shape"
   ]
  },
  {
   "cell_type": "code",
   "execution_count": null,
   "metadata": {
    "scrolled": true
   },
   "outputs": [],
   "source": [
    "df_17 = pd.concat([df17_end, df17_80, df17_120, df17_e])\n",
    "df_17.shape"
   ]
  },
  {
   "cell_type": "code",
   "execution_count": null,
   "metadata": {
    "scrolled": true
   },
   "outputs": [],
   "source": [
    "df_18 = pd.concat([df18_40, df18_80, df18_120, df18_140, df18_end])\n",
    "df_18.shape"
   ]
  },
  {
   "cell_type": "code",
   "execution_count": null,
   "metadata": {},
   "outputs": [],
   "source": [
    "df_19 = pd.concat([df19_25, df19_50, df19_75, df19_100, df19_125, df19_end])\n",
    "df_19.shape"
   ]
  },
  {
   "cell_type": "markdown",
   "metadata": {},
   "source": [
    "# Save each group to data folder \n",
    "I comment these out when I am not using them to make sure I do not overwrite them accidentally. <br>\n",
    "In the data folder, these have been renamed to `df_#.csv` and moved into a the folder `astor_data`."
   ]
  },
  {
   "cell_type": "code",
   "execution_count": null,
   "metadata": {},
   "outputs": [],
   "source": [
    "# df_1.to_csv('../data/astor_data/df_1.csv', index=False)"
   ]
  },
  {
   "cell_type": "code",
   "execution_count": null,
   "metadata": {},
   "outputs": [],
   "source": [
    "# df_2.to_csv('../data/astor_data/df_2.csv', index=False)"
   ]
  },
  {
   "cell_type": "code",
   "execution_count": null,
   "metadata": {},
   "outputs": [],
   "source": [
    "# df_3.to_csv('../data/astor_data/df_3.csv', index=False)"
   ]
  },
  {
   "cell_type": "code",
   "execution_count": null,
   "metadata": {},
   "outputs": [],
   "source": [
    "# df_4.to_csv('../data/astor_data/df_4.csv', index=False)"
   ]
  },
  {
   "cell_type": "code",
   "execution_count": null,
   "metadata": {},
   "outputs": [],
   "source": [
    "# df_5.to_csv('../data/astor_data/df_5.csv', index=False)"
   ]
  },
  {
   "cell_type": "code",
   "execution_count": null,
   "metadata": {},
   "outputs": [],
   "source": [
    "# df_6.to_csv('../data/astor_data/df_6.csv', index=False)"
   ]
  },
  {
   "cell_type": "code",
   "execution_count": null,
   "metadata": {},
   "outputs": [],
   "source": [
    "# df_7.to_csv('../data/astor_data/df_7.csv', index=False)"
   ]
  },
  {
   "cell_type": "code",
   "execution_count": null,
   "metadata": {},
   "outputs": [],
   "source": [
    "# df_8.to_csv('../data/astor_data/df_8.csv', index=False)"
   ]
  },
  {
   "cell_type": "code",
   "execution_count": null,
   "metadata": {},
   "outputs": [],
   "source": [
    "# df_9.to_csv('../data/astor_data/df_9.csv', index=False)"
   ]
  },
  {
   "cell_type": "code",
   "execution_count": null,
   "metadata": {},
   "outputs": [],
   "source": [
    "# df_10.to_csv('../data/astor_data/df_10.csv', index=False)"
   ]
  },
  {
   "cell_type": "code",
   "execution_count": null,
   "metadata": {},
   "outputs": [],
   "source": [
    "# df_11.to_csv('../data/astor_data/df_11.csv', index=False)"
   ]
  },
  {
   "cell_type": "code",
   "execution_count": null,
   "metadata": {},
   "outputs": [],
   "source": [
    "# df_12.to_csv('../data/astor_data/df_12.csv', index=False)"
   ]
  },
  {
   "cell_type": "code",
   "execution_count": null,
   "metadata": {},
   "outputs": [],
   "source": [
    "# df_13.to_csv('../data/astor_data/df_13.csv', index=False)"
   ]
  },
  {
   "cell_type": "code",
   "execution_count": null,
   "metadata": {},
   "outputs": [],
   "source": [
    "# df_14.to_csv('../data/astor_data/df_14.csv', index=False)"
   ]
  },
  {
   "cell_type": "code",
   "execution_count": null,
   "metadata": {},
   "outputs": [],
   "source": [
    "# df_15.to_csv('../data/astor_data/df_15.csv', index=False)"
   ]
  },
  {
   "cell_type": "code",
   "execution_count": null,
   "metadata": {},
   "outputs": [],
   "source": [
    "# df_16.to_csv('../data/astor_data/df_16.csv', index=False)"
   ]
  },
  {
   "cell_type": "code",
   "execution_count": null,
   "metadata": {},
   "outputs": [],
   "source": [
    "# df_17.to_csv('../data/astor_data/df_17.csv', index=False)"
   ]
  },
  {
   "cell_type": "code",
   "execution_count": null,
   "metadata": {},
   "outputs": [],
   "source": [
    "# df_18.to_csv('../data/astor_data/df_18.csv', index=False)"
   ]
  },
  {
   "cell_type": "code",
   "execution_count": null,
   "metadata": {},
   "outputs": [],
   "source": [
    "# df_19.to_csv('../data/astor_data/df_19.csv', index=False)"
   ]
  },
  {
   "cell_type": "markdown",
   "metadata": {},
   "source": [
    "# Combine all DataFrames into one for Astor"
   ]
  },
  {
   "cell_type": "code",
   "execution_count": 2,
   "metadata": {},
   "outputs": [],
   "source": [
    "df_1 = pd.read_csv('../data/astor_data/df_1.csv')\n",
    "df_2 = pd.read_csv('../data/astor_data/df_2.csv')\n",
    "df_3 = pd.read_csv('../data/astor_data/df_3.csv')\n",
    "df_4 = pd.read_csv('../data/astor_data/df_4.csv')\n",
    "df_5 = pd.read_csv('../data/astor_data/df_5.csv')\n",
    "df_6 = pd.read_csv('../data/astor_data/df_6.csv')\n",
    "df_7 = pd.read_csv('../data/astor_data/df_7.csv')\n",
    "df_8 = pd.read_csv('../data/astor_data/df_8.csv')\n",
    "df_9 = pd.read_csv('../data/astor_data/df_9.csv')\n",
    "df_10 = pd.read_csv('../data/astor_data/df_10.csv')\n",
    "df_11 = pd.read_csv('../data/astor_data/df_11.csv')\n",
    "df_12 = pd.read_csv('../data/astor_data/df_12.csv')\n",
    "df_13 = pd.read_csv('../data/astor_data/df_13.csv')\n",
    "df_14 = pd.read_csv('../data/astor_data/df_14.csv')\n",
    "df_15 = pd.read_csv('../data/astor_data/df_15.csv')\n",
    "df_16 = pd.read_csv('../data/astor_data/df_16.csv')\n",
    "df_17 = pd.read_csv('../data/astor_data/df_17.csv')\n",
    "df_18 = pd.read_csv('../data/astor_data/df_18.csv')\n",
    "df_19 = pd.read_csv('../data/astor_data/df_19.csv')"
   ]
  },
  {
   "cell_type": "markdown",
   "metadata": {},
   "source": [
    "###  Look into null values now before combining into one larger DataFrame\n",
    "`bottle_size`, `price`, `grapes`, `region`, `subregion`, `staff_tasting`, `tasting_notes` can be looked at in the larger DataFrame. Looking for values that can be accounted for here.<br><br>\n",
    "Changing null values in vintage to 0 if they make sense:<br>\n",
    "`df_1['vintage']`  ciders, 1 fino sherry, box of wine<br>\n",
    "`df_2['vintage']` sherry, maderia, prosecco, cider<br>\n",
    "`df_3['vintage']` sherry, maderia, jug of wine<br>\n",
    "`df_6['vintage']` marasala, maderia, jug of wine, 187ml of wine (NV)<br>\n",
    "`df_7['vintage]` sherry, one out of stock Loire red (NV listed)<br>\n",
    "`df_8['vintage]` port<br>\n",
    "`df_9['vintage]` sherry, mead<br>\n",
    "`df_10['vintage]` sherry<br>\n",
    "`df_11['vintage]` sherry, port<br>\n",
    "`df_12['vintage]` port<br>\n",
    "`df_13['vintage]` sherry, Manischewitz<br>\n",
    "`df_14['vintage]` port, marsala<br>\n",
    "`df_15['vintage]` sherry<br>\n",
    "`df_16['vintage]` sherry, port<br>\n",
    "`df_17['vintage]` port, cider, ginger wine<br>\n",
    "`df_18['vintage]` sherry, maderia, port<br>\n",
    "`df_19['vintage]` box of wine<br>"
   ]
  },
  {
   "cell_type": "code",
   "execution_count": 3,
   "metadata": {},
   "outputs": [],
   "source": [
    "df_1['vintage'].fillna(0, inplace=True)\n",
    "df_2['vintage'].fillna(0, inplace=True)\n",
    "df_3['vintage'].fillna(0, inplace=True)\n",
    "df_6['vintage'].fillna(0, inplace=True)\n",
    "df_7['vintage'].fillna(0, inplace=True)\n",
    "df_8['vintage'].fillna(0, inplace=True)\n",
    "df_9['vintage'].fillna(0, inplace=True)\n",
    "df_10['vintage'].fillna(0, inplace=True)\n",
    "df_11['vintage'].fillna(0, inplace=True)\n",
    "df_12['vintage'].fillna(0, inplace=True)\n",
    "df_13['vintage'].fillna(0, inplace=True)\n",
    "df_14['vintage'].fillna(0, inplace=True)\n",
    "df_15['vintage'].fillna(0, inplace=True)\n",
    "df_16['vintage'].fillna(0, inplace=True)\n",
    "df_17['vintage'].fillna(0, inplace=True)\n",
    "df_18['vintage'].fillna(0, inplace=True)\n",
    "df_19['vintage'].fillna(0, inplace=True)"
   ]
  },
  {
   "cell_type": "code",
   "execution_count": 4,
   "metadata": {
    "scrolled": true
   },
   "outputs": [],
   "source": [
    "# between the url collection and scraping the pages: this one was no longer instock\n",
    "df_3.drop(df_3.index[91], inplace=True)\n",
    "# this url is missing\n",
    "df_3.loc[90, 'url'] = 'https://www.astorwines.com/SearchResultsSingle.aspx?p=1&search=39412&searchtype=Contains'"
   ]
  },
  {
   "cell_type": "code",
   "execution_count": 5,
   "metadata": {},
   "outputs": [],
   "source": [
    "# adjusted these values to be correct \n",
    "df_3.loc[34:36, 'country'] = 'portugal'\n",
    "df_3.loc[34:36, 'region'] = 'maderia'"
   ]
  },
  {
   "cell_type": "code",
   "execution_count": 6,
   "metadata": {},
   "outputs": [],
   "source": [
    "# Chateau Musar is in Bekka Valley, Lebanon\n",
    "df_5.loc[68:70, 'region'] = 'bekka valley'"
   ]
  },
  {
   "cell_type": "code",
   "execution_count": 7,
   "metadata": {},
   "outputs": [],
   "source": [
    "# adjusted these values to be correct \n",
    "df_6.loc[126:127, 'country'] = 'portugal'\n",
    "df_6.loc[126:127, 'region'] = 'maderia'"
   ]
  },
  {
   "cell_type": "code",
   "execution_count": 13,
   "metadata": {},
   "outputs": [],
   "source": [
    "# Glinavos is in Ioannina, Greece\n",
    "df_8.loc[16]['region'] = 'ioannina'"
   ]
  },
  {
   "cell_type": "code",
   "execution_count": 20,
   "metadata": {},
   "outputs": [],
   "source": [
    "# this is ginger beer\n",
    "df_10.drop(df_10.index[95], inplace=True)"
   ]
  },
  {
   "cell_type": "code",
   "execution_count": 23,
   "metadata": {},
   "outputs": [],
   "source": [
    "# Barolo is in piedmont\n",
    "df_10.loc[56, 'region'] = 'piedmont'"
   ]
  },
  {
   "cell_type": "code",
   "execution_count": 44,
   "metadata": {},
   "outputs": [],
   "source": [
    "# not sure why this was missing: url was in the name. The rest were null values \n",
    "df_13.loc[103, 'name'] = 'Marqués de Arviza, \"Selección Especial\" Rioja - 2016'\n",
    "df_13.loc[103, 'producer'] = 'Marqués de Arviza'\n",
    "df_13.loc[103, 'vintage'] = 2016\n",
    "df_13.loc[103, 'bottle_size'] = '750mL '\n",
    "df_13.loc[103, 'color'] = 'red'\n",
    "df_13.loc[103, 'price'] = '$24.96'\n",
    "df_13.loc[103, 'country'] = 'spain'\n",
    "df_13.loc[103, 'region'] = 'rioja'\n",
    "df_13.loc[103, 'grape_1'] = 'tempranillo'\n",
    "df_13.loc[103, 'tasting_notes'] = 'A powerful Rioja with dark fruit and structured tannins. A solid match for braised short ribs and carnitas. Oak barrel aging for 14 months and 6 months in concrete. The estate has 45 hectares of vineyards planted to clay soil and is run by Antonio Ruiz Clavijo and his son Mario Ruiz Clavijo (5th generation).'\n",
    "df_13.loc[103, 'url'] = 'https://www.astorwines.com/SearchResultsSingle.aspx?p=1&search=42005&searchtype=Contains'\n"
   ]
  },
  {
   "cell_type": "code",
   "execution_count": 40,
   "metadata": {},
   "outputs": [],
   "source": [
    "# yes 720\n",
    "df_13.loc[84, 'bottle_size'] = 720"
   ]
  },
  {
   "cell_type": "code",
   "execution_count": 46,
   "metadata": {},
   "outputs": [],
   "source": [
    "# this is the same wine was 103 but missing url: info filled in above. Drop this row\n",
    "df_13.drop(df_13.index[102], inplace=True)"
   ]
  },
  {
   "cell_type": "code",
   "execution_count": 52,
   "metadata": {},
   "outputs": [],
   "source": [
    "# had a hunch this was the grape\n",
    "#https://bodegasmonje.com/shop/en/products/wines/hollera.html\n",
    "df_14.loc[40, 'grape_1'] = 'listan negro'"
   ]
  },
  {
   "cell_type": "code",
   "execution_count": 59,
   "metadata": {},
   "outputs": [],
   "source": [
    "# adjusted these values to be correct \n",
    "df_16.loc[80:82, 'country'] = 'portugal'\n",
    "df_16.loc[80:82, 'region'] = 'maderia'"
   ]
  },
  {
   "cell_type": "code",
   "execution_count": 69,
   "metadata": {},
   "outputs": [],
   "source": [
    "df_19.loc[75, 'bottle_size'] = '650mL'"
   ]
  },
  {
   "cell_type": "code",
   "execution_count": 70,
   "metadata": {
    "scrolled": true
   },
   "outputs": [
    {
     "data": {
      "text/plain": [
       "name               0\n",
       "producer           0\n",
       "vintage            0\n",
       "bottle_size        0\n",
       "color              0\n",
       "price             24\n",
       "country            0\n",
       "region             4\n",
       "grape_1            0\n",
       "tasting_notes      1\n",
       "url                0\n",
       "grape_2          115\n",
       "grape_3          143\n",
       "sub_region        70\n",
       "staff_tasting    103\n",
       "grape_5          159\n",
       "dtype: int64"
      ]
     },
     "execution_count": 70,
     "metadata": {},
     "output_type": "execute_result"
    }
   ],
   "source": [
    "df_19.isnull().sum()"
   ]
  },
  {
   "cell_type": "markdown",
   "metadata": {
    "collapsed": true
   },
   "source": [
    "Initial Cleaning done on Astor. Combine all into one DataFrame."
   ]
  },
  {
   "cell_type": "code",
   "execution_count": 72,
   "metadata": {},
   "outputs": [],
   "source": [
    "all_astor_df = pd.concat([df_1, df_2, df_3, df_4, df_5, df_6, df_7, df_8, df_9,\n",
    "             df_10, df_11, df_12, df_13, df_14, df_15, df_16, df_17,\n",
    "             df_18, df_19])"
   ]
  },
  {
   "cell_type": "code",
   "execution_count": 78,
   "metadata": {},
   "outputs": [],
   "source": [
    "# all_astor_df.to_csv('../data/astor_data/all_astor_df.csv', index=False)"
   ]
  },
  {
   "cell_type": "code",
   "execution_count": 11,
   "metadata": {},
   "outputs": [],
   "source": [
    "astor = pd.read_csv('../data/astor_data/all_astor_df.csv')"
   ]
  },
  {
   "cell_type": "code",
   "execution_count": 12,
   "metadata": {},
   "outputs": [
    {
     "data": {
      "text/html": [
       "<div>\n",
       "<style scoped>\n",
       "    .dataframe tbody tr th:only-of-type {\n",
       "        vertical-align: middle;\n",
       "    }\n",
       "\n",
       "    .dataframe tbody tr th {\n",
       "        vertical-align: top;\n",
       "    }\n",
       "\n",
       "    .dataframe thead th {\n",
       "        text-align: right;\n",
       "    }\n",
       "</style>\n",
       "<table border=\"1\" class=\"dataframe\">\n",
       "  <thead>\n",
       "    <tr style=\"text-align: right;\">\n",
       "      <th></th>\n",
       "      <th>name</th>\n",
       "      <th>producer</th>\n",
       "      <th>vintage</th>\n",
       "      <th>bottle_size</th>\n",
       "      <th>color</th>\n",
       "      <th>price</th>\n",
       "      <th>country</th>\n",
       "      <th>region</th>\n",
       "      <th>grape_1</th>\n",
       "      <th>tasting_notes</th>\n",
       "      <th>url</th>\n",
       "      <th>grape_2</th>\n",
       "      <th>grape_3</th>\n",
       "      <th>staff_tasting</th>\n",
       "      <th>sub_region</th>\n",
       "      <th>grape_5</th>\n",
       "    </tr>\n",
       "  </thead>\n",
       "  <tbody>\n",
       "  </tbody>\n",
       "</table>\n",
       "</div>"
      ],
      "text/plain": [
       "Empty DataFrame\n",
       "Columns: [name, producer, vintage, bottle_size, color, price, country, region, grape_1, tasting_notes, url, grape_2, grape_3, staff_tasting, sub_region, grape_5]\n",
       "Index: []"
      ]
     },
     "execution_count": 12,
     "metadata": {},
     "output_type": "execute_result"
    }
   ],
   "source": [
    "astor[astor['country'] == 'madeira']"
   ]
  },
  {
   "cell_type": "code",
   "execution_count": null,
   "metadata": {},
   "outputs": [],
   "source": []
  }
 ],
 "metadata": {
  "kernelspec": {
   "display_name": "Python 3",
   "language": "python",
   "name": "python3"
  },
  "language_info": {
   "codemirror_mode": {
    "name": "ipython",
    "version": 3
   },
   "file_extension": ".py",
   "mimetype": "text/x-python",
   "name": "python",
   "nbconvert_exporter": "python",
   "pygments_lexer": "ipython3",
   "version": "3.7.6"
  }
 },
 "nbformat": 4,
 "nbformat_minor": 4
}
