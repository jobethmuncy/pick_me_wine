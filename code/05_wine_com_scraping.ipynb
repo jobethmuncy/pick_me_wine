{
 "cells": [
  {
   "cell_type": "markdown",
   "metadata": {},
   "source": [
    "# Wine.com"
   ]
  },
  {
   "cell_type": "code",
   "execution_count": 956,
   "metadata": {},
   "outputs": [],
   "source": [
    "import os\n",
    "import requests\n",
    "import numpy as np\n",
    "from bs4 import BeautifulSoup\n",
    "from pprint import pprint\n",
    "import pandas as pd\n",
    "import pickle\n",
    "import time\n",
    "import json"
   ]
  },
  {
   "cell_type": "markdown",
   "metadata": {},
   "source": [
    "Run in segments so I can add color and country."
   ]
  },
  {
   "cell_type": "code",
   "execution_count": null,
   "metadata": {},
   "outputs": [],
   "source": [
    "url= 'https://www.wine.com/list/wine/piedmont/red-wine/7155-107186-124/4'"
   ]
  },
  {
   "cell_type": "code",
   "execution_count": 1867,
   "metadata": {},
   "outputs": [
    {
     "name": "stdout",
     "output_type": "stream",
     "text": [
      "scraping Domaine Glinavos Zitsa Brut 2015\n"
     ]
    }
   ],
   "source": [
    "\n",
    "\n",
    "res = requests.get(url)\n",
    "soup = BeautifulSoup(res.content, 'lxml')\n",
    "\n",
    "each_listing = soup.find('ul', {'class': 'prodList'})\n",
    "\n",
    "wines = []\n",
    "\n",
    "# for wine_listing in each_listing.find_all('li'):\n",
    "#     print(wine_listing)\n",
    "for wine_listing in each_listing.find_all('div', {'class': 'prodItemInfo'}):\n",
    "    wine = {}\n",
    "    \n",
    "    wine['name'] = wine_listing.find('a').text\n",
    "    wine['url'] = f'https://www.wine.com'+wine_listing.find('a')['href']\n",
    "    \n",
    "    if wine_listing.find('span', {'class': 'prodItemInfo_varietal'}):\n",
    "        wine['grape'] = wine_listing.find('span', {'class': 'prodItemInfo_varietal'}).text\n",
    "    else: None\n",
    "    \n",
    "    if wine_listing.find('span', {'class': 'prodItemInfo_originText'}):\n",
    "        wine['region'] = wine_listing.find('span', {'class': 'prodItemInfo_originText'}).text\n",
    "    else: None\n",
    "    \n",
    "#     time.sleep(1)\n",
    "    wines.append(wine)\n",
    "    \n",
    "all_info = []\n",
    "\n",
    "for wine in wines:\n",
    "    print('scraping {}'.format(wine['name']))\n",
    "  \n",
    "    url = wine['url']\n",
    "    wine_res = requests.get(url)\n",
    "    wine_soup = BeautifulSoup(wine_res.content, 'lxml')\n",
    "    \n",
    "    for row in wine_soup.find_all('div', {'class': 'corePage winePage'}):\n",
    "        specs = {}\n",
    "        \n",
    "        specs['name'] = wine['name']\n",
    "        \n",
    "        specs['grape'] = wine['grape']\n",
    "        \n",
    "        specs['region'] = wine['region']\n",
    "        \n",
    "        if row.find('span', {'class': 'productPrice_price-regWhole'}):\n",
    "            specs['price'] = row.find('span', {'class': 'productPrice_price-regWhole'}).text\n",
    "        elif soup.find('span', {'class': 'productPrice_price-saleWhole'}):\n",
    "            specs['price'] = row.find('span', {'class': 'productPrice_price-saleWhole'}).text\n",
    "        else: None\n",
    "        \n",
    "        if row.find('span', {'class': 'prodAlcoholVolume_text'}):\n",
    "            specs['bottle_size'] = row.find('span', {'class': 'prodAlcoholVolume_text'}).text\n",
    "        else: None\n",
    "        \n",
    "        if row.find('div', {'class': 'viewMoreModule_text'}):\n",
    "            specs['winemaker_notes'] = row.find('div', {'class': 'viewMoreModule_text'}).text\n",
    "        else: None\n",
    "        \n",
    "        if row.find_all('div', {'class': 'pipProfessionalReviews_review'}):\n",
    "            specs['review'] = row.find_all('div', {'class': 'pipProfessionalReviews_review'})\n",
    "        else: None\n",
    "            \n",
    "        specs['url'] = wine['url']  \n",
    "#         time.sleep(1)   \n",
    "        all_info.append(specs)"
   ]
  },
  {
   "cell_type": "code",
   "execution_count": 1866,
   "metadata": {},
   "outputs": [],
   "source": [
    "url= 'https://www.wine.com/list/wine/greece/champagne-and-sparkling/7155-107245-123'    "
   ]
  },
  {
   "cell_type": "code",
   "execution_count": 1870,
   "metadata": {
    "scrolled": false
   },
   "outputs": [],
   "source": [
    "gr_sp = pd.DataFrame(all_info)"
   ]
  },
  {
   "cell_type": "markdown",
   "metadata": {},
   "source": [
    "# Concat and add columns\n",
    "Add `color` and `country` columns to each(`subregion` if available). "
   ]
  },
  {
   "cell_type": "markdown",
   "metadata": {},
   "source": [
    "### Greece - DONE"
   ]
  },
  {
   "cell_type": "code",
   "execution_count": 1871,
   "metadata": {},
   "outputs": [
    {
     "data": {
      "text/plain": [
       "(1, 9)"
      ]
     },
     "execution_count": 1871,
     "metadata": {},
     "output_type": "execute_result"
    }
   ],
   "source": [
    "greece_spark = pd.concat([gr_sp])\n",
    "greece_spark['country'] = 'greece'\n",
    "greece_spark['color'] = 'sparkling'\n",
    "# greece_spark.to_csv('../data/wine_com/greece_spark.csv', index=False)\n",
    "greece_spark.shape"
   ]
  },
  {
   "cell_type": "code",
   "execution_count": 1864,
   "metadata": {},
   "outputs": [
    {
     "data": {
      "text/plain": [
       "(6, 9)"
      ]
     },
     "execution_count": 1864,
     "metadata": {},
     "output_type": "execute_result"
    }
   ],
   "source": [
    "greece_rose = pd.concat([gr_rose])\n",
    "greece_rose['country'] = 'greece'\n",
    "greece_rose['color'] = 'rose'\n",
    "greece_rose.to_csv('../data/wine_com/greece_rose.csv', index=False)\n",
    "greece_rose.shape"
   ]
  },
  {
   "cell_type": "code",
   "execution_count": 1865,
   "metadata": {},
   "outputs": [
    {
     "data": {
      "text/plain": [
       "(24, 10)"
      ]
     },
     "execution_count": 1865,
     "metadata": {},
     "output_type": "execute_result"
    }
   ],
   "source": [
    "greece_red = pd.concat([gr_r])\n",
    "greece_red['country'] = 'greece'\n",
    "greece_red['color'] = 'red'\n",
    "# greece_red.to_csv('../data/wine_com/greece_red.csv', index=False)\n",
    "greece_red.shape"
   ]
  },
  {
   "cell_type": "code",
   "execution_count": null,
   "metadata": {},
   "outputs": [],
   "source": [
    "greece_white = pd.concat([gr_w, gr_w1])\n",
    "greece_white['country'] = 'greece'\n",
    "greece_white['color'] = 'white'\n",
    "# greece_white.to_csv('../data/wine_com/greece_white.csv', index=False)\n",
    "greece_white.shape"
   ]
  },
  {
   "cell_type": "code",
   "execution_count": 1874,
   "metadata": {},
   "outputs": [
    {
     "data": {
      "text/plain": [
       "(81, 10)"
      ]
     },
     "execution_count": 1874,
     "metadata": {},
     "output_type": "execute_result"
    }
   ],
   "source": [
    "all_greece = pd.concat([greece_red, greece_rose, greece_spark, greece_white])\n",
    "# all_greece.to_csv('../data/wine_com/all_greece.csv', index=False)\n",
    "all_greece.shape"
   ]
  },
  {
   "cell_type": "markdown",
   "metadata": {},
   "source": [
    "### Germany - DONE"
   ]
  },
  {
   "cell_type": "code",
   "execution_count": 1835,
   "metadata": {},
   "outputs": [
    {
     "data": {
      "text/plain": [
       "(2, 10)"
      ]
     },
     "execution_count": 1835,
     "metadata": {},
     "output_type": "execute_result"
    }
   ],
   "source": [
    "germany_rose = pd.concat([g_rose])\n",
    "germany_rose['country'] = 'germany'\n",
    "germany_rose['color'] = 'rose'\n",
    "# germany_rose.to_csv('../data/wine_com/germany_rose.csv', index=False)\n",
    "germany_rose.shape"
   ]
  },
  {
   "cell_type": "code",
   "execution_count": 1827,
   "metadata": {},
   "outputs": [
    {
     "data": {
      "text/plain": [
       "(3, 10)"
      ]
     },
     "execution_count": 1827,
     "metadata": {},
     "output_type": "execute_result"
    }
   ],
   "source": [
    "germany_des = pd.concat([g_des])\n",
    "germany_des['country'] = 'germany'\n",
    "germany_des['color'] = 'white'\n",
    "# germany_des.to_csv('../data/wine_com/germany_des.csv', index=False)\n",
    "germany_des.shape"
   ]
  },
  {
   "cell_type": "code",
   "execution_count": 1814,
   "metadata": {},
   "outputs": [
    {
     "data": {
      "text/plain": [
       "(11, 10)"
      ]
     },
     "execution_count": 1814,
     "metadata": {},
     "output_type": "execute_result"
    }
   ],
   "source": [
    "germany_sparkling = pd.concat([g])\n",
    "germany_sparkling['country'] = 'germany'\n",
    "germany_sparkling['color'] = 'sparkling'\n",
    "# germany_sparkling.to_csv('../data/wine_com/germany_sparkling.csv', index=False)\n",
    "germany_sparkling.shape"
   ]
  },
  {
   "cell_type": "code",
   "execution_count": 1822,
   "metadata": {},
   "outputs": [
    {
     "data": {
      "text/plain": [
       "(20, 10)"
      ]
     },
     "execution_count": 1822,
     "metadata": {},
     "output_type": "execute_result"
    }
   ],
   "source": [
    "germany_red = pd.concat([g_red])\n",
    "germany_red['country'] = 'germany'\n",
    "germany_red['color'] = 'red'\n",
    "# germany_red.to_csv('../data/wine_com/germany_red.csv', index=False)\n",
    "germany_red.shape"
   ]
  },
  {
   "cell_type": "code",
   "execution_count": 1790,
   "metadata": {
    "scrolled": true
   },
   "outputs": [
    {
     "data": {
      "text/plain": [
       "(150, 10)"
      ]
     },
     "execution_count": 1790,
     "metadata": {},
     "output_type": "execute_result"
    }
   ],
   "source": [
    "germany_white = pd.concat([g, g1, g2, g3, g4, g5])\n",
    "germany_white['country'] = 'germany'\n",
    "germany_white['color'] = 'white'\n",
    "# germany_white.to_csv('../data/wine_com/germany_white.csv', index=False)\n",
    "germany_white.shape"
   ]
  },
  {
   "cell_type": "code",
   "execution_count": 1834,
   "metadata": {},
   "outputs": [
    {
     "data": {
      "text/plain": [
       "(186, 10)"
      ]
     },
     "execution_count": 1834,
     "metadata": {},
     "output_type": "execute_result"
    }
   ],
   "source": [
    "all_germany = pd.concat([germany_white, germany_sparkling, germany_rose, germany_red, germany_des])\n",
    "# all_germany.to_csv('../data/wine_com/all_germany.csv')\n",
    "all_germany.shape"
   ]
  },
  {
   "cell_type": "markdown",
   "metadata": {},
   "source": [
    "### Spain - DONE"
   ]
  },
  {
   "cell_type": "code",
   "execution_count": 1454,
   "metadata": {},
   "outputs": [],
   "source": [
    "spain_rose = pd.concat([s])\n",
    "spain_rose['country'] = 'spain'\n",
    "spain_rose['color'] = 'rose'\n",
    "# spain_rose.to_csv('../data/wine_com/spain_rose.csv', index=False)"
   ]
  },
  {
   "cell_type": "code",
   "execution_count": 1449,
   "metadata": {},
   "outputs": [],
   "source": [
    "spain_sparkling = pd.concat([s, s1, s2])\n",
    "spain_sparkling['country'] = 'spain'\n",
    "spain_sparkling['color'] = 'sparkling'\n",
    "# spain_sparkling.to_csv('../data/wine_com/spain_sparkling.csv', index=False)"
   ]
  },
  {
   "cell_type": "code",
   "execution_count": 1797,
   "metadata": {},
   "outputs": [],
   "source": [
    "spain_dessert = pd.concat([s])\n",
    "spain_dessert['country'] = 'spain'\n",
    "spain_dessert['color'] = ''\n",
    "spain_dessert.loc[0, ('color')] = 'red'\n",
    "spain_dessert.loc[1, ('color')] = 'white'\n",
    "spain_dessert.loc[2, ('color')] = 'red'\n",
    "spain_dessert.loc[3, ('color')] = 'sherry'\n",
    "spain_dessert.loc[4, ('color')] = 'red'\n",
    "spain_dessert.loc[5:7, ('color')] = 'sherry'\n",
    "spain_dessert.loc[8, ('color')] = 'red'\n",
    "spain_dessert.loc[9:10, ('color')] = 'sherry'\n",
    "spain_dessert.loc[11, ('color')] = 'white'\n",
    "spain_dessert.loc[12:15, ('color')] = 'sherry'\n",
    "spain_dessert.loc[16, ('color')] = 'white'\n",
    "spain_dessert.loc[17:20, ('color')] = 'sherry'\n",
    "spain_dessert.loc[21, ('color')] = 'white'\n",
    "spain_dessert.loc[22:24, ('color')] = 'sherry'\n",
    "# spain_dessert.to_csv('../data/wine_com/spain_dessert.csv', index=False)"
   ]
  },
  {
   "cell_type": "code",
   "execution_count": 1406,
   "metadata": {},
   "outputs": [],
   "source": [
    "spain_white = pd.concat([s, s1, s2, s3, s4, s5])\n",
    "spain_white['country'] = 'spain'\n",
    "spain_white['color'] = 'white'\n",
    "# spain_white.to_csv('../data/wine_com/spain_white.csv', index=False)"
   ]
  },
  {
   "cell_type": "code",
   "execution_count": 1375,
   "metadata": {},
   "outputs": [],
   "source": [
    "spain_red = pd.concat([s1, s2, s3, s4, s5, s6, s7, s8, s9, s10, s11, s12, s13, s14, s15, s16, s17])\n",
    "spain_red['country'] = 'spain'\n",
    "spain_red['color'] = 'red'\n",
    "# spain_red.to_csv('../data/wine_com/spain_red.csv', index=False)"
   ]
  },
  {
   "cell_type": "code",
   "execution_count": null,
   "metadata": {},
   "outputs": [],
   "source": [
    "all_spain = pd.concat([spain_red, spain_white, spain_rose, spain_sparkling, spain_dessert])\n",
    "# all_spain.to_csv('../data/wine_com/all_spain.csv', index=False)\n",
    "all_spain.shape"
   ]
  },
  {
   "cell_type": "markdown",
   "metadata": {},
   "source": [
    "### Italy - DONE"
   ]
  },
  {
   "cell_type": "code",
   "execution_count": 1254,
   "metadata": {},
   "outputs": [],
   "source": [
    "it_pie_rose = pd.concat([c])\n",
    "it_pie_rose['country'] = 'italy'\n",
    "it_pie_rose['color'] = 'rose'\n",
    "it_pie_rose['subregion'] = 'piedmont'\n",
    "\n",
    "it_pie_rose.to_csv('../data/wine_com/it_pie_rose.csv', index=False)"
   ]
  },
  {
   "cell_type": "code",
   "execution_count": 1879,
   "metadata": {},
   "outputs": [],
   "source": [
    "it_pie_dessert = pd.concat([c])\n",
    "it_pie_dessert['country'] = 'italy'\n",
    "it_pie_dessert['color'] = 'other'\n",
    "it_pie_dessert['subregion'] = 'piedmont'\n",
    "\n",
    "# it_pie_dessert.to_csv('../data/wine_com/it_pie_dessert.csv', index=False)\n",
    "it_pie_dessert = pd.read_csv('../data/wine_com/it_pie_dessert.csv')"
   ]
  },
  {
   "cell_type": "code",
   "execution_count": 1244,
   "metadata": {},
   "outputs": [],
   "source": [
    "it_pie_sparkling = pd.concat([c])\n",
    "it_pie_sparkling['country'] = 'italy'\n",
    "it_pie_sparkling['color'] = 'sparkling'\n",
    "it_pie_sparkling['subregion'] = 'piedmont'\n",
    "\n",
    "# it_pie_sparkling.to_csv('../data/wine_com/it_pie_sparkling.csv', index=False)"
   ]
  },
  {
   "cell_type": "code",
   "execution_count": 1234,
   "metadata": {},
   "outputs": [],
   "source": [
    "it_pie_white = pd.concat([c, c1])\n",
    "it_pie_white['country'] = 'italy'\n",
    "it_pie_white['color'] = 'white'\n",
    "it_pie_white['subregion'] = 'piedmont'\n",
    "\n",
    "# it_pie_white.to_csv('../data/wine_com/it_pie_white.csv', index=False)"
   ]
  },
  {
   "cell_type": "code",
   "execution_count": 1223,
   "metadata": {},
   "outputs": [],
   "source": [
    "it_pie_red = pd.concat([c, c1, c2, c3, c4, c5, c6, c7, c8, c9, c10, c11, c12, c13, c14, c15, c16, c17])\n",
    "it_pie_red['country'] = 'italy'\n",
    "it_pie_red['color'] = 'red'\n",
    "it_pie_red['subregion'] = 'piedmont'\n",
    "\n",
    "# it_pie_red.to_csv('../data/wine_com/it_pie_red.csv', index=False)"
   ]
  },
  {
   "cell_type": "code",
   "execution_count": 1126,
   "metadata": {},
   "outputs": [],
   "source": [
    "it_tuscany_dessert = pd.concat([c])\n",
    "it_tuscany_dessert['country'] = 'italy'\n",
    "it_tuscany_dessert['color'] = 'red'\n",
    "it_tuscany_dessert['subregion'] = 'tuscany'\n",
    "\n",
    "# it_tuscany_dessert.to_csv('../data/wine_com/it_tuscany_dessert.csv', index=False)"
   ]
  },
  {
   "cell_type": "code",
   "execution_count": 1123,
   "metadata": {},
   "outputs": [],
   "source": [
    "it_tuscany_rose = pd.concat([c])\n",
    "it_tuscany_rose['country'] = 'italy'\n",
    "it_tuscany_rose['color'] = 'rose'\n",
    "it_tuscany_rose['subregion'] = 'tuscany'\n",
    "\n",
    "# it_tuscany_rose.to_csv('../data/wine_com/it_tuscany_rose.csv', index=False)"
   ]
  },
  {
   "cell_type": "code",
   "execution_count": 1118,
   "metadata": {},
   "outputs": [],
   "source": [
    "it_tuscany_white = pd.concat([c, c1])\n",
    "it_tuscany_white['country'] = 'italy'\n",
    "it_tuscany_white['color'] = 'white'\n",
    "it_tuscany_white['subregion'] = 'tuscany'\n",
    "\n",
    "# it_tuscany_white.to_csv('../data/wine_com/it_tuscany_white.csv', index=False)"
   ]
  },
  {
   "cell_type": "code",
   "execution_count": 1109,
   "metadata": {},
   "outputs": [],
   "source": [
    "it_tuscany_red = pd.concat([c, c1, c2, c3, c4, c5, c6, c7, c8, c9, c10, c11, c12, c13, c14, \n",
    "                            c15, c16, c17, c18, c19, c20])\n",
    "it_tuscany_red['country'] = 'italy'\n",
    "it_tuscany_red['color'] = 'red'\n",
    "it_tuscany_red['subregion'] = 'tuscany'\n",
    "\n",
    "# it_tuscany_red.to_csv('../data/wine_com/it_tuscany_red.csv', index=False)"
   ]
  },
  {
   "cell_type": "code",
   "execution_count": 1882,
   "metadata": {},
   "outputs": [
    {
     "data": {
      "text/plain": [
       "(1144, 11)"
      ]
     },
     "execution_count": 1882,
     "metadata": {},
     "output_type": "execute_result"
    }
   ],
   "source": [
    "all_italy = pd.concat([it_tuscany_red, it_tuscany_white, it_tuscany_rose, it_tuscany_dessert, \n",
    "                       it_pie_dessert, it_pie_red, it_pie_rose, it_pie_white, it_pie_sparkling])\n",
    "# all_italy.to_csv('../data/wine_com/all_italy.csv', index=False)\n",
    "all_italy.shape"
   ]
  },
  {
   "cell_type": "markdown",
   "metadata": {},
   "source": [
    "### France"
   ]
  },
  {
   "cell_type": "code",
   "execution_count": 1736,
   "metadata": {},
   "outputs": [
    {
     "data": {
      "text/plain": [
       "(3, 11)"
      ]
     },
     "execution_count": 1736,
     "metadata": {},
     "output_type": "execute_result"
    }
   ],
   "source": [
    "fr_burg_rose = pd.concat([s])\n",
    "fr_burg_rose['country'] = 'france'\n",
    "fr_burg_rose['color'] = 'rose'\n",
    "fr_burg_rose['subregion'] = 'burgundy'\n",
    "# fr_burg_rose.to_csv('../data/wine_com/fr_burg_rose.csv', index=False)\n",
    "fr_burg_rose.shape"
   ]
  },
  {
   "cell_type": "code",
   "execution_count": 1728,
   "metadata": {},
   "outputs": [
    {
     "data": {
      "text/plain": [
       "(24, 11)"
      ]
     },
     "execution_count": 1728,
     "metadata": {},
     "output_type": "execute_result"
    }
   ],
   "source": [
    "fr_burg_sparkling = pd.concat([s])\n",
    "fr_burg_sparkling['country'] = 'france'\n",
    "fr_burg_sparkling['color'] = 'sparkling'\n",
    "fr_burg_sparkling['subregion'] = 'burgundy'\n",
    "# fr_burg_sparkling.to_csv('../data/wine_com/fr_burg_sparkling.csv', index=False)\n",
    "fr_burg_sparkling.shape"
   ]
  },
  {
   "cell_type": "code",
   "execution_count": 1721,
   "metadata": {},
   "outputs": [
    {
     "data": {
      "text/plain": [
       "(500, 11)"
      ]
     },
     "execution_count": 1721,
     "metadata": {},
     "output_type": "execute_result"
    }
   ],
   "source": [
    "fr_burg_white = pd.concat([b, b1, b2, b3, b4, b5, b6, b7, b8, b9, b10, b11, b12, b13, b14, b15, b16, b17, b18, b19])\n",
    "fr_burg_white['country'] = 'france'\n",
    "fr_burg_white['color'] = 'white'\n",
    "fr_burg_white['subregion'] = 'burgundy'\n",
    "# fr_burg_white.to_csv('../data/wine_com/fr_burg_white.csv', index=False)\n",
    "fr_burg_white.shape"
   ]
  },
  {
   "cell_type": "code",
   "execution_count": 1636,
   "metadata": {},
   "outputs": [
    {
     "data": {
      "text/plain": [
       "(650, 11)"
      ]
     },
     "execution_count": 1636,
     "metadata": {},
     "output_type": "execute_result"
    }
   ],
   "source": [
    "fr_burg_red = pd.concat([s, s1, s2, s3, s4, s5, s6, s7, s8, s9, s10, s11, s12, \n",
    "                         s13, s14, s15, s16, s17, s18, s19, s20, s21, s22, s23, \n",
    "                         s24, s25])\n",
    "fr_burg_red['country'] = 'france'\n",
    "fr_burg_red['color'] = 'red'\n",
    "fr_burg_red['subregion'] = 'burgundy'\n",
    "# fr_burg_red.to_csv('../data/wine_com/fr_burg_red.csv', index=False)\n",
    "fr_burg_red.shape"
   ]
  },
  {
   "cell_type": "code",
   "execution_count": 908,
   "metadata": {},
   "outputs": [],
   "source": [
    "fr_bord_rose = pd.concat([c])\n",
    "fr_bord_rose['country'] = 'france'\n",
    "fr_bord_rose['color'] = 'rose'\n",
    "fr_bord_rose['subregion'] = 'bordeaux'\n",
    "# fr_bord_rose.to_csv('../data/wine_com/fr_bord_rose.csv', index=False)"
   ]
  },
  {
   "cell_type": "code",
   "execution_count": 905,
   "metadata": {},
   "outputs": [],
   "source": [
    "fr_bord_dessert = pd.concat([c])\n",
    "fr_bord_dessert['country'] = 'france'\n",
    "fr_bord_dessert['subregion'] = 'bordeaux'\n",
    "fr_bord_dessert['color'] = 'white'\n",
    "# fr_bord_dessert.to_csv('../data/wine_com/fr_bord_dessert.csv', index=False)"
   ]
  },
  {
   "cell_type": "code",
   "execution_count": 892,
   "metadata": {},
   "outputs": [],
   "source": [
    "fr_bord_white = pd.concat([c, c1, c2])\n",
    "fr_bord_white['country'] = 'france'\n",
    "fr_bord_white['color'] = 'white'\n",
    "fr_bord_white['subregion'] = 'bordeaux'\n",
    "# fr_bord_white.to_csv('../data/wine_com/fr_bord_white.csv', index=False)"
   ]
  },
  {
   "cell_type": "code",
   "execution_count": 711,
   "metadata": {},
   "outputs": [],
   "source": [
    "fr_bord_red = pd.concat([c, c1, c3, c4, c5, c6, c7, c8, c9, c10, c11, c12, c13, c14, c15, \n",
    "                         c16, c17, c18, c19, c20, c21, c22, c23])\n",
    "fr_bord_red['country'] = 'france'\n",
    "fr_bord_red['color'] = 'red'\n",
    "fr_bord_red['subregion'] = 'bordeaux'\n",
    "\n",
    "# fr_bord_red.to_csv('../data/wine_com/fr_bord_red.csv', index=False)"
   ]
  },
  {
   "cell_type": "code",
   "execution_count": 1267,
   "metadata": {},
   "outputs": [],
   "source": [
    "fr_champ = pd.concat([c, c1, c2, c3, c4, c5, c6, c7, c8, c9, c10, c11])\n",
    "fr_champ['country'] = 'france'\n",
    "fr_champ['color'] = 'sparkling'\n",
    "fr_champ['subregion'] = 'champagne'\n",
    "# fr_champ.to_csv('../data/wine_com/fr_champ.csv', index=False)"
   ]
  },
  {
   "cell_type": "code",
   "execution_count": null,
   "metadata": {},
   "outputs": [],
   "source": [
    "all_france = pd.concat([fr_champ, fr_bord_red, fr_bord_white, fr_bord_dessert, fr_bord_rose, \n",
    "                        fr_burg_red, fr_burg_white, fr_burg_sparkling, fr_burg_rose])\n",
    "# all_france.to_csv('../data/wine_com/all_france.csv', index=False)\n",
    "all_france.shape"
   ]
  },
  {
   "cell_type": "markdown",
   "metadata": {},
   "source": [
    "### California - DONE"
   ]
  },
  {
   "cell_type": "code",
   "execution_count": 14,
   "metadata": {},
   "outputs": [],
   "source": [
    "all_ca_white = pd.concat([ca_white, ca_white2, ca_white3, ca_white4, ca_white5, ca_white6, ca_white7, ca_white8, \n",
    "                          ca_white9, ca_white10, ca_white11, ca_white12, ca_white13, ca_white14, ca_white15, \n",
    "                          ca_white16, ca_white17, ca_white18, ca_white19, ca_white20, ca_white21, ca_white22, \n",
    "                          ca_white23, ca_white24, ca_white25, ca_white25, ca_white26, ca_white27, ca_white28, \n",
    "                          ca_white29, ca_white30, ca_white31, ca_white32])\n",
    "\n",
    "all_ca_white['country'] = 'usa'\n",
    "all_ca_white['color'] = 'white'\n",
    "\n",
    "# ca_white.to_csv('../data/wine_com/ca_white.csv', index=False)\n"
   ]
  },
  {
   "cell_type": "code",
   "execution_count": 1093,
   "metadata": {
    "scrolled": true
   },
   "outputs": [
    {
     "ename": "NameError",
     "evalue": "name 'ca_1' is not defined",
     "output_type": "error",
     "traceback": [
      "\u001b[0;31m---------------------------------------------------------------------------\u001b[0m",
      "\u001b[0;31mNameError\u001b[0m                                 Traceback (most recent call last)",
      "\u001b[0;32m<ipython-input-1093-9f6f4ab7561c>\u001b[0m in \u001b[0;36m<module>\u001b[0;34m\u001b[0m\n\u001b[1;32m      1\u001b[0m \u001b[0;31m# there are more but for the interst of time stopping here\u001b[0m\u001b[0;34m\u001b[0m\u001b[0;34m\u001b[0m\u001b[0;34m\u001b[0m\u001b[0m\n\u001b[0;32m----> 2\u001b[0;31m all_ca_red = pd.concat([ca_1, ca_2, ca_3, ca_4, ca_5, ca_6, ca_7, ca_8, ca_9, ca_10, ca_11, ca_12, \n\u001b[0m\u001b[1;32m      3\u001b[0m                         \u001b[0mca_13\u001b[0m\u001b[0;34m,\u001b[0m \u001b[0mca_14\u001b[0m\u001b[0;34m,\u001b[0m \u001b[0mca_15\u001b[0m\u001b[0;34m,\u001b[0m \u001b[0mca_16\u001b[0m\u001b[0;34m,\u001b[0m \u001b[0mca_17\u001b[0m\u001b[0;34m,\u001b[0m \u001b[0mca_18\u001b[0m\u001b[0;34m,\u001b[0m \u001b[0mca_19\u001b[0m\u001b[0;34m,\u001b[0m \u001b[0mca_20\u001b[0m\u001b[0;34m,\u001b[0m \u001b[0mca_21\u001b[0m\u001b[0;34m,\u001b[0m \u001b[0mca_22\u001b[0m\u001b[0;34m,\u001b[0m \u001b[0mca23\u001b[0m\u001b[0;34m,\u001b[0m\u001b[0;34m\u001b[0m\u001b[0;34m\u001b[0m\u001b[0m\n\u001b[1;32m      4\u001b[0m                         \u001b[0mca24\u001b[0m\u001b[0;34m,\u001b[0m \u001b[0mca25\u001b[0m\u001b[0;34m,\u001b[0m \u001b[0mca26\u001b[0m\u001b[0;34m,\u001b[0m \u001b[0mca27\u001b[0m\u001b[0;34m,\u001b[0m \u001b[0mca28\u001b[0m\u001b[0;34m,\u001b[0m \u001b[0mca29\u001b[0m\u001b[0;34m,\u001b[0m \u001b[0mca30\u001b[0m\u001b[0;34m,\u001b[0m \u001b[0mca31\u001b[0m\u001b[0;34m,\u001b[0m \u001b[0mca32\u001b[0m\u001b[0;34m,\u001b[0m \u001b[0mca33\u001b[0m\u001b[0;34m,\u001b[0m \u001b[0mca34\u001b[0m\u001b[0;34m,\u001b[0m \u001b[0mca35\u001b[0m\u001b[0;34m,\u001b[0m \u001b[0mca36\u001b[0m\u001b[0;34m,\u001b[0m\u001b[0;34m\u001b[0m\u001b[0;34m\u001b[0m\u001b[0m\n\u001b[1;32m      5\u001b[0m                         \u001b[0mca37\u001b[0m\u001b[0;34m,\u001b[0m \u001b[0mca38\u001b[0m\u001b[0;34m,\u001b[0m \u001b[0mca39\u001b[0m\u001b[0;34m,\u001b[0m \u001b[0mca40\u001b[0m\u001b[0;34m,\u001b[0m \u001b[0mca41\u001b[0m\u001b[0;34m,\u001b[0m \u001b[0mca42\u001b[0m\u001b[0;34m,\u001b[0m \u001b[0mca43\u001b[0m\u001b[0;34m,\u001b[0m \u001b[0mca44\u001b[0m\u001b[0;34m,\u001b[0m \u001b[0mca45\u001b[0m\u001b[0;34m,\u001b[0m \u001b[0mca46\u001b[0m\u001b[0;34m,\u001b[0m \u001b[0mca47\u001b[0m\u001b[0;34m,\u001b[0m \u001b[0mca48\u001b[0m\u001b[0;34m,\u001b[0m \u001b[0mca49\u001b[0m\u001b[0;34m,\u001b[0m\u001b[0;34m\u001b[0m\u001b[0;34m\u001b[0m\u001b[0m\n",
      "\u001b[0;31mNameError\u001b[0m: name 'ca_1' is not defined"
     ]
    }
   ],
   "source": [
    "# there are more but for the interst of time stopping here\n",
    "all_ca_red = pd.concat([ca_1, ca_2, ca_3, ca_4, ca_5, ca_6, ca_7, ca_8, ca_9, ca_10, ca_11, ca_12, \n",
    "                        ca_13, ca_14, ca_15, ca_16, ca_17, ca_18, ca_19, ca_20, ca_21, ca_22, ca23, \n",
    "                        ca24, ca25, ca26, ca27, ca28, ca29, ca30, ca31, ca32, ca33, ca34, ca35, ca36, \n",
    "                        ca37, ca38, ca39, ca40, ca41, ca42, ca43, ca44, ca45, ca46, ca47, ca48, ca49, \n",
    "                        ca50, ca51, ca52, ca53, ca54, ca55, ca56, ca57, ca58, ca59, ca60, ca61, ca62, \n",
    "                        ca63, ca64, ca65, ca66, ca67, ca68, ca69, ca70, ca71, ca72, ca73, ca74, ca75, \n",
    "                        ca76, ca77, ca78, ca79, ca81, ca82, ca83, ca84, ca85, ca86, ca87, ca88, \n",
    "                        ca89, ca90, ca91, ca92, ca93, ca94, ca96])\n",
    "all_ca_red['country'] = 'usa'\n",
    "all_ca_red['color'] = 'red'\n",
    "# ca_red.to_csv('../data/wine_com/ca_red.csv', index=False)"
   ]
  },
  {
   "cell_type": "code",
   "execution_count": 47,
   "metadata": {},
   "outputs": [],
   "source": [
    "ca_sparkling = pd.concat([ca1, ca2, ca3, ca4])\n",
    "ca_sparkling['country'] = 'usa'\n",
    "ca_sparkling['color'] = 'sparkling'\n",
    "# ca_sparkling.to_csv('../data/wine_com/ca_sparkling.csv', index=False)"
   ]
  },
  {
   "cell_type": "code",
   "execution_count": 54,
   "metadata": {},
   "outputs": [],
   "source": [
    "ca_rose = pd.concat([ca1, ca2, ca3, ca4])\n",
    "ca_rose['country'] = 'usa'\n",
    "ca_rose['color'] = 'rose'\n",
    "# ca_rose.to_csv('../data/wine_com/ca_rose.csv', index=False)"
   ]
  },
  {
   "cell_type": "code",
   "execution_count": 1887,
   "metadata": {},
   "outputs": [],
   "source": [
    "ca_dessert = pd.concat([ca])\n",
    "ca_dessert['country'] = 'usa'\n",
    "ca_dessert['color'] = 'other'\n",
    "# ca_dessert.to_csv('../data/wine_com/ca_dessert.csv', index=False)\n",
    "ca_dessert = pd.read_csv('../data/wine_com/ca_dessert.csv')"
   ]
  },
  {
   "cell_type": "code",
   "execution_count": 1890,
   "metadata": {},
   "outputs": [],
   "source": [
    "ca_red = pd.read_csv('../data/wine_com/ca_red.csv')\n",
    "ca_white = pd.read_csv('../data/wine_com/ca_white.csv')\n",
    "ca_sparkling = pd.read_csv('../data/wine_com/ca_sparkling.csv')\n",
    "ca_rose = pd.read_csv('../data/wine_com/ca_rose.csv')\n",
    "ca_dessert = pd.read_csv('../data/wine_com/ca_dessert.csv')\n",
    "\n",
    "all_ca = pd.concat([ca_red, ca_white, ca_sparkling, ca_rose, ca_dessert])\n",
    "# all_ca.to_csv('../data/wine_com/all_ca.csv', index=False)"
   ]
  },
  {
   "cell_type": "markdown",
   "metadata": {},
   "source": [
    "### Washington - DONE"
   ]
  },
  {
   "cell_type": "code",
   "execution_count": 176,
   "metadata": {},
   "outputs": [],
   "source": [
    "wa_red = pd.concat([wa, wa1, wa2, wa3, wa4, wa5, wa6, wa7])\n",
    "wa_red['country'] = 'usa'\n",
    "wa_red['color'] = 'red'\n",
    "# wa_red.to_csv('../data/wine_com/wa_red.csv', index=False)"
   ]
  },
  {
   "cell_type": "code",
   "execution_count": 206,
   "metadata": {},
   "outputs": [],
   "source": [
    "wa_white = pd.concat([wa, wa1, wa2])\n",
    "wa_white['country'] = 'usa'\n",
    "wa_white['color'] = 'white'\n",
    "# wa_white.to_csv('../data/wine_com/wa_white.csv', index=False)"
   ]
  },
  {
   "cell_type": "code",
   "execution_count": 216,
   "metadata": {},
   "outputs": [],
   "source": [
    "wa_rose = pd.concat([wa])\n",
    "wa_rose['country'] = 'usa'\n",
    "wa_rose['color'] = 'rose'\n",
    "# wa_rose.to_csv('../data/wine_com/wa_rose.csv', index=False)"
   ]
  },
  {
   "cell_type": "code",
   "execution_count": 222,
   "metadata": {},
   "outputs": [],
   "source": [
    "wa_sparkling = pd.concat([wa])\n",
    "wa_sparkling['country'] = 'usa'\n",
    "wa_sparkling['color'] = 'rose'\n",
    "# wa_sparkling.to_csv('../data/wine_com/wa_sparkling.csv', index=False)"
   ]
  },
  {
   "cell_type": "code",
   "execution_count": 1892,
   "metadata": {},
   "outputs": [],
   "source": [
    "wa_dessert = pd.concat([wa])\n",
    "wa_dessert['country'] = 'usa'\n",
    "wa_dessert['color'] = 'other'\n",
    "# wa_dessert.to_csv('../data/wine_com/wa_dessert.csv', index=False)"
   ]
  },
  {
   "cell_type": "code",
   "execution_count": 1893,
   "metadata": {},
   "outputs": [
    {
     "data": {
      "text/plain": [
       "(264, 10)"
      ]
     },
     "execution_count": 1893,
     "metadata": {},
     "output_type": "execute_result"
    }
   ],
   "source": [
    "wa_red = pd.read_csv('../data/wine_com/wa_red.csv')\n",
    "wa_white = pd.read_csv('../data/wine_com/wa_white.csv')\n",
    "wa_sparkling = pd.read_csv('../data/wine_com/wa_sparkling.csv')\n",
    "wa_dessert = pd.read_csv('../data/wine_com/wa_dessert.csv')\n",
    "all_wa = pd.concat([wa_red, wa_white, wa_sparkling, wa_dessert])\n",
    "\n",
    "# all_wa.to_csv('../data/wine_com/all_wa.csv', index=False)\n",
    "all_wa.shape"
   ]
  },
  {
   "cell_type": "markdown",
   "metadata": {},
   "source": [
    "### Orgeon - DONE"
   ]
  },
  {
   "cell_type": "code",
   "execution_count": 370,
   "metadata": {},
   "outputs": [
    {
     "data": {
      "text/plain": [
       "(296, 10)"
      ]
     },
     "execution_count": 370,
     "metadata": {},
     "output_type": "execute_result"
    }
   ],
   "source": [
    "org_red = pd.concat([org, org1, org2, org3, org4, org5, org6, org7, org8, org9, org10, org11])\n",
    "org_red['country'] = 'usa'\n",
    "org_red['color'] = 'red'\n",
    "# org_red.to_csv('../data/wine_com/org_red.csv', index=False)"
   ]
  },
  {
   "cell_type": "code",
   "execution_count": 412,
   "metadata": {},
   "outputs": [],
   "source": [
    "org_white = pd.concat([org, org1, org2, org3, org4])\n",
    "org_white['country'] = 'usa'\n",
    "org_white['color'] = 'white'\n",
    "# org_white.to_csv('../data/wine_com/org_white.csv', index=False)"
   ]
  },
  {
   "cell_type": "code",
   "execution_count": 425,
   "metadata": {},
   "outputs": [],
   "source": [
    "org_sparkling = pd.concat([org1])\n",
    "org_sparkling['country'] = 'usa'\n",
    "org_sparkling['color'] = 'sparkling'\n",
    "# org_sparkling.to_csv('../data/wine_com/org_sparkling.csv', index=False)"
   ]
  },
  {
   "cell_type": "code",
   "execution_count": 431,
   "metadata": {},
   "outputs": [],
   "source": [
    "org_rose = pd.concat([org1])\n",
    "org_rose['country'] = 'usa'\n",
    "org_rose['color'] = 'rose'\n",
    "# org_rose.to_csv('../data/wine_com/org_rose.csv', index=False)"
   ]
  },
  {
   "cell_type": "code",
   "execution_count": 1895,
   "metadata": {},
   "outputs": [],
   "source": [
    "org_dessert = pd.concat([org1])\n",
    "org_dessert['country'] = 'usa'\n",
    "org_dessert['color'] = 'other'\n",
    "# org_dessert.to_csv('../data/wine_com/org_dessert.csv', index=False)"
   ]
  },
  {
   "cell_type": "code",
   "execution_count": 1898,
   "metadata": {},
   "outputs": [
    {
     "data": {
      "text/plain": [
       "(420, 10)"
      ]
     },
     "execution_count": 1898,
     "metadata": {},
     "output_type": "execute_result"
    }
   ],
   "source": [
    "all_org = pd.concat([org_red, org_white, org_sparkling, org_rose, org_dessert])\n",
    "# all_org.to_csv('../data/wine_com/all_org.csv', index=False)\n",
    "all_org.shape"
   ]
  },
  {
   "cell_type": "markdown",
   "metadata": {},
   "source": [
    "## All wine"
   ]
  },
  {
   "cell_type": "code",
   "execution_count": 1900,
   "metadata": {},
   "outputs": [],
   "source": [
    "all_wine = pd.concat([all_ca, all_wa, all_org, all_france, all_italy, all_spain, all_germany, \n",
    "                      all_greece])\n",
    "# all_wine.to_csv('../data/wine_com/all_wine.csv', index=False)"
   ]
  },
  {
   "cell_type": "code",
   "execution_count": 1876,
   "metadata": {},
   "outputs": [
    {
     "data": {
      "text/plain": [
       "(8279, 11)"
      ]
     },
     "execution_count": 1876,
     "metadata": {},
     "output_type": "execute_result"
    }
   ],
   "source": [
    "all_wine.shape"
   ]
  }
 ],
 "metadata": {
  "kernelspec": {
   "display_name": "Python 3",
   "language": "python",
   "name": "python3"
  },
  "language_info": {
   "codemirror_mode": {
    "name": "ipython",
    "version": 3
   },
   "file_extension": ".py",
   "mimetype": "text/x-python",
   "name": "python",
   "nbconvert_exporter": "python",
   "pygments_lexer": "ipython3",
   "version": "3.7.6"
  }
 },
 "nbformat": 4,
 "nbformat_minor": 4
}
