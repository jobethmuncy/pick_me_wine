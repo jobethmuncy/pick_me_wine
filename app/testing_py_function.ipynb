{
 "cells": [
  {
   "cell_type": "markdown",
   "metadata": {},
   "source": [
    "# Testing for py"
   ]
  },
  {
   "cell_type": "code",
   "execution_count": 1,
   "metadata": {},
   "outputs": [],
   "source": [
    "# imports\n",
    "import pandas as pd\n",
    "import numpy as np\n",
    "from nltk.stem import WordNetLemmatizer\n",
    "from sklearn.feature_extraction.text import TfidfVectorizer\n",
    "import pickle\n",
    "import gensim\n",
    "from gensim.models import FastText\n",
    "import fasttext\n",
    "from flask import Flask, Response, request, jsonify, render_template\n",
    "\n",
    "# bring in data \n",
    "all_df = pd.read_csv('./for_flask.csv')\n",
    "red_df = pd.read_csv('./red_flask.csv')\n",
    "white_df = pd.read_csv('./white_flask.csv')\n",
    "rose_df = pd.read_csv('./rose_flask.csv')\n",
    "sparkling_df = pd.read_csv('./sparkling_flask.csv')\n",
    "other_df = pd.read_csv('./other_flask.csv')\n",
    "# recommender_df = pd.read_csv('./recommender_flask.csv')"
   ]
  },
  {
   "cell_type": "code",
   "execution_count": 2,
   "metadata": {},
   "outputs": [],
   "source": [
    "# bring in models\n",
    "# fast_text_all = pickle.load(open('model.all', 'rb'))\n",
    "fast_text_red = pickle.load(open('model.red', 'rb'))\n",
    "fast_text_white = pickle.load(open('model.white', 'rb'))\n",
    "fast_text_rose = pickle.load(open('model.rose', 'rb'))\n",
    "fast_text_sparkling = pickle.load(open('model.sparkling', 'rb'))\n",
    "fast_text_other = pickle.load(open('model.other', 'rb'))\n",
    "\n",
    "lemmatizer = WordNetLemmatizer()"
   ]
  },
  {
   "cell_type": "code",
   "execution_count": 3,
   "metadata": {},
   "outputs": [],
   "source": [
    "def what_are_words(values):\n",
    "    user_input = str(values)\n",
    "    fast_input = fast_text_white.wv.most_similar([user_input], topn=5)\n",
    "    user_input_word = [i[0] for i in fast_input]\n",
    "    check_for_similar = [lemmatizer.lemmatize(w) for w in user_input_word]\n",
    "    unique = set(check_for_similar)\n",
    "    return fast_input, unique"
   ]
  },
  {
   "cell_type": "code",
   "execution_count": 20,
   "metadata": {},
   "outputs": [
    {
     "data": {
      "text/plain": [
       "([('arinto', 0.9839025735855103),\n",
       "  ('drawn', 0.9776822924613953),\n",
       "  ('raspberry', 0.9770428538322449),\n",
       "  ('saffron', 0.9742101430892944),\n",
       "  ('smells', 0.9721004962921143)],\n",
       " {'arinto', 'drawn', 'raspberry', 'saffron', 'smell'})"
      ]
     },
     "execution_count": 20,
     "metadata": {},
     "output_type": "execute_result"
    }
   ],
   "source": [
    "a = what_are_words('tomato plant green bellpepper')\n",
    "a"
   ]
  },
  {
   "cell_type": "code",
   "execution_count": 26,
   "metadata": {},
   "outputs": [],
   "source": [
    "def red_matches(values):\n",
    "    user_input = str(values)\n",
    "    fast_input = fast_text_red.wv.most_similar([user_input], topn=3)\n",
    "    user_input = [i[0] for i in fast_input]\n",
    "    check_for_similar = [lemmatizer.lemmatize(w) for w in user_input]\n",
    "    unique = set(check_for_similar)\n",
    "    for word in unique: \n",
    "        contains_word = red_df[red_df['description_clean'].str.contains(word)]['name']\n",
    "\n",
    "        wines_with_words = []\n",
    "        for wine in contains_word:\n",
    "            wines_with_words.append(wine)\n",
    "#             location = all_df.loc[wines_with]\n",
    "    return np.random.choice(wines_with_words,5, replace=False).tolist()"
   ]
  },
  {
   "cell_type": "code",
   "execution_count": 27,
   "metadata": {},
   "outputs": [
    {
     "data": {
      "text/plain": [
       "'Ulysses Cabernet Sauvignon'"
      ]
     },
     "execution_count": 27,
     "metadata": {},
     "output_type": "execute_result"
    }
   ],
   "source": [
    "wines = red_matches('tannic cali red')\n",
    "wines[4]"
   ]
  },
  {
   "cell_type": "markdown",
   "metadata": {},
   "source": [
    "# Engineer and Transpose DataFrames for Flask \n",
    "Can use `all_df` data frame and just do this once"
   ]
  },
  {
   "cell_type": "code",
   "execution_count": 7,
   "metadata": {},
   "outputs": [],
   "source": [
    "# Capitalize Country for App appearance\n",
    "all_df['country'] = [row.title() for row in all_df['country']]"
   ]
  },
  {
   "cell_type": "code",
   "execution_count": 8,
   "metadata": {},
   "outputs": [
    {
     "data": {
      "text/plain": [
       "'sometimes want drink wine tastes good one wine spirits geeks astor occasionally technical details available products love ask drinking pleasurable experience certainly slightly dry full fresh fruit palate yellow apples meyer lemon blend light lively mix ller thurgau sylvaner pinot blanc offers best value house complex made traditional method super fresh easy drink details needs em tastes great drink eg foamy ripe yellow fruit delicate german sparkler great choice ap ritif drink light chill'"
      ]
     },
     "execution_count": 8,
     "metadata": {},
     "output_type": "execute_result"
    }
   ],
   "source": [
    "all_df['description_clean'][2]"
   ]
  },
  {
   "cell_type": "code",
   "execution_count": 9,
   "metadata": {},
   "outputs": [],
   "source": [
    "names = pd.concat([red_df['name'], red_df['url'], red_df['price'], red_df['country']], axis=1)\n",
    "names_red = names.set_index('name').T\n",
    "# names_red.to_csv('./names_red_columns.csv', index=False)"
   ]
  },
  {
   "cell_type": "code",
   "execution_count": 10,
   "metadata": {
    "scrolled": true
   },
   "outputs": [],
   "source": [
    "names_all = pd.concat([all_df['name'], all_df['url'], all_df['price'], \n",
    "                       all_df['country'], all_df['description']], axis=1)\n",
    "names_all = names_all.set_index('name').T\n",
    "# names_all.to_csv('./names_as_columns.csv', index=False)"
   ]
  },
  {
   "cell_type": "code",
   "execution_count": 13,
   "metadata": {},
   "outputs": [
    {
     "data": {
      "text/html": [
       "<div>\n",
       "<style scoped>\n",
       "    .dataframe tbody tr th:only-of-type {\n",
       "        vertical-align: middle;\n",
       "    }\n",
       "\n",
       "    .dataframe tbody tr th {\n",
       "        vertical-align: top;\n",
       "    }\n",
       "\n",
       "    .dataframe thead th {\n",
       "        text-align: right;\n",
       "    }\n",
       "</style>\n",
       "<table border=\"1\" class=\"dataframe\">\n",
       "  <thead>\n",
       "    <tr style=\"text-align: right;\">\n",
       "      <th>name</th>\n",
       "      <th>Skin Contact Silvaner \"Kleine Heimat,\" 2Naturkinder</th>\n",
       "      <th>Fledermaus Rot, 2Naturkinder</th>\n",
       "      <th>Sekt Weiss, 50o N NV</th>\n",
       "      <th>Fuga, Mencía, Ribeira Sacra</th>\n",
       "      <th>Cirò Rosso Classico Superiore, A Vita</th>\n",
       "      <th>Dhron Hofberg Riesling Kabinett, A.J. Adam</th>\n",
       "      <th>Areni \"L. 2017021\", Aaron Sedrick Rawlins</th>\n",
       "      <th>Bierzo Mencía, Abad Dom Bueno</th>\n",
       "      <th>The Abarbanel, \"Les Dolmens Rouges\" Cabernet Sauvignon</th>\n",
       "      <th>The Abarbanel, \"Les Chemins de Favarelle\" Chardonnay</th>\n",
       "      <th>...</th>\n",
       "      <th>Douloufakis Dafnios White</th>\n",
       "      <th>Biblia Chora Ovilos Regional White</th>\n",
       "      <th>Skouras Moscofilero</th>\n",
       "      <th>Domaine Glinavos Zitsa Debina</th>\n",
       "      <th>Biblia Chora Estate White</th>\n",
       "      <th>Biblia Chora Areti White</th>\n",
       "      <th>Alexakis Assyrtiko</th>\n",
       "      <th>Domaine Zafeirakis Chardonnay</th>\n",
       "      <th>Gaia Monograph Assyrtiko</th>\n",
       "      <th>Ktima Pavlidis Thema White</th>\n",
       "    </tr>\n",
       "  </thead>\n",
       "  <tbody>\n",
       "    <tr>\n",
       "      <th>url</th>\n",
       "      <td>https://www.astorwines.com/SearchResultsSingle...</td>\n",
       "      <td>https://www.astorwines.com/SearchResultsSingle...</td>\n",
       "      <td>https://www.astorwines.com/SearchResultsSingle...</td>\n",
       "      <td>https://www.astorwines.com/SearchResultsSingle...</td>\n",
       "      <td>https://www.astorwines.com/SearchResultsSingle...</td>\n",
       "      <td>https://www.astorwines.com/SearchResultsSingle...</td>\n",
       "      <td>https://www.astorwines.com/SearchResultsSingle...</td>\n",
       "      <td>https://www.astorwines.com/SearchResultsSingle...</td>\n",
       "      <td>https://www.astorwines.com/SearchResultsSingle...</td>\n",
       "      <td>https://www.astorwines.com/SearchResultsSingle...</td>\n",
       "      <td>...</td>\n",
       "      <td>https://www.wine.com/product/douloufakis-dafni...</td>\n",
       "      <td>https://www.wine.com/product/biblia-chora-ovil...</td>\n",
       "      <td>https://www.wine.com/product/skouras-moscofile...</td>\n",
       "      <td>https://www.wine.com/product/domaine-glinavos-...</td>\n",
       "      <td>https://www.wine.com/product/biblia-chora-esta...</td>\n",
       "      <td>https://www.wine.com/product/biblia-chora-aret...</td>\n",
       "      <td>https://www.wine.com/product/alexakis-assyrtik...</td>\n",
       "      <td>https://www.wine.com/product/domaine-zafeiraki...</td>\n",
       "      <td>https://www.wine.com/product/gaia-monograph-as...</td>\n",
       "      <td>https://www.wine.com/product/ktima-pavlidis-th...</td>\n",
       "    </tr>\n",
       "    <tr>\n",
       "      <th>price</th>\n",
       "      <td>24</td>\n",
       "      <td>0</td>\n",
       "      <td>14</td>\n",
       "      <td>0</td>\n",
       "      <td>21</td>\n",
       "      <td>23</td>\n",
       "      <td>0</td>\n",
       "      <td>14</td>\n",
       "      <td>0</td>\n",
       "      <td>0</td>\n",
       "      <td>...</td>\n",
       "      <td>17</td>\n",
       "      <td>41</td>\n",
       "      <td>18</td>\n",
       "      <td>21</td>\n",
       "      <td>28</td>\n",
       "      <td>28</td>\n",
       "      <td>18</td>\n",
       "      <td>22</td>\n",
       "      <td>18</td>\n",
       "      <td>21</td>\n",
       "    </tr>\n",
       "    <tr>\n",
       "      <th>country</th>\n",
       "      <td>Germany</td>\n",
       "      <td>Germany</td>\n",
       "      <td>Germany</td>\n",
       "      <td>Spain</td>\n",
       "      <td>Italy</td>\n",
       "      <td>Germany</td>\n",
       "      <td>Armenia</td>\n",
       "      <td>Spain</td>\n",
       "      <td>France</td>\n",
       "      <td>France</td>\n",
       "      <td>...</td>\n",
       "      <td>Greece</td>\n",
       "      <td>Greece</td>\n",
       "      <td>Greece</td>\n",
       "      <td>Greece</td>\n",
       "      <td>Greece</td>\n",
       "      <td>Greece</td>\n",
       "      <td>Greece</td>\n",
       "      <td>Greece</td>\n",
       "      <td>Greece</td>\n",
       "      <td>Greece</td>\n",
       "    </tr>\n",
       "    <tr>\n",
       "      <th>description</th>\n",
       "      <td>Made from 100% Silvaner, this white wine ferme...</td>\n",
       "      <td>Made from Schwartz Riesling (aka Pinot Meunier...</td>\n",
       "      <td>Sometimes you just want to drink a wine becaus...</td>\n",
       "      <td>FUGA MENCIAJust barely opaque, and dark garnet...</td>\n",
       "      <td>Here is a wine with a distinct, alluring chara...</td>\n",
       "      <td>For me wine is almost always part of a larger ...</td>\n",
       "      <td>With such a minimalist label and not much info...</td>\n",
       "      <td>A straightforward wine with berry, such as che...</td>\n",
       "      <td>A medium-bodied red wine with flavors of dark ...</td>\n",
       "      <td>Unoaked Chardonnay. Kosher for Passover and Me...</td>\n",
       "      <td>...</td>\n",
       "      <td>[&lt;p&gt;This is a refreshing, delicate vidiano, wi...</td>\n",
       "      <td>The 2018 Biblia Chora Ovilos Regional White ha...</td>\n",
       "      <td>The color is light white yellow. Opulent aroma...</td>\n",
       "      <td>A fine and youthful dry white wine with superb...</td>\n",
       "      <td>It has a pale green-yellow color with stark cl...</td>\n",
       "      <td>The Areti is produced from the Assyrtiko varie...</td>\n",
       "      <td>Bright yellow color with green hues. The bouqu...</td>\n",
       "      <td>Domaine Zafeirakis Chardonnay 2018</td>\n",
       "      <td>A youthful, intensely fruity Assyrtiko, with a...</td>\n",
       "      <td>This fragrant white possesses a multilayered b...</td>\n",
       "    </tr>\n",
       "  </tbody>\n",
       "</table>\n",
       "<p>4 rows × 11767 columns</p>\n",
       "</div>"
      ],
      "text/plain": [
       "name        Skin Contact Silvaner \"Kleine Heimat,\" 2Naturkinder  \\\n",
       "url          https://www.astorwines.com/SearchResultsSingle...    \n",
       "price                                                       24    \n",
       "country                                                Germany    \n",
       "description  Made from 100% Silvaner, this white wine ferme...    \n",
       "\n",
       "name                              Fledermaus Rot, 2Naturkinder  \\\n",
       "url          https://www.astorwines.com/SearchResultsSingle...   \n",
       "price                                                        0   \n",
       "country                                                Germany   \n",
       "description  Made from Schwartz Riesling (aka Pinot Meunier...   \n",
       "\n",
       "name                                      Sekt Weiss, 50o N NV  \\\n",
       "url          https://www.astorwines.com/SearchResultsSingle...   \n",
       "price                                                       14   \n",
       "country                                                Germany   \n",
       "description  Sometimes you just want to drink a wine becaus...   \n",
       "\n",
       "name                               Fuga, Mencía, Ribeira Sacra  \\\n",
       "url          https://www.astorwines.com/SearchResultsSingle...   \n",
       "price                                                        0   \n",
       "country                                                  Spain   \n",
       "description  FUGA MENCIAJust barely opaque, and dark garnet...   \n",
       "\n",
       "name                     Cirò Rosso Classico Superiore, A Vita  \\\n",
       "url          https://www.astorwines.com/SearchResultsSingle...   \n",
       "price                                                       21   \n",
       "country                                                  Italy   \n",
       "description  Here is a wine with a distinct, alluring chara...   \n",
       "\n",
       "name                Dhron Hofberg Riesling Kabinett, A.J. Adam  \\\n",
       "url          https://www.astorwines.com/SearchResultsSingle...   \n",
       "price                                                       23   \n",
       "country                                                Germany   \n",
       "description  For me wine is almost always part of a larger ...   \n",
       "\n",
       "name                 Areni \"L. 2017021\", Aaron Sedrick Rawlins  \\\n",
       "url          https://www.astorwines.com/SearchResultsSingle...   \n",
       "price                                                        0   \n",
       "country                                                Armenia   \n",
       "description  With such a minimalist label and not much info...   \n",
       "\n",
       "name                             Bierzo Mencía, Abad Dom Bueno  \\\n",
       "url          https://www.astorwines.com/SearchResultsSingle...   \n",
       "price                                                       14   \n",
       "country                                                  Spain   \n",
       "description  A straightforward wine with berry, such as che...   \n",
       "\n",
       "name        The Abarbanel, \"Les Dolmens Rouges\" Cabernet Sauvignon  \\\n",
       "url          https://www.astorwines.com/SearchResultsSingle...       \n",
       "price                                                        0       \n",
       "country                                                 France       \n",
       "description  A medium-bodied red wine with flavors of dark ...       \n",
       "\n",
       "name        The Abarbanel, \"Les Chemins de Favarelle\" Chardonnay  ...  \\\n",
       "url          https://www.astorwines.com/SearchResultsSingle...    ...   \n",
       "price                                                        0    ...   \n",
       "country                                                 France    ...   \n",
       "description  Unoaked Chardonnay. Kosher for Passover and Me...    ...   \n",
       "\n",
       "name                                 Douloufakis Dafnios White  \\\n",
       "url          https://www.wine.com/product/douloufakis-dafni...   \n",
       "price                                                       17   \n",
       "country                                                 Greece   \n",
       "description  [<p>This is a refreshing, delicate vidiano, wi...   \n",
       "\n",
       "name                        Biblia Chora Ovilos Regional White  \\\n",
       "url          https://www.wine.com/product/biblia-chora-ovil...   \n",
       "price                                                       41   \n",
       "country                                                 Greece   \n",
       "description  The 2018 Biblia Chora Ovilos Regional White ha...   \n",
       "\n",
       "name                                       Skouras Moscofilero  \\\n",
       "url          https://www.wine.com/product/skouras-moscofile...   \n",
       "price                                                       18   \n",
       "country                                                 Greece   \n",
       "description  The color is light white yellow. Opulent aroma...   \n",
       "\n",
       "name                             Domaine Glinavos Zitsa Debina  \\\n",
       "url          https://www.wine.com/product/domaine-glinavos-...   \n",
       "price                                                       21   \n",
       "country                                                 Greece   \n",
       "description  A fine and youthful dry white wine with superb...   \n",
       "\n",
       "name                                 Biblia Chora Estate White  \\\n",
       "url          https://www.wine.com/product/biblia-chora-esta...   \n",
       "price                                                       28   \n",
       "country                                                 Greece   \n",
       "description  It has a pale green-yellow color with stark cl...   \n",
       "\n",
       "name                                  Biblia Chora Areti White  \\\n",
       "url          https://www.wine.com/product/biblia-chora-aret...   \n",
       "price                                                       28   \n",
       "country                                                 Greece   \n",
       "description  The Areti is produced from the Assyrtiko varie...   \n",
       "\n",
       "name                                        Alexakis Assyrtiko  \\\n",
       "url          https://www.wine.com/product/alexakis-assyrtik...   \n",
       "price                                                       18   \n",
       "country                                                 Greece   \n",
       "description  Bright yellow color with green hues. The bouqu...   \n",
       "\n",
       "name                             Domaine Zafeirakis Chardonnay  \\\n",
       "url          https://www.wine.com/product/domaine-zafeiraki...   \n",
       "price                                                       22   \n",
       "country                                                 Greece   \n",
       "description                 Domaine Zafeirakis Chardonnay 2018   \n",
       "\n",
       "name                                  Gaia Monograph Assyrtiko  \\\n",
       "url          https://www.wine.com/product/gaia-monograph-as...   \n",
       "price                                                       18   \n",
       "country                                                 Greece   \n",
       "description  A youthful, intensely fruity Assyrtiko, with a...   \n",
       "\n",
       "name                                Ktima Pavlidis Thema White  \n",
       "url          https://www.wine.com/product/ktima-pavlidis-th...  \n",
       "price                                                       21  \n",
       "country                                                 Greece  \n",
       "description  This fragrant white possesses a multilayered b...  \n",
       "\n",
       "[4 rows x 11767 columns]"
      ]
     },
     "execution_count": 13,
     "metadata": {},
     "output_type": "execute_result"
    }
   ],
   "source": [
    "names_all"
   ]
  },
  {
   "cell_type": "code",
   "execution_count": null,
   "metadata": {},
   "outputs": [],
   "source": []
  }
 ],
 "metadata": {
  "kernelspec": {
   "display_name": "Python 3",
   "language": "python",
   "name": "python3"
  },
  "language_info": {
   "codemirror_mode": {
    "name": "ipython",
    "version": 3
   },
   "file_extension": ".py",
   "mimetype": "text/x-python",
   "name": "python",
   "nbconvert_exporter": "python",
   "pygments_lexer": "ipython3",
   "version": "3.7.6"
  }
 },
 "nbformat": 4,
 "nbformat_minor": 4
}
