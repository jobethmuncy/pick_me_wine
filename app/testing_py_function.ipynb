{
 "cells": [
  {
   "cell_type": "markdown",
   "metadata": {},
   "source": [
    "# Testing for py"
   ]
  },
  {
   "cell_type": "code",
   "execution_count": 1,
   "metadata": {},
   "outputs": [],
   "source": [
    "# imports\n",
    "import pandas as pd\n",
    "import numpy as np\n",
    "from nltk.stem import WordNetLemmatizer\n",
    "from sklearn.feature_extraction.text import TfidfVectorizer\n",
    "import pickle\n",
    "import gensim\n",
    "from gensim.models import FastText\n",
    "import fasttext\n",
    "from flask import Flask, Response, request, jsonify, render_template\n",
    "\n",
    "# bring in data \n",
    "all_df = pd.read_csv('./for_flask.csv')\n",
    "red_df = pd.read_csv('./red_flask.csv')\n",
    "white_df = pd.read_csv('./white_flask.csv')\n",
    "rose_df = pd.read_csv('./rose_flask.csv')\n",
    "sparkling_df = pd.read_csv('./sparkling_flask.csv')\n",
    "other_df = pd.read_csv('./other_flask.csv')\n",
    "# recommender_df = pd.read_csv('./recommender_flask.csv')"
   ]
  },
  {
   "cell_type": "code",
   "execution_count": 2,
   "metadata": {},
   "outputs": [],
   "source": [
    "# bring in models\n",
    "# fast_text_all = pickle.load(open('model.all', 'rb'))\n",
    "fast_text_red = pickle.load(open('model.red', 'rb'))\n",
    "fast_text_white = pickle.load(open('model.white', 'rb'))\n",
    "fast_text_rose = pickle.load(open('model.rose', 'rb'))\n",
    "fast_text_sparkling = pickle.load(open('model.sparkling', 'rb'))\n",
    "fast_text_other = pickle.load(open('model.other', 'rb'))\n",
    "\n",
    "lemmatizer = WordNetLemmatizer()"
   ]
  },
  {
   "cell_type": "code",
   "execution_count": 3,
   "metadata": {},
   "outputs": [],
   "source": [
    "def what_are_words(values):\n",
    "    user_input = str(values)\n",
    "    fast_input = fast_text_white.wv.most_similar([user_input], topn=5)\n",
    "    user_input_word = [i[0] for i in fast_input]\n",
    "    check_for_similar = [lemmatizer.lemmatize(w) for w in user_input_word]\n",
    "    unique = set(check_for_similar)\n",
    "    return fast_input, unique"
   ]
  },
  {
   "cell_type": "code",
   "execution_count": 4,
   "metadata": {},
   "outputs": [
    {
     "data": {
      "text/plain": [
       "'drawn'"
      ]
     },
     "execution_count": 4,
     "metadata": {},
     "output_type": "execute_result"
    }
   ],
   "source": [
    "a = what_are_words('tomato plant green bellpepper')\n",
    "a[0][1][0]"
   ]
  },
  {
   "cell_type": "code",
   "execution_count": 5,
   "metadata": {},
   "outputs": [],
   "source": [
    "def red_matches(values):\n",
    "    user_input = str(values)\n",
    "    fast_input = fast_text_red.wv.most_similar([user_input], topn=3)\n",
    "    user_input = [i[0] for i in fast_input]\n",
    "    check_for_similar = [lemmatizer.lemmatize(w) for w in user_input]\n",
    "    unique = set(check_for_similar)\n",
    "    for word in unique: \n",
    "        contains_word = red_df[red_df['description_clean'].str.contains(word)]['name']\n",
    "\n",
    "        wines_with_words = []\n",
    "        for wine in contains_word:\n",
    "            wines_with_words.append(wine)\n",
    "#             location = all_df.loc[wines_with]\n",
    "    return np.random.choice(wines_with_words,5, replace=False).tolist()"
   ]
  },
  {
   "cell_type": "code",
   "execution_count": 6,
   "metadata": {},
   "outputs": [
    {
     "data": {
      "text/plain": [
       "'Ulysses Cabernet Sauvignon'"
      ]
     },
     "execution_count": 6,
     "metadata": {},
     "output_type": "execute_result"
    }
   ],
   "source": [
    "wines = red_matches('tannic cali red')\n",
    "wines[4]"
   ]
  },
  {
   "cell_type": "markdown",
   "metadata": {},
   "source": [
    "# Engineer and Transpose DataFrames for Flask \n",
    "Can use `all_df` data frame and just do this once"
   ]
  },
  {
   "cell_type": "code",
   "execution_count": 7,
   "metadata": {},
   "outputs": [],
   "source": [
    "# Capitalize Country for App appearance\n",
    "all_df['country'] = [row.title() for row in all_df['country']]"
   ]
  },
  {
   "cell_type": "code",
   "execution_count": 8,
   "metadata": {
    "scrolled": true
   },
   "outputs": [
    {
     "data": {
      "text/plain": [
       "'sometimes want drink wine tastes good one wine spirits geeks astor occasionally technical details available products love ask drinking pleasurable experience certainly slightly dry full fresh fruit palate yellow apples meyer lemon blend light lively mix ller thurgau sylvaner pinot blanc offers best value house complex made traditional method super fresh easy drink details needs em tastes great drink eg foamy ripe yellow fruit delicate german sparkler great choice ap ritif drink light chill'"
      ]
     },
     "execution_count": 8,
     "metadata": {},
     "output_type": "execute_result"
    }
   ],
   "source": [
    "all_df['description_clean'][2]"
   ]
  },
  {
   "cell_type": "code",
   "execution_count": 10,
   "metadata": {
    "scrolled": true
   },
   "outputs": [
    {
     "data": {
      "text/plain": [
       "'[<p>Even if the wines tend to be more powerful, the 2014 Lindes de Remelluri Viñedos de San Vicente de la Sonsierra has less alcohol than the one from Labastida. None the less, the nose feels riper, w'"
      ]
     },
     "execution_count": 10,
     "metadata": {},
     "output_type": "execute_result"
    }
   ],
   "source": [
    "all_df['description'][11000][:200]"
   ]
  },
  {
   "cell_type": "code",
   "execution_count": 13,
   "metadata": {},
   "outputs": [],
   "source": [
    "all_df['description'] = [str(row).strip('[') for row in all_df['description']]\n",
    "all_df['description'] = [str(row).strip('<p>') for row in all_df['description']]\n",
    "all_df['description'] = [str(row).strip('<p>') for row in all_df['description']]\n",
    "all_df['description'] = [str(row).replace('<p>', '').strip() for row in all_df['descrip']]\n",
    "all_df['description'] = [str(row).strip('<p><span style=\"color: rgb(64, 64, 64);\">') for row in all_df['description']]\n"
   ]
  },
  {
   "cell_type": "code",
   "execution_count": 19,
   "metadata": {
    "scrolled": true
   },
   "outputs": [],
   "source": [
    "names_all = pd.concat([all_df['name'], all_df['url'], all_df['price'], \n",
    "                       all_df['country'], all_df['description']], axis=1)\n",
    "names_all = names_all.set_index('name').T\n",
    "# names_all.to_csv('./names_as_columns.csv', index=False)"
   ]
  },
  {
   "cell_type": "code",
   "execution_count": 18,
   "metadata": {},
   "outputs": [
    {
     "data": {
      "text/plain": [
       "url            https://www.wine.com/product/mongeard-mugneret...\n",
       "price                                                         79\n",
       "country                                                   France\n",
       "description    The 2017 Vosne-Romanée Village opens in the gl...\n",
       "Name: Mongeard-Mugneret Vosne-Romanee, dtype: object"
      ]
     },
     "execution_count": 18,
     "metadata": {},
     "output_type": "execute_result"
    }
   ],
   "source": [
    "names_all['Mongeard-Mugneret Vosne-Romanee']"
   ]
  },
  {
   "cell_type": "code",
   "execution_count": null,
   "metadata": {},
   "outputs": [],
   "source": []
  }
 ],
 "metadata": {
  "kernelspec": {
   "display_name": "Python 3",
   "language": "python",
   "name": "python3"
  },
  "language_info": {
   "codemirror_mode": {
    "name": "ipython",
    "version": 3
   },
   "file_extension": ".py",
   "mimetype": "text/x-python",
   "name": "python",
   "nbconvert_exporter": "python",
   "pygments_lexer": "ipython3",
   "version": "3.7.6"
  }
 },
 "nbformat": 4,
 "nbformat_minor": 4
}
